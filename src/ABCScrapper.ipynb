{
 "cells": [
  {
   "cell_type": "code",
   "execution_count": 1,
   "metadata": {
    "collapsed": true
   },
   "outputs": [],
   "source": [
    "import sys\n",
    "from PyQt5 import QtCore, QtWidgets, QtWebEngineWidgets\n",
    "from lxml import html as htmlRenderer\n",
    "import requests\n",
    "import json\n",
    "from datetime import date"
   ]
  },
  {
   "cell_type": "code",
   "execution_count": 2,
   "metadata": {
    "collapsed": true
   },
   "outputs": [],
   "source": [
    "allUrl = []\n",
    "\n",
    "class WebPage(QtWebEngineWidgets.QWebEnginePage):\n",
    "    def __init__(self):\n",
    "        super(WebPage, self).__init__()\n",
    "        self._newsAndComments = []\n",
    "        self._baseUrl = \"\"\n",
    "        self._firstPageProcessed = False;\n",
    "        self.loadFinished.connect(self.handleLoadFinished)\n",
    "\n",
    "    def start(self, baseUrl):\n",
    "        self._baseUrl = baseUrl\n",
    "        self.load(QtCore.QUrl(baseUrl))\n",
    "\n",
    "    def fetchNext(self):\n",
    "        try:\n",
    "            print(\" - fetch next url\")\n",
    "            url = next(self._urls)\n",
    "        except StopIteration:\n",
    "            return False\n",
    "        else:\n",
    "            self.load(QtCore.QUrl(url))\n",
    "        return True\n",
    "\n",
    "    def processCurrentPage(self, html):\n",
    "        url = self.url().toString()\n",
    "        renderedPage = htmlRenderer.fromstring(html)\n",
    "        print(\" -> processing base URL: {}\".format(url))\n",
    "        auxLinks = renderedPage.xpath(\"//a/@href\")\n",
    "        print(len(auxLinks))\n",
    "        print(\"==================================================================================================\")\n",
    "        allUrl = auxLinks\n",
    "        QtWidgets.qApp.quit()\n",
    "\n",
    "    def handleLoadFinished(self):\n",
    "        self.toHtml(self.processCurrentPage)\n"
   ]
  },
  {
   "cell_type": "code",
   "execution_count": 3,
   "metadata": {
    "collapsed": false,
    "scrolled": false
   },
   "outputs": [
    {
     "name": "stdout",
     "output_type": "stream",
     "text": [
      " -> processing base URL: https://www.abc.es/\n",
      "698\n",
      "==================================================================================================\n"
     ]
    },
    {
     "ename": "SystemExit",
     "evalue": "0",
     "output_type": "error",
     "traceback": [
      "An exception has occurred, use %tb to see the full traceback.\n",
      "\u001b[1;31mSystemExit\u001b[0m\u001b[1;31m:\u001b[0m 0\n"
     ]
    },
    {
     "name": "stderr",
     "output_type": "stream",
     "text": [
      "To exit: use 'exit', 'quit', or Ctrl-D.\n"
     ]
    }
   ],
   "source": [
    "\n",
    "url = \"https://www.abc.es\"\n",
    "app = QtWidgets.QApplication(sys.argv)\n",
    "webpage = WebPage()\n",
    "webpage.start(url)\n",
    "sys.exit(app.exec_())"
   ]
  },
  {
   "cell_type": "code",
   "execution_count": 4,
   "metadata": {
    "collapsed": false
   },
   "outputs": [
    {
     "data": {
      "text/plain": [
       "0"
      ]
     },
     "execution_count": 4,
     "metadata": {},
     "output_type": "execute_result"
    }
   ],
   "source": [
    "len(allUrl)"
   ]
  },
  {
   "cell_type": "code",
   "execution_count": null,
   "metadata": {
    "collapsed": true
   },
   "outputs": [],
   "source": []
  }
 ],
 "metadata": {
  "kernelspec": {
   "display_name": "Python 3",
   "language": "python",
   "name": "python3"
  },
  "language_info": {
   "codemirror_mode": {
    "name": "ipython",
    "version": 3
   },
   "file_extension": ".py",
   "mimetype": "text/x-python",
   "name": "python",
   "nbconvert_exporter": "python",
   "pygments_lexer": "ipython3",
   "version": "3.6.8"
  }
 },
 "nbformat": 4,
 "nbformat_minor": 0
}
