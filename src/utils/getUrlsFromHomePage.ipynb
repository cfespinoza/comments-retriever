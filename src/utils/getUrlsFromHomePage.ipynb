{
 "cells": [
  {
   "cell_type": "code",
   "execution_count": 1,
   "metadata": {
    "collapsed": true
   },
   "outputs": [],
   "source": [
    "import sys\n",
    "from PyQt5 import QtCore, QtWidgets, QtWebEngineWidgets\n",
    "from lxml import html as htmlRenderer\n",
    "import requests\n",
    "import json\n",
    "from datetime import date"
   ]
  },
  {
   "cell_type": "code",
   "execution_count": 2,
   "metadata": {
    "collapsed": true
   },
   "outputs": [],
   "source": [
    "def render(source_url):\n",
    "    \"\"\"Fully render HTML, JavaScript and all.\"\"\"\n",
    "\n",
    "    import sys\n",
    "    from PyQt5.QtWidgets import QApplication\n",
    "    from PyQt5.QtCore import QUrl\n",
    "    from PyQt5.QtWebEngineWidgets import QWebEngineView\n",
    "\n",
    "    class Render(QWebEngineView):\n",
    "        def __init__(self, url):\n",
    "            self.html = None\n",
    "            self.app = QApplication(sys.argv)\n",
    "            QWebEngineView.__init__(self)\n",
    "            self.loadFinished.connect(self._loadFinished)\n",
    "            #self.setHtml(html)\n",
    "            self.load(QUrl(url))\n",
    "            self.app.exec_()\n",
    "\n",
    "        def _loadFinished(self, result):\n",
    "            # This is an async call, you need to wait for this\n",
    "            # to be called before closing the app\n",
    "            self.page().toHtml(self._callable)\n",
    "\n",
    "        def _callable(self, data):\n",
    "            self.html = data\n",
    "            # Data has been stored, it's safe to quit the app\n",
    "            self.app.quit()\n",
    "\n",
    "    return Render(source_url).html"
   ]
  },
  {
   "cell_type": "code",
   "execution_count": 3,
   "metadata": {
    "collapsed": true
   },
   "outputs": [],
   "source": [
    "url=\"https://www.abc.es/\"\n",
    "renderUrl = render(url)\n",
    "renderedPage = htmlRenderer.fromstring(renderUrl)"
   ]
  },
  {
   "cell_type": "code",
   "execution_count": 4,
   "metadata": {
    "collapsed": true
   },
   "outputs": [],
   "source": [
    "auxLinks = renderedPage.xpath(\"//a/@href\")"
   ]
  },
  {
   "cell_type": "code",
   "execution_count": 17,
   "metadata": {
    "collapsed": false
   },
   "outputs": [],
   "source": [
    "# obtener links, cuidado que alguno ya empieza por http...\n",
    "finalLinks = list(dict.fromkeys([\"https://www.abc.es{}\".format(link) for link in auxLinks if link.endswith(\"noticia.html\")]))"
   ]
  },
  {
   "cell_type": "code",
   "execution_count": 18,
   "metadata": {
    "collapsed": false,
    "scrolled": true
   },
   "outputs": [
    {
     "data": {
      "text/plain": [
       "['http://www.abc.es/espana/abci-udef-estima-fortuna-290-millones-euros-crimen-organizado-pujol-201908151413_noticia.html',\n",
       " 'http://www.abc.es/espana/abci-udef-estima-fortuna-290-millones-euros-crimen-organizado-pujol-201908151413_noticia.html',\n",
       " 'http://www.abc.es/espana/abci-recta-final-investigacion-caso-pujol-espera-andorra-y-luxemburgo-201908150239_noticia.html',\n",
       " 'http://www.abc.es/espana/abci-suiza-detecta-cuenta-jordi-pujol-junior-llego-tener-18-millones-201908140139_noticia.html',\n",
       " 'http://www.abc.es/economia/abci-este-grafico-desvela-acerca-nueva-recesion-201908151815_noticia.html',\n",
       " 'http://www.abc.es/economia/abci-este-grafico-desvela-acerca-nueva-recesion-201908151815_noticia.html',\n",
       " 'http://www.abc.es/cultura/musica/abci-soprano-acuso-placido-domingo-presume-redes-sociales-haber-cantado-201908151243_noticia.html',\n",
       " 'http://www.abc.es/cultura/musica/abci-soprano-acuso-placido-domingo-presume-redes-sociales-haber-cantado-201908151243_noticia.html',\n",
       " 'http://www.abc.es/estilo/gente/abci-marta-ornelas-victima-colateral-acusaciones-contra-placido-domingo-201908142316_noticia.html',\n",
       " 'http://www.abc.es/espana/abci-espana-acogera-inmigrantes-open-arms-encuentra-aguas-lampedusa-201908151143_noticia.html',\n",
       " 'http://www.abc.es/espana/abci-espana-acogera-inmigrantes-open-arms-encuentra-aguas-lampedusa-201908151143_noticia.html',\n",
       " 'http://www.abc.es/internacional/abci-ministra-defensa-italiana-rechaza-nueva-orden-salvini-no-firmo-nombre-humanidad-201908151016_noticia.html',\n",
       " 'http://www.abc.es/espana/abci-otan-f-18-espanol-tras-incidente-baltico-caza-ruso-hizo-maniobra-peligrosa-201908142121_noticia.html',\n",
       " 'http://www.abc.es/espana/abci-otan-f-18-espanol-tras-incidente-baltico-caza-ruso-hizo-maniobra-peligrosa-201908142121_noticia.html',\n",
       " 'http://www.abc.es/sociedad/abci-nino-o-nina-permitira-elegir-sexo-bebe-sin-intervencion-medica-201908142200_noticia.html',\n",
       " 'http://www.abc.es/sociedad/abci-nino-o-nina-permitira-elegir-sexo-bebe-sin-intervencion-medica-201908142200_noticia.html',\n",
       " 'http://www.abc.es/deportes/real-madrid/abci-pogba-no-resigna-201908150205_noticia.html',\n",
       " 'http://www.abc.es/deportes/real-madrid/abci-pogba-no-resigna-201908150205_noticia.html',\n",
       " 'http://www.abc.es/internacional/abci-gibraltar-levanta-orden-detencion-sobre-buque-irani-tras-recibir-garantias-teheran-201908151702_noticia.html',\n",
       " 'http://www.abc.es/internacional/abci-gibraltar-levanta-orden-detencion-sobre-buque-irani-tras-recibir-garantias-teheran-201908151702_noticia.html',\n",
       " 'http://www.abc.es/sociedad/abci-universidades-espanolas-resisten-prestigioso-ranking-shanghai-pese-falta-presupuesto-201908151111_noticia.html',\n",
       " 'http://www.abc.es/sociedad/abci-universidades-espanolas-resisten-prestigioso-ranking-shanghai-pese-falta-presupuesto-201908151111_noticia.html',\n",
       " 'http://www.abc.es/sociedad/abci-juana-rivas-entrega-hijos-exmarido-tras-intentar-no-regresaran-italia-201908151624_noticia.html',\n",
       " 'http://www.abc.es/sociedad/abci-juana-rivas-entrega-hijos-exmarido-tras-intentar-no-regresaran-italia-201908151624_noticia.html',\n",
       " 'http://www.abc.es/play/cine/abci-peliculas-tarantino-ordenadas-mejor-peor-201908150157_noticia.html',\n",
       " 'http://www.abc.es/play/cine/abci-peliculas-tarantino-ordenadas-mejor-peor-201908150157_noticia.html',\n",
       " 'http://www.abc.es/cultura/musica/abci-suena-nueva-y-explosiva-colaboracion-entre-rosalia-y-ozuna-201908151901_noticia.html',\n",
       " 'http://www.abc.es/cultura/musica/abci-suena-nueva-y-explosiva-colaboracion-entre-rosalia-y-ozuna-201908151901_noticia.html',\n",
       " 'http://www.abc.es/opinion/abci-instagram-201908142347_noticia.html',\n",
       " 'http://www.abc.es/opinion/abci-risitas-nerviosas-201908142352_noticia.html',\n",
       " 'http://www.abc.es/opinion/abci-progreso-201908150018_noticia.html',\n",
       " 'http://www.abc.eshttps://www.abc.es/oferta-del-dia/abci-escapada-mejor-precio-barcelo-hoteles-y-hasta-70-por-ciento-remate-final-rebajas-carrefour-y-otras-cuatro-ofertas-201908141358_noticia.html',\n",
       " 'http://www.abc.eshttps://www.abc.es/oferta-del-dia/abci-escapada-mejor-precio-barcelo-hoteles-y-hasta-70-por-ciento-remate-final-rebajas-carrefour-y-otras-cuatro-ofertas-201908141358_noticia.html',\n",
       " 'http://www.abc.es/espana/madrid/abci-primera-medida-ayuso-abono-transporte-gratis-para-mayores-65-anos-201908151427_noticia.html',\n",
       " 'http://www.abc.es/espana/madrid/abci-primera-medida-ayuso-abono-transporte-gratis-para-mayores-65-anos-201908151427_noticia.html',\n",
       " 'http://www.abc.es/opinion/abci-trifachito-gaitas-201908142358_noticia.html',\n",
       " 'http://www.abc.es/espana/madrid/abci-angel-garrido-sera-consejero-transportes-gobierno-diaz-ayuso-201908151000_noticia.html',\n",
       " 'http://www.abc.es/espana/madrid/abci-angel-garrido-sera-consejero-transportes-gobierno-diaz-ayuso-201908151000_noticia.html',\n",
       " 'http://www.abc.es/espana/madrid/abci-aguado-propondra-independientes-frente-economia-y-universidades-201908150148_noticia.html',\n",
       " 'http://www.abc.es/espana/madrid/abci-aguado-propondra-independientes-frente-economia-y-universidades-201908150148_noticia.html',\n",
       " 'http://www.abc.es/espana/comunidad-valenciana/abci-detenido-tras-acuchillar-cuello-peaton-no-conocia-valencia-201908151606_noticia.html',\n",
       " 'http://www.abc.es/espana/comunidad-valenciana/abci-detenido-tras-acuchillar-cuello-peaton-no-conocia-valencia-201908151606_noticia.html',\n",
       " 'http://www.abc.es/estilo/gente/abci-carolina-martin-exmujer-futbolista-pedro-rodriguez-decepcionado-201908151332_noticia.html',\n",
       " 'http://www.abc.es/estilo/gente/abci-carolina-martin-exmujer-futbolista-pedro-rodriguez-decepcionado-201908151332_noticia.html',\n",
       " 'http://www.abc.es/espana/galicia/abci-cantante-panorama-denuncia-acoso-redes-sociales-201908151206_noticia.html',\n",
       " 'http://www.abc.es/espana/galicia/abci-cantante-panorama-denuncia-acoso-redes-sociales-201908151206_noticia.html',\n",
       " 'http://www.abc.es/estilo/gente/abci-instagram-halle-berry-posa-sin-sujetador-para-celebrar-53-cumpleanos-201908151645_noticia.html',\n",
       " 'http://www.abc.es/estilo/gente/abci-instagram-halle-berry-posa-sin-sujetador-para-celebrar-53-cumpleanos-201908151645_noticia.html',\n",
       " 'http://www.abc.es/summum/motor/abci-alquilar-crucero-entero-nuevo-capricho-millonarios-201908150657_noticia.html',\n",
       " 'http://www.abc.es/summum/motor/abci-alquilar-crucero-entero-nuevo-capricho-millonarios-201908150657_noticia.html',\n",
       " 'http://www.abc.es/ciencia/abci-osos-agua-luna-dejo-vida-aterrizaje-fallido-sonda-israeli-beresheet-201908071957_noticia.html',\n",
       " 'http://www.abc.es/ciencia/abci-osos-agua-luna-dejo-vida-aterrizaje-fallido-sonda-israeli-beresheet-201908071957_noticia.html',\n",
       " 'http://www.abc.es/play/television/noticias/abci-futbolista-modelo-y-cine-para-adultos-descubierto-pasado-kiko-jimenez-201908150156_noticia.html',\n",
       " 'http://www.abc.es/play/television/noticias/abci-futbolista-modelo-y-cine-para-adultos-descubierto-pasado-kiko-jimenez-201908150156_noticia.html',\n",
       " 'http://www.abc.es/cultura/libros/abci-esta-interesante-lista-lectura-barack-obama-para-este-verano-201908151656_noticia.html',\n",
       " 'http://www.abc.es/cultura/libros/abci-esta-interesante-lista-lectura-barack-obama-para-este-verano-201908151656_noticia.html',\n",
       " 'http://www.abc.eshttps://www.abc.es/historia/abci-gloriosa-muerte-vara-olvidado-heroe-defendio-decadente-imperio-espanol-cuba-201709290349_noticia.html',\n",
       " 'http://www.abc.eshttps://www.abc.es/historia/abci-gloriosa-muerte-vara-olvidado-heroe-defendio-decadente-imperio-espanol-cuba-201709290349_noticia.html',\n",
       " 'http://www.abc.eshttps://sevilla.abc.es/andalucia/sevi-lince-recorre-600-kilometros-para-volver-andalucia-201908150815_noticia.html',\n",
       " 'http://www.abc.eshttps://sevilla.abc.es/andalucia/sevi-lince-recorre-600-kilometros-para-volver-andalucia-201908150815_noticia.html',\n",
       " 'http://www.abc.eshttps://www.abc.es/historia/abci-bufon-loco-murio-acuchillado-tras-llamar-obesa-amante-y-abuelastra-carlos-201807060444_noticia.html',\n",
       " 'http://www.abc.eshttps://www.abc.es/historia/abci-bufon-loco-murio-acuchillado-tras-llamar-obesa-amante-y-abuelastra-carlos-201807060444_noticia.html',\n",
       " 'http://www.abc.es/play/cine/noticias/abci-chica-disney-bella-thorne-pasa-porno-201908141510_noticia.html',\n",
       " 'http://www.abc.es/play/cine/noticias/abci-chica-disney-bella-thorne-pasa-porno-201908141510_noticia.html',\n",
       " 'http://www.abc.es/economia/abci-patronal-alemana-exige-merkel-final-politica-deficit-cero-201908142313_noticia.html',\n",
       " 'http://www.abc.es/economia/abci-patronal-alemana-exige-merkel-final-politica-deficit-cero-201908142313_noticia.html',\n",
       " 'http://www.abc.es/economia/abci-ibex-amanece-avance-033-por-ciento-tras-perder-ayer-todas-ganancias-acumuladas-201908150931_noticia.html',\n",
       " 'http://www.abc.es/internacional/abci-varios-agentes-policia-heridos-tiroteo-filadelfia-eeuu-201908150003_noticia.html',\n",
       " 'http://www.abc.es/internacional/abci-varios-agentes-policia-heridos-tiroteo-filadelfia-eeuu-201908150003_noticia.html',\n",
       " 'http://www.abc.es/internacional/abci-reanudan-juicio-mujer-acusada-homicidio-tras-bebe-muerto-salvador-201908151605_noticia.html',\n",
       " 'http://www.abc.es/internacional/abci-reanudan-juicio-mujer-acusada-homicidio-tras-bebe-muerto-salvador-201908151605_noticia.html',\n",
       " 'http://www.abc.es/espana/catalunya/politica/abci-jordi-cuixart-sale-carcel-lledoners-para-operado-manresa-barcelona-201908151137_noticia.html',\n",
       " 'http://www.abc.es/espana/catalunya/politica/abci-jordi-cuixart-sale-carcel-lledoners-para-operado-manresa-barcelona-201908151137_noticia.html',\n",
       " 'http://www.abc.es/internacional/abci-bandada-pajaros-provoca-aterrizaje-emergencia-moscu-avion-233-pasajeros-201908150952_noticia.html',\n",
       " 'http://www.abc.es/internacional/abci-bandada-pajaros-provoca-aterrizaje-emergencia-moscu-avion-233-pasajeros-201908150952_noticia.html',\n",
       " 'http://www.abc.es/espana/comunidad-valenciana/abci-enfermeras-chalecos-amarillos-para-no-molesten-familiares-pacientes-201908151805_noticia.html',\n",
       " 'http://www.abc.es/espana/comunidad-valenciana/abci-enfermeras-chalecos-amarillos-para-no-molesten-familiares-pacientes-201908151805_noticia.html',\n",
       " 'http://www.abc.es/espana/madrid/abci-paloma-nuestra-forma-acercarnos-gente-201908150155_noticia.html',\n",
       " 'http://www.abc.es/espana/madrid/abci-paloma-nuestra-forma-acercarnos-gente-201908150155_noticia.html',\n",
       " 'http://www.abc.es/espana/madrid/abci-hombre-agredio-sexualmente-madre-septuagenaria-prision-sin-fianza-201908150156_noticia.html',\n",
       " 'http://www.abc.es/espana/madrid/abci-hombre-agredio-sexualmente-madre-septuagenaria-prision-sin-fianza-201908150156_noticia.html',\n",
       " 'http://www.abc.es/espana/madrid/abci-puente-agosto-fiesta-pueblos-madrid-201908150157_noticia.html',\n",
       " 'http://www.abc.es/espana/madrid/abci-puente-agosto-fiesta-pueblos-madrid-201908150157_noticia.html',\n",
       " 'http://www.abc.es/salud/enfermedades/abci-seis-ejercicios-evitan-destino-genes-obesidad-201908012017_noticia.html',\n",
       " 'http://www.abc.es/salud/enfermedades/abci-seis-ejercicios-evitan-destino-genes-obesidad-201908012017_noticia.html',\n",
       " 'http://www.abc.es/salud/abci-ingrediente-origen-vegetal-prolonga-vida-201908131103_noticia.html',\n",
       " 'http://www.abc.es/salud/abci-ingrediente-origen-vegetal-prolonga-vida-201908131103_noticia.html',\n",
       " 'http://www.abc.es/salud/enfermedades/abci-mas-cerca-vacuna-contra-clamidia-enfermedad-transmision-sexual-mas-comun-201908131302_noticia.html',\n",
       " 'http://www.abc.es/salud/enfermedades/abci-mas-cerca-vacuna-contra-clamidia-enfermedad-transmision-sexual-mas-comun-201908131302_noticia.html',\n",
       " 'http://www.abc.es/salud/abci-huevos-y-carne-para-fortalecer-memoria-201908121148_noticia.html',\n",
       " 'http://www.abc.es/salud/abci-huevos-y-carne-para-fortalecer-memoria-201908121148_noticia.html',\n",
       " 'http://www.abc.es/play/television/noticias/abci-ahora-caigo-concursante-ahora-caigo-pide-matrimonio-novio-delante-toda-espana-201908142022_noticia.html',\n",
       " 'http://www.abc.es/play/television/noticias/abci-ahora-caigo-concursante-ahora-caigo-pide-matrimonio-novio-delante-toda-espana-201908142022_noticia.html',\n",
       " 'http://www.abc.es/play/television/noticias/abci-telecinco-pistas-sobre-nuevos-concursantes-201908141223_noticia.html',\n",
       " 'http://www.abc.es/play/television/noticias/abci-telecinco-pistas-sobre-nuevos-concursantes-201908141223_noticia.html',\n",
       " 'http://www.abc.es/play/television/noticias/abci-first-dates-comensal-cuenta-como-salvo-vida-ataque-narcos-mexico-ahora-vivo-momento-201908142319_noticia.html',\n",
       " 'http://www.abc.es/play/television/noticias/abci-first-dates-comensal-cuenta-como-salvo-vida-ataque-narcos-mexico-ahora-vivo-momento-201908142319_noticia.html',\n",
       " 'http://www.abc.es/play/television/noticias/abci-rosa-lopez-y-escepticismo-hacia-amor-preferible-estarse-quieta-pues-saber-si-pegan-enfermedad-201908140112_noticia.html',\n",
       " 'http://www.abc.es/play/television/noticias/abci-rosa-lopez-y-escepticismo-hacia-amor-preferible-estarse-quieta-pues-saber-si-pegan-enfermedad-201908140112_noticia.html',\n",
       " 'http://www.abc.es/cultura/toros/abci-toreria-antonio-ferrera-illumbe-201908142037_noticia.html',\n",
       " 'http://www.abc.es/cultura/toros/abci-toreria-antonio-ferrera-illumbe-201908142037_noticia.html',\n",
       " 'http://www.abc.es/cultura/toros/abci-juan-ortega-cosas-mas-pena-vida-indiferencia-201908141504_noticia.html',\n",
       " 'http://www.abc.es/cultura/toros/abci-juan-ortega-cosas-mas-pena-vida-indiferencia-201908141504_noticia.html',\n",
       " 'http://www.abc.es/cultura/toros/abci-cayetano-siento-orgulloso-espana-pais-raza-coraje-y-valor-201908110113_noticia.html',\n",
       " 'http://www.abc.es/cultura/toros/abci-cayetano-siento-orgulloso-espana-pais-raza-coraje-y-valor-201908110113_noticia.html',\n",
       " 'http://www.abc.es/cultura/toros/abci-francis-wolff-recibe-sabado-premio-ivan-fandino-valores-humanos-201908142007_noticia.html',\n",
       " 'http://www.abc.es/cultura/toros/abci-francis-wolff-recibe-sabado-premio-ivan-fandino-valores-humanos-201908142007_noticia.html',\n",
       " 'http://www.abc.es/espana/abci-opina-crees-oportunas-vacaciones-pedro-sanchez-201908131113_noticia.html',\n",
       " 'http://www.abc.es/espana/abci-opina-crees-oportunas-vacaciones-pedro-sanchez-201908131113_noticia.html',\n",
       " 'http://www.abc.es/familia/mujeres/abci-mitad-mundo-episodio-4-isabel-sobre-zapatos-201811281726_noticia.html',\n",
       " 'http://www.abc.es/familia/mujeres/abci-mitad-mundo-episodio-4-isabel-sobre-zapatos-201811281726_noticia.html',\n",
       " 'http://www.abc.es/sociedad/abci-padres-y-maestros-relacion-esencial-necesita-mucha-comunicacion-y-respetar-limites-201903100229_noticia.html',\n",
       " 'http://www.abc.es/sociedad/abci-padres-y-maestros-relacion-esencial-necesita-mucha-comunicacion-y-respetar-limites-201903100229_noticia.html',\n",
       " 'http://www.abc.es/sociedad/abci-deberes-necesidad-pedagogica-o-pesada-mochila-frustracion-201903070232_noticia.html',\n",
       " 'http://www.abc.es/sociedad/abci-deberes-necesidad-pedagogica-o-pesada-mochila-frustracion-201903070232_noticia.html',\n",
       " 'http://www.abc.es/sociedad/abci-aula-ideal-para-recibir-primeras-lecciones-sobre-alimentacion-saludable-201903061423_noticia.html',\n",
       " 'http://www.abc.es/sociedad/abci-aula-ideal-para-recibir-primeras-lecciones-sobre-alimentacion-saludable-201903061423_noticia.html',\n",
       " 'http://www.abc.es/sociedad/abci-apuntes-para-duro-examen-hallar-mejor-oferta-educativa-para-nuestros-hijos-201903110122_noticia.html',\n",
       " 'http://www.abc.es/sociedad/abci-apuntes-para-duro-examen-hallar-mejor-oferta-educativa-para-nuestros-hijos-201903110122_noticia.html',\n",
       " 'http://www.abc.es/natural/biodiversidad/abci-elefantes-africanos-ayudan-aumentar-existencias-carbono-selva-201908140827_noticia.html',\n",
       " 'http://www.abc.es/natural/biodiversidad/abci-elefantes-africanos-ayudan-aumentar-existencias-carbono-selva-201908140827_noticia.html',\n",
       " 'http://www.abc.es/natural/biodiversidad/abci-poblaciones-animales-forestales-reducido-53-por-ciento-desde-1970-201908140858_noticia.html',\n",
       " 'http://www.abc.es/natural/biodiversidad/abci-poblaciones-animales-forestales-reducido-53-por-ciento-desde-1970-201908140858_noticia.html',\n",
       " 'http://www.abc.es/natural/biodiversidad/abci-singapur-prohibe-comercio-marfil-tras-incautacion-record-9-toneladas-201908130808_noticia.html',\n",
       " 'http://www.abc.es/natural/biodiversidad/abci-singapur-prohibe-comercio-marfil-tras-incautacion-record-9-toneladas-201908130808_noticia.html',\n",
       " 'http://www.abc.es/natural/biodiversidad/abci-resuelven-incognita-desconocida-hasta-ahora-sobre-como-afectan-olas-calor-arrecifes-201908130822_noticia.html',\n",
       " 'http://www.abc.es/natural/biodiversidad/abci-resuelven-incognita-desconocida-hasta-ahora-sobre-como-afectan-olas-calor-arrecifes-201908130822_noticia.html',\n",
       " 'http://www.abc.es/recreo/abci-tsunami-inesperado-piscina-olas-causa-mas-40-heridos-201907311903_noticia.html',\n",
       " 'http://www.abc.es/recreo/abci-tsunami-inesperado-piscina-olas-causa-mas-40-heridos-201907311903_noticia.html',\n",
       " 'http://www.abc.es/recreo/abci-descubre-llegaba-tarde-trabajo-porque-gato-apagaba-alarma-movil-201907311344_noticia.html',\n",
       " 'http://www.abc.es/recreo/abci-descubre-llegaba-tarde-trabajo-porque-gato-apagaba-alarma-movil-201907311344_noticia.html',\n",
       " 'http://www.abc.es/recreo/abci-hombre-pasa-cinco-dias-sentado-inodoro-para-establecer-record-mundial-201907301339_noticia.html',\n",
       " 'http://www.abc.es/recreo/abci-hombre-pasa-cinco-dias-sentado-inodoro-para-establecer-record-mundial-201907301339_noticia.html',\n",
       " 'http://www.abc.es/recreo/abci-queja-viral-chico-despues-cobrasen-hielo-201907241227_noticia.html',\n",
       " 'http://www.abc.es/recreo/abci-queja-viral-chico-despues-cobrasen-hielo-201907241227_noticia.html',\n",
       " 'http://www.abc.eshttps://www.abc.es/loterias/bonoloto/abci-comprobar-resultado-sorteo-bonoloto-hoy-martes-13-agosto-201908132234_noticia.html',\n",
       " 'http://www.abc.eshttps://www.abc.es/loterias/bonoloto/abci-comprobar-resultado-sorteo-bonoloto-hoy-martes-13-agosto-201908132234_noticia.html',\n",
       " 'http://www.abc.eshttps://www.abc.es/recreo/abci-prediccion-horoscopo-hoy-miercoles-14-agosto-201908132300_noticia.html',\n",
       " 'http://www.abc.eshttps://www.abc.es/recreo/abci-prediccion-horoscopo-hoy-miercoles-14-agosto-201908132300_noticia.html']"
      ]
     },
     "execution_count": 18,
     "metadata": {},
     "output_type": "execute_result"
    }
   ],
   "source": [
    "finalLinks"
   ]
  },
  {
   "cell_type": "code",
   "execution_count": null,
   "metadata": {
    "collapsed": true
   },
   "outputs": [],
   "source": [
    "# div_id = comments-container"
   ]
  }
 ],
 "metadata": {
  "kernelspec": {
   "display_name": "Python 3",
   "language": "python",
   "name": "python3"
  },
  "language_info": {
   "codemirror_mode": {
    "name": "ipython",
    "version": 3
   },
   "file_extension": ".py",
   "mimetype": "text/x-python",
   "name": "python",
   "nbconvert_exporter": "python",
   "pygments_lexer": "ipython3",
   "version": "3.6.8"
  }
 },
 "nbformat": 4,
 "nbformat_minor": 0
}
