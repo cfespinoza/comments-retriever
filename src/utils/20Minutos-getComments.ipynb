{
 "cells": [
  {
   "cell_type": "code",
   "execution_count": 1,
   "metadata": {
    "collapsed": true
   },
   "outputs": [],
   "source": [
    "import sys\n",
    "from PyQt5 import QtCore, QtWidgets, QtWebEngineWidgets\n",
    "from lxml import html as htmlRenderer\n",
    "import requests\n",
    "import json\n",
    "from datetime import date\n",
    "import datetime\n",
    "from random import *"
   ]
  },
  {
   "cell_type": "code",
   "execution_count": 2,
   "metadata": {
    "collapsed": true
   },
   "outputs": [],
   "source": [
    "def render(source_url):\n",
    "    \"\"\"Fully render HTML, JavaScript and all.\"\"\"\n",
    "\n",
    "    import sys\n",
    "    from PyQt5.QtWidgets import QApplication\n",
    "    from PyQt5.QtCore import QUrl\n",
    "    from PyQt5.QtWebEngineWidgets import QWebEngineView\n",
    "\n",
    "    class Render(QWebEngineView):\n",
    "        def __init__(self, url):\n",
    "            self.html = None\n",
    "            self.app = QApplication(sys.argv)\n",
    "            QWebEngineView.__init__(self)\n",
    "            self.loadFinished.connect(self._loadFinished)\n",
    "            #self.setHtml(html)\n",
    "            self.load(QUrl(url))\n",
    "            self.app.exec_()\n",
    "\n",
    "        def _loadFinished(self, result):\n",
    "            # This is an async call, you need to wait for this\n",
    "            # to be called before closing the app\n",
    "            self.page().toHtml(self._callable)\n",
    "\n",
    "        def _callable(self, data):\n",
    "            self.html = data\n",
    "            # Data has been stored, it's safe to quit the app\n",
    "            self.app.quit()\n",
    "\n",
    "    return Render(source_url).html"
   ]
  },
  {
   "cell_type": "markdown",
   "metadata": {
    "collapsed": true
   },
   "source": [
    "# Get IdNoticia"
   ]
  },
  {
   "cell_type": "code",
   "execution_count": 3,
   "metadata": {
    "collapsed": false,
    "scrolled": false
   },
   "outputs": [],
   "source": [
    "url=\"https://www.20minutos.es/noticia/3742332/0/aliexpress-abre-madrid-primera-tienda-europa-desata-locura/\"\n",
    "renderUrl = render(url)\n",
    "renderedPage = htmlRenderer.fromstring(renderUrl)\n",
    "auxLinks = renderedPage.xpath(\"//script[@type='text/javascript']\")\n"
   ]
  },
  {
   "cell_type": "code",
   "execution_count": 4,
   "metadata": {
    "collapsed": false
   },
   "outputs": [
    {
     "data": {
      "text/plain": [
       "[<Element script at 0x7f712409c8b8>,\n",
       " <Element script at 0x7f712409c908>,\n",
       " <Element script at 0x7f712409c958>,\n",
       " <Element script at 0x7f712409c9a8>,\n",
       " <Element script at 0x7f712409c9f8>,\n",
       " <Element script at 0x7f712409ca48>,\n",
       " <Element script at 0x7f712409ca98>,\n",
       " <Element script at 0x7f712409cae8>,\n",
       " <Element script at 0x7f712409cb38>,\n",
       " <Element script at 0x7f712409cb88>,\n",
       " <Element script at 0x7f712409cbd8>,\n",
       " <Element script at 0x7f712409cc28>,\n",
       " <Element script at 0x7f712409cc78>,\n",
       " <Element script at 0x7f712409ccc8>,\n",
       " <Element script at 0x7f712409cd18>,\n",
       " <Element script at 0x7f712409cd68>,\n",
       " <Element script at 0x7f712409cdb8>,\n",
       " <Element script at 0x7f712409ce08>,\n",
       " <Element script at 0x7f712409ce58>,\n",
       " <Element script at 0x7f712409cea8>,\n",
       " <Element script at 0x7f712409cef8>,\n",
       " <Element script at 0x7f712409cf48>,\n",
       " <Element script at 0x7f712409cf98>,\n",
       " <Element script at 0x7f71240a0048>,\n",
       " <Element script at 0x7f71240a0098>,\n",
       " <Element script at 0x7f71240a00e8>,\n",
       " <Element script at 0x7f71240a0138>,\n",
       " <Element script at 0x7f71240a0188>,\n",
       " <Element script at 0x7f71240a01d8>,\n",
       " <Element script at 0x7f71240a0228>,\n",
       " <Element script at 0x7f71240a0278>,\n",
       " <Element script at 0x7f71240a02c8>,\n",
       " <Element script at 0x7f71240a0318>,\n",
       " <Element script at 0x7f71240a0368>,\n",
       " <Element script at 0x7f71240a03b8>,\n",
       " <Element script at 0x7f71240a0408>,\n",
       " <Element script at 0x7f71240a0458>,\n",
       " <Element script at 0x7f71240a04a8>,\n",
       " <Element script at 0x7f71240a04f8>,\n",
       " <Element script at 0x7f71240a0548>,\n",
       " <Element script at 0x7f71240a0598>,\n",
       " <Element script at 0x7f71240a05e8>,\n",
       " <Element script at 0x7f71240a0638>,\n",
       " <Element script at 0x7f71240a0688>,\n",
       " <Element script at 0x7f71240a06d8>,\n",
       " <Element script at 0x7f71240a0728>,\n",
       " <Element script at 0x7f71240a0778>,\n",
       " <Element script at 0x7f71240a07c8>,\n",
       " <Element script at 0x7f71240a0818>,\n",
       " <Element script at 0x7f71240a0868>,\n",
       " <Element script at 0x7f71240a08b8>,\n",
       " <Element script at 0x7f71240a0908>,\n",
       " <Element script at 0x7f71240a0958>,\n",
       " <Element script at 0x7f71240a09a8>,\n",
       " <Element script at 0x7f71240a09f8>,\n",
       " <Element script at 0x7f71240a0a48>,\n",
       " <Element script at 0x7f71240a0a98>,\n",
       " <Element script at 0x7f71240a0ae8>,\n",
       " <Element script at 0x7f71240a0b38>,\n",
       " <Element script at 0x7f71240a0b88>,\n",
       " <Element script at 0x7f71240a0bd8>,\n",
       " <Element script at 0x7f71240a0c28>,\n",
       " <Element script at 0x7f71240a0c78>,\n",
       " <Element script at 0x7f71240a0cc8>,\n",
       " <Element script at 0x7f71240a0d18>,\n",
       " <Element script at 0x7f71240a0d68>,\n",
       " <Element script at 0x7f71240a0db8>,\n",
       " <Element script at 0x7f71240a0e08>]"
      ]
     },
     "execution_count": 4,
     "metadata": {},
     "output_type": "execute_result"
    }
   ],
   "source": [
    "auxLinks"
   ]
  },
  {
   "cell_type": "code",
   "execution_count": null,
   "metadata": {
    "collapsed": false
   },
   "outputs": [],
   "source": [
    "\n",
    "streamIDStr = \"\"\n",
    "for aux in auxLinks:\n",
    "    if aux.get(\"src\") == None:\n",
    "        if (\"streamID\" in aux.text_content()):\n",
    "            auxStreamID = aux.text_content().split('gigya20m.params = ')[1].split('streamID: ')[1].split(',')[0].replace('\\'', \"\")\n",
    "            print(auxStreamID)\n",
    "            streamIDStr = auxStreamID\n",
    "            break"
   ]
  },
  {
   "cell_type": "code",
   "execution_count": null,
   "metadata": {
    "collapsed": true
   },
   "outputs": [],
   "source": [
    "# https://elpais.com/Comentarios/comentariosV2.html?ghi=1564664936-bca025601586bc5a00ef0c26fdd878f6\n",
    "# &vCom=1\n",
    "# &gcss=/estilos/v2.x/v2.0/comentarios/eskup_comentarios_noticia.css\n",
    "# &gjs=1\n",
    "# &gll=0\n",
    "# &gjs=1\n",
    "\n",
    "\n",
    "# // https://elpais.com/internacional/2019/08/01/actualidad/1564658691_230617.htm\n",
    "# &gurl=https%3A%2F%2Felpais.com%2Finternacional%2F2019%2F08%2F01%2Factualidad%2F1564658691_230617.htm\n",
    "\n",
    "\n",
    "\n",
    "\n",
    "# https://elpais.com/OuteskupSimple?\n",
    "# s=\n",
    "# &rnd=0.5448952094970048\n",
    "# &th=2\n",
    "# &msg=1564664936-bca025601586bc5a00ef0c26fdd878f6\n",
    "# &p=2\n",
    "# &nummsg=120\n",
    "# &tt=1\n",
    "\n",
    "\n",
    "\n",
    "# # elpais - getting comments\n",
    "# https://elpais.com/OuteskupSimple?s=&rnd=0.7131093272405999&th=2&msg=1564664936-bca025601586bc5a00ef0c26fdd878f6&p=1&nummsg=40&tt=1\n",
    "# https://elpais.com/OuteskupSimple?s=&rnd=0.4308991070814918&th=2&msg=1564664936-bca025601586bc5a00ef0c26fdd878f6&p=2&nummsg=40&tt=1\n",
    "# https://elpais.com/OuteskupSimple?s=&rnd=0.17594169864899367&th=1&msg=1564664936-bca025601586bc5a00ef0c26fdd878f6&p=3&nummsg=40&tt=1\n",
    "\n",
    "\n",
    "\n",
    "\n",
    "\n",
    "\n",
    "# noticia-3742143\n",
    "\n",
    "\n",
    "# gigya20m\n",
    "\n",
    "\n",
    "# gigya20m.params\n",
    "\n",
    "\n",
    "# gigya20m.params = {\n",
    "#             version: 2,\n",
    "#             containerID: 'ui-comments-gigya',\n",
    "#             width: '100%',\n",
    "#             categoryID: 'prod',\n",
    "#             streamID: 'noticia-3742143',\n",
    "#             streamURL: 'https://www.20minutos.es/noticia/3742143/0/rey-juan-carlos-despierto-empezado-ingerir-alimentos-operacion-corazon/',\n",
    "#             streamTitle: 'El rey Juan Carlos está despierto y ha empezado a ingerir alimentos tras su operación de corazón',\n",
    "#             useSiteLogin: true,\n",
    "#             onSiteLoginClicked: gigya20m.onSiteLoginClicked,\n",
    "#             cid: '',\n",
    "#             disabledShareProviders: 'facebook,twitter,linkedin,qq,renren,sina,vkontakte',\n",
    "#             moreEnabledProviders: 'facebook,twitter,googleplus,linkedin,whatsapp',\n",
    "#             onLoad: gigya20m.setLinksToUserProfile\n",
    "#         }\n",
    "\n",
    "\n",
    "## Request get comments\n",
    "# https://comments.eu1.gigya.com/comments.getComments?categoryID=prod&streamID=noticia-3742143&includeSettings=true&threaded=true&includeStreamInfo=true&includeUserOptions=true&includeUserHighlighting=true&lang=es&ctag=comments_v2&APIKey=3_Hob3SXLWsBRwjPFz4f4ZEuxPo2PyeElFMWgWO2EXdBYUqwMk8lxNj78Fi_2VW5cH&cid=&source=showCommentsUI&sourceData=%7B%22categoryID%22%3A%22prod%22%2C%22streamID%22%3A%22noticia-3742143%22%7D&sdk=js_latest&authMode=cookie&pageURL=https%3A%2F%2Fwww.20minutos.es%2Fnoticia%2F3742143%2F0%2Frey-juan-carlos-despierto-empezado-ingerir-alimentos-operacion-corazon%2F&format=jsonp&callback=gigya.callback&context=R3478158474\n",
    "# get COmments arguments\n",
    "\n",
    "# categoryID: prod\n",
    "# streamID: noticia-3742143\n",
    "# includeSettings: true\n",
    "# threaded: true\n",
    "# includeStreamInfo: true\n",
    "# includeUserOptions: true\n",
    "# includeUserHighlighting: true\n",
    "# lang: es\n",
    "# ctag: comments_v2\n",
    "# APIKey: 3_Hob3SXLWsBRwjPFz4f4ZEuxPo2PyeElFMWgWO2EXdBYUqwMk8lxNj78Fi_2VW5cH\n",
    "# cid: \n",
    "# source: showCommentsUI\n",
    "# sourceData: {\"categoryID\":\"prod\",\"streamID\":\"noticia-3742143\"}\n",
    "# sdk: js_latest\n",
    "# authMode: cookie\n",
    "# pageURL: https://www.20minutos.es/noticia/3742143/0/rey-juan-carlos-despierto-empezado-ingerir-alimentos-operacion-corazon/\n",
    "# format: jsonp\n",
    "# callback: gigya.callback\n",
    "# context: R3478158474\n",
    "\n",
    "# Request get info comments\n",
    "# https://comments.eu1.gigya.com/comments.getStreamInfo?categoryID=prod&streamID=noticia-3742143&ctag=comments_v2&APIKey=3_Hob3SXLWsBRwjPFz4f4ZEuxPo2PyeElFMWgWO2EXdBYUqwMk8lxNj78Fi_2VW5cH&cid=&source=showCommentsUI&sourceData=%7B%22categoryID%22%3A%22prod%22%2C%22streamID%22%3A%22noticia-3742143%22%7D&sdk=js_latest&authMode=cookie&pageURL=https%3A%2F%2Fwww.20minutos.es%2Fnoticia%2F3742143%2F0%2Frey-juan-carlos-despierto-empezado-ingerir-alimentos-operacion-corazon%2F&format=jsonp&callback=gigya.callback&context=R3482847700\n",
    "\n",
    "# get comments info arguments\n",
    "# categoryID: prod\n",
    "# streamID: noticia-3742143\n",
    "# ctag: comments_v2\n",
    "# APIKey: 3_Hob3SXLWsBRwjPFz4f4ZEuxPo2PyeElFMWgWO2EXdBYUqwMk8lxNj78Fi_2VW5cH\n",
    "# cid: \n",
    "# source: showCommentsUI\n",
    "# sourceData: {\"categoryID\":\"prod\",\"streamID\":\"noticia-3742143\"}\n",
    "# sdk: js_latest\n",
    "# authMode: cookie\n",
    "# pageURL: https://www.20minutos.es/noticia/3742143/0/rey-juan-carlos-despierto-empezado-ingerir-alimentos-operacion-corazon/\n",
    "# format: jsonp\n",
    "# callback: gigya.callback\n",
    "# context: R3482847700"
   ]
  },
  {
   "cell_type": "code",
   "execution_count": null,
   "metadata": {
    "collapsed": false
   },
   "outputs": [],
   "source": [
    "commentEl = auxLinks[0]\n",
    "commentElVal = commentEl.get(\"id\").split(\"_\")\n",
    "idNoticia = commentElVal[len(commentElVal)-1]\n",
    "perfiloHiloId = \"_{}\".format(idNoticia)"
   ]
  },
  {
   "cell_type": "code",
   "execution_count": null,
   "metadata": {
    "collapsed": true
   },
   "outputs": [],
   "source": []
  },
  {
   "cell_type": "code",
   "execution_count": null,
   "metadata": {
    "collapsed": false
   },
   "outputs": [],
   "source": [
    "# Get Comments Info\n",
    "\n",
    "urlInfoComments = \"https://elpais.com/ThreadeskupSimple\"\n",
    "rnd = random()\n",
    "\n",
    "infoArg = {\n",
    "    \"action\": \"info\",\n",
    "    \"th\": idNoticia,\n",
    "    \"rnd\": rnd\n",
    "}"
   ]
  },
  {
   "cell_type": "code",
   "execution_count": null,
   "metadata": {
    "collapsed": true
   },
   "outputs": [],
   "source": [
    "responseInfoComments = requests.get(urlInfoComments, infoArg)"
   ]
  },
  {
   "cell_type": "code",
   "execution_count": null,
   "metadata": {
    "collapsed": false
   },
   "outputs": [],
   "source": [
    "responseInfoComments"
   ]
  },
  {
   "cell_type": "code",
   "execution_count": null,
   "metadata": {
    "collapsed": false
   },
   "outputs": [],
   "source": [
    "infoComments = json.loads(responseInfoComments.text)"
   ]
  },
  {
   "cell_type": "code",
   "execution_count": null,
   "metadata": {
    "collapsed": false,
    "scrolled": false
   },
   "outputs": [],
   "source": [
    "infoComments"
   ]
  },
  {
   "cell_type": "code",
   "execution_count": null,
   "metadata": {
    "collapsed": false
   },
   "outputs": [],
   "source": [
    "pages = infoComments[\"perfilesHilos\"][perfiloHiloId][\"numero_mensajes\"]//50\n",
    "if (infoComments[\"perfilesHilos\"][perfiloHiloId][\"numero_mensajes\"]%50 > 0) :\n",
    "    pages = pages + 1\n",
    "\n",
    "pages"
   ]
  },
  {
   "cell_type": "code",
   "execution_count": null,
   "metadata": {
    "collapsed": false
   },
   "outputs": [],
   "source": [
    "# https://elpais.com/OuteskupSimple?s=&rnd=0.5448952094970048&th=2&msg=1564664936-bca025601586bc5a00ef0c26fdd878f6&p=2&nummsg=120&tt=1\n",
    "# s=\n",
    "# &rnd=0.5448952094970048\n",
    "# &th=2\n",
    "# &msg=1564664936-bca025601586bc5a00ef0c26fdd878f6\n",
    "# &p=2\n",
    "# &nummsg=120\n",
    "# &tt=1\n",
    "rnd = random()\n",
    "commentsArgs = {\n",
    "    \"s\": \"\",\n",
    "    \"rnd\": rnd,\n",
    "    \"th\": 1,\n",
    "    \"msg\": idNoticia,\n",
    "    \"nummsg\": infoComments[\"perfilesHilos\"][perfiloHiloId][\"numero_mensajes\"],\n",
    "    \"tt\": 1\n",
    "}"
   ]
  },
  {
   "cell_type": "code",
   "execution_count": null,
   "metadata": {
    "collapsed": true
   },
   "outputs": [],
   "source": [
    "urlGetComments = \"https://elpais.com/OuteskupSimple\"\n",
    "responseComments = requests.get(urlGetComments, commentsArgs)"
   ]
  },
  {
   "cell_type": "code",
   "execution_count": null,
   "metadata": {
    "collapsed": true
   },
   "outputs": [],
   "source": [
    "commentsResponse = json.loads(responseComments.text)"
   ]
  },
  {
   "cell_type": "code",
   "execution_count": null,
   "metadata": {
    "collapsed": false,
    "scrolled": true
   },
   "outputs": [],
   "source": [
    "commentsResponse"
   ]
  },
  {
   "cell_type": "code",
   "execution_count": null,
   "metadata": {
    "collapsed": true
   },
   "outputs": [],
   "source": [
    "\n",
    "def extractComments(commentsObjectList, urlNoticia=\"\", specialCase = False):\n",
    "    print(\" \\t -> parsing comments list with -{}- elements:\".format(len(commentsObjectList)))\n",
    "    parsedComments = []\n",
    "    listToParse = commentsObjectList[1] if specialCase else commentsObjectList\n",
    "    for commentObj in listToParse:\n",
    "        fechaObj = datetime.datetime.fromtimestamp(commentObj[\"tsMensaje\"])\n",
    "        fechaStr = fechaObj.strftime(\"%d/%m/%Y-%H:%M:%S\")\n",
    "        fechaArr = fechaStr.split(\"-\")\n",
    "        parsedComment = {\n",
    "            \"urlNoticia\": urlNoticia,\n",
    "            \"fecha\": fechaArr[0],\n",
    "            \"hora\": fechaArr[1],\n",
    "            \"user\": commentObj['usuarioOrigen'],\n",
    "            \"commentario\": commentObj['contenido']\n",
    "        }\n",
    "        parsedComments.append(parsedComment)\n",
    "    return parsedComments"
   ]
  },
  {
   "cell_type": "code",
   "execution_count": null,
   "metadata": {
    "collapsed": false
   },
   "outputs": [],
   "source": [
    "parsedComments = extractComments(commentsResponse[\"mensajes\"], url)"
   ]
  },
  {
   "cell_type": "code",
   "execution_count": null,
   "metadata": {
    "collapsed": false
   },
   "outputs": [],
   "source": [
    "parsedComments"
   ]
  },
  {
   "cell_type": "code",
   "execution_count": null,
   "metadata": {
    "collapsed": false
   },
   "outputs": [],
   "source": [
    "len(parsedComments)"
   ]
  },
  {
   "cell_type": "code",
   "execution_count": null,
   "metadata": {
    "collapsed": true
   },
   "outputs": [],
   "source": []
  }
 ],
 "metadata": {
  "kernelspec": {
   "display_name": "Python 3",
   "language": "python",
   "name": "python3"
  },
  "language_info": {
   "codemirror_mode": {
    "name": "ipython",
    "version": 3
   },
   "file_extension": ".py",
   "mimetype": "text/x-python",
   "name": "python",
   "nbconvert_exporter": "python",
   "pygments_lexer": "ipython3",
   "version": "3.6.8"
  }
 },
 "nbformat": 4,
 "nbformat_minor": 0
}
