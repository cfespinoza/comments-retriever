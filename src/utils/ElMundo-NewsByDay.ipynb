{
 "cells": [
  {
   "cell_type": "code",
   "execution_count": null,
   "metadata": {
    "collapsed": true
   },
   "outputs": [],
   "source": [
    "def render(source_url):\n",
    "    \"\"\"Fully render HTML, JavaScript and all.\"\"\"\n",
    "\n",
    "    import sys\n",
    "    from PyQt5.QtWidgets import QApplication\n",
    "    from PyQt5.QtCore import QUrl\n",
    "    from PyQt5.QtWebEngineWidgets import QWebEngineView\n",
    "\n",
    "    class Render(QWebEngineView):\n",
    "        def __init__(self, url):\n",
    "            self.html = None\n",
    "            self.app = QApplication(sys.argv)\n",
    "            QWebEngineView.__init__(self)\n",
    "            self.loadFinished.connect(self._loadFinished)\n",
    "            #self.setHtml(html)\n",
    "            self.load(QUrl(url))\n",
    "            self.app.exec_()\n",
    "\n",
    "        def _loadFinished(self, result):\n",
    "            # This is an async call, you need to wait for this\n",
    "            # to be called before closing the app\n",
    "            self.page().toHtml(self._callable)\n",
    "\n",
    "        def _callable(self, data):\n",
    "            self.html = data\n",
    "            # Data has been stored, it's safe to quit the app\n",
    "            self.app.quit()\n",
    "\n",
    "    return Render(source_url).html"
   ]
  },
  {
   "cell_type": "code",
   "execution_count": null,
   "metadata": {
    "collapsed": true
   },
   "outputs": [],
   "source": [
    "from PyQt5 import QtCore, QtWidgets, QtWebEngineWidgets\n",
    "from lxml import html as htmlRenderer\n"
   ]
  },
  {
   "cell_type": "code",
   "execution_count": null,
   "metadata": {
    "collapsed": true
   },
   "outputs": [],
   "source": [
    "# Render web page\n",
    "urlNoticia = 'https://www.elmundo.es'\n",
    "resultNoticia = render(urlNoticia)\n",
    "\n"
   ]
  },
  {
   "cell_type": "code",
   "execution_count": null,
   "metadata": {
    "collapsed": true
   },
   "outputs": [],
   "source": [
    "from lxml import html, etree\n",
    "tree = html.fromstring(resultNoticia)"
   ]
  },
  {
   "cell_type": "code",
   "execution_count": null,
   "metadata": {
    "collapsed": true
   },
   "outputs": [],
   "source": [
    "el = tree.xpath(\"//a/@href\")"
   ]
  },
  {
   "cell_type": "code",
   "execution_count": null,
   "metadata": {
    "collapsed": false,
    "scrolled": false
   },
   "outputs": [],
   "source": [
    "# filter links in order to get only links from elmundo\n",
    "\n",
    "links = [ link for link in el if \"elmundo\" in link and \"#ancla_comentarios\" not in link ]"
   ]
  },
  {
   "cell_type": "code",
   "execution_count": null,
   "metadata": {
    "collapsed": true
   },
   "outputs": [],
   "source": [
    "print(links)"
   ]
  },
  {
   "cell_type": "code",
   "execution_count": null,
   "metadata": {
    "collapsed": true
   },
   "outputs": [],
   "source": [
    "newsAndComments = []\n",
    "for noticia in links:\n",
    "    noticiaHtmlStr = render(noticia)\n",
    "    noticiaHtml = html.fromstring(noticiaHtmlStr)\n",
    "    autores = noticiaHtml.xpath(\"//div[@class='autor']/span[@class='alias']/text()\")\n",
    "    fechas = noticiaHtml.xpath(\"//time/span[@class='fecha']/text()\")\n",
    "    horas = noticiaHtml.xpath(\"//time/span[@class='hora']/text()\")\n",
    "    comentarios = noticiaHtml.xpath(\"//div[@class='texto-comentario']/p/text()\")\n",
    "    \n",
    "    if (len(autores) > 0):\n",
    "        # there are comments\n",
    "        linksRepe = [noticia]*(len(autores))\n",
    "        autores.reverse()\n",
    "        fechas.reverse()\n",
    "        horas.reverse()\n",
    "        comentarios.reverse()\n",
    "        \n",
    "        tuples = zip(linksRepe, autores, fechas, horas, comentarios)\n",
    "        newsAndComments = newsAndComments + tuples\n",
    "    \n",
    "newsAndComments     \n",
    "        "
   ]
  }
 ],
 "metadata": {
  "kernelspec": {
   "display_name": "Python 3",
   "language": "python",
   "name": "python3"
  },
  "language_info": {
   "codemirror_mode": {
    "name": "ipython",
    "version": 3
   },
   "file_extension": ".py",
   "mimetype": "text/x-python",
   "name": "python",
   "nbconvert_exporter": "python",
   "pygments_lexer": "ipython3",
   "version": "3.6.8"
  }
 },
 "nbformat": 4,
 "nbformat_minor": 0
}
