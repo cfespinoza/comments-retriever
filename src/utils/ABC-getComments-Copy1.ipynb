{
 "cells": [
  {
   "cell_type": "code",
   "execution_count": 1,
   "metadata": {
    "collapsed": true
   },
   "outputs": [],
   "source": [
    "import sys\n",
    "from PyQt5 import QtCore, QtWidgets, QtWebEngineWidgets\n",
    "from lxml import html as htmlRenderer\n",
    "import requests\n",
    "import json\n",
    "from datetime import date"
   ]
  },
  {
   "cell_type": "code",
   "execution_count": 2,
   "metadata": {
    "collapsed": true
   },
   "outputs": [],
   "source": [
    "def render(source_url):\n",
    "    \"\"\"Fully render HTML, JavaScript and all.\"\"\"\n",
    "\n",
    "    import sys\n",
    "    from PyQt5.QtWidgets import QApplication\n",
    "    from PyQt5.QtCore import QUrl\n",
    "    from PyQt5.QtWebEngineWidgets import QWebEngineView\n",
    "\n",
    "    class Render(QWebEngineView):\n",
    "        def __init__(self, url):\n",
    "            self.html = None\n",
    "            self.app = QApplication(sys.argv)\n",
    "            QWebEngineView.__init__(self)\n",
    "            self.loadFinished.connect(self._loadFinished)\n",
    "            #self.setHtml(html)\n",
    "            self.load(QUrl(url))\n",
    "            self.app.exec_()\n",
    "\n",
    "        def _loadFinished(self, result):\n",
    "            # This is an async call, you need to wait for this\n",
    "            # to be called before closing the app\n",
    "            self.page().toHtml(self._callable)\n",
    "\n",
    "        def _callable(self, data):\n",
    "            self.html = data\n",
    "            # Data has been stored, it's safe to quit the app\n",
    "            self.app.quit()\n",
    "\n",
    "    return Render(source_url).html"
   ]
  },
  {
   "cell_type": "code",
   "execution_count": 3,
   "metadata": {
    "collapsed": true
   },
   "outputs": [],
   "source": [
    "url=\"https://www.abc.es/espana/madrid/abci-isabel-diaz-ayuso-investida-presidenta-comunidad-madrid-201908141807_noticia.html\"\n",
    "renderUrl = render(url)\n",
    "renderedPage = htmlRenderer.fromstring(renderUrl)"
   ]
  },
  {
   "cell_type": "code",
   "execution_count": 6,
   "metadata": {
    "collapsed": true
   },
   "outputs": [],
   "source": [
    "auxLinks = renderedPage.xpath(\"//div[@id='comments-container']\")"
   ]
  },
  {
   "cell_type": "code",
   "execution_count": 8,
   "metadata": {
    "collapsed": false
   },
   "outputs": [],
   "source": [
    "commentEl = auxLinks[0]"
   ]
  },
  {
   "cell_type": "code",
   "execution_count": 9,
   "metadata": {
    "collapsed": true
   },
   "outputs": [],
   "source": [
    "commentElVal = commentEl.get(\"data-voc-comments-stream-id\")"
   ]
  },
  {
   "cell_type": "code",
   "execution_count": 10,
   "metadata": {
    "collapsed": false
   },
   "outputs": [
    {
     "data": {
      "text/plain": [
       "'2b007c12-be83-11e9-ad48-1988f3591334'"
      ]
     },
     "execution_count": 10,
     "metadata": {},
     "output_type": "execute_result"
    }
   ],
   "source": [
    "commentElVal"
   ]
  },
  {
   "cell_type": "code",
   "execution_count": 74,
   "metadata": {
    "collapsed": false
   },
   "outputs": [],
   "source": [
    "# Get Comments Info\n",
    "\n",
    "urlInfoComments = \"https://gigya.abc.es/comments.getStreamInfo\"\n",
    "\n",
    "infoArg = {\n",
    "    \"categoryID\": \"abcdigital\",\n",
    "    \"streamID\": commentElVal,\n",
    "    \"ctag\": \"comments_v2_templates\",\n",
    "    \"APIKey\": \"3_VjZL6dNEbebJWZu9Fa8JJuSZV00WJeDxEoQEbvVyi-0vOVjBGo7fwqGxuZRNOU5B\",\n",
    "    \"cid\": \"\",\n",
    "    \"source\": \"showCommentsUI\",\n",
    "    \"sourceData\": {\"categoryID\":\"abcdigital\",\"streamID\":commentElVal},\n",
    "    \"sdk\": \"js_latest\",\n",
    "    \"authMode\": \"cookie\",\n",
    "    \"pageURL\": url,\n",
    "    \"format\": \"json\",\n",
    "    \"callback\": \"gigya.callback\"\n",
    "}"
   ]
  },
  {
   "cell_type": "code",
   "execution_count": 75,
   "metadata": {
    "collapsed": true
   },
   "outputs": [],
   "source": [
    "responseInfoComments = requests.get(urlInfoComments, infoArg)"
   ]
  },
  {
   "cell_type": "code",
   "execution_count": 76,
   "metadata": {
    "collapsed": false
   },
   "outputs": [],
   "source": [
    "infoComments = json.loads(responseInfoComments.text)"
   ]
  },
  {
   "cell_type": "code",
   "execution_count": 77,
   "metadata": {
    "collapsed": false,
    "scrolled": false
   },
   "outputs": [
    {
     "data": {
      "text/plain": [
       "{'callId': '429fe8e4bdaa448c99af78de07bc6bcf',\n",
       " 'errorCode': 0,\n",
       " 'ignoredParams': [{'message': 'This parameter was not recognized as valid for this API method with your security credentials nor was it recognized as a standard Gigya control parameter.',\n",
       "   'paramName': 'includeSettings',\n",
       "   'warningCode': 403007}],\n",
       " 'statusCode': 200,\n",
       " 'statusReason': 'OK',\n",
       " 'streamInfo': {'approvedCommentCount': 171,\n",
       "  'categoryID': 'abcdigital',\n",
       "  'commentCount': 171,\n",
       "  'createDate': 1565799188912,\n",
       "  'isUserSubscribed': False,\n",
       "  'lastCommentTimestamp': 1565861177845,\n",
       "  'moderationMode': 'inherit',\n",
       "  'moderationModes': {'image': 'inherit',\n",
       "   'other': 'inherit',\n",
       "   'text': 'inherit',\n",
       "   'url': 'inherit',\n",
       "   'video': 'inherit'},\n",
       "  'ratingCount': 0,\n",
       "  'rssURL': 'http://comments.eu1.gigya.com/comments/rss/6287231/abcdigital/2b007c12-be83-11e9-ad48-1988f3591334',\n",
       "  'status': 'enabled',\n",
       "  'streamID': '2b007c12-be83-11e9-ad48-1988f3591334',\n",
       "  'streamTags': [],\n",
       "  'streamTitle': 'Isabel Díaz Ayuso, investida presidenta de la Comunidad de Madrid',\n",
       "  'streamURL': 'https://www.abc.es/espana/madrid/abci-isabel-diaz-ayuso-investida-presidenta-comunidad-madrid-201908141807_noticia.html',\n",
       "  'threadCount': 58},\n",
       " 'time': '2019-08-15T21:56:51.797Z'}"
      ]
     },
     "execution_count": 77,
     "metadata": {},
     "output_type": "execute_result"
    }
   ],
   "source": [
    "infoComments"
   ]
  },
  {
   "cell_type": "code",
   "execution_count": 29,
   "metadata": {
    "collapsed": false
   },
   "outputs": [
    {
     "data": {
      "text/plain": [
       "1565799188912"
      ]
     },
     "execution_count": 29,
     "metadata": {},
     "output_type": "execute_result"
    }
   ],
   "source": [
    "infoComments[\"streamInfo\"][\"createDate\"]"
   ]
  },
  {
   "cell_type": "code",
   "execution_count": 78,
   "metadata": {
    "collapsed": false
   },
   "outputs": [],
   "source": [
    "\"\"\"\n",
    "categoryID: abcdigital\n",
    "streamID: 2b007c12-be83-11e9-ad48-1988f3591334\n",
    "includeSettings: true\n",
    "start: ts_1565815688551\n",
    "threaded: true\n",
    "includeUserOptions: true\n",
    "includeUserHighlighting: true\n",
    "lang: es\n",
    "ctag: comments_v2_templates\n",
    "APIKey: 3_VjZL6dNEbebJWZu9Fa8JJuSZV00WJeDxEoQEbvVyi-0vOVjBGo7fwqGxuZRNOU5B\n",
    "cid: \n",
    "source: showCommentsUI\n",
    "sourceData: {\"categoryID\":\"abcdigital\",\"streamID\":\"2b007c12-be83-11e9-ad48-1988f3591334\"}\n",
    "sdk: js_latest\n",
    "authMode: cookie\n",
    "pageURL: https://www.abc.es/espana/madrid/abci-isabel-diaz-ayuso-investida-presidenta-comunidad-madrid-201908141807_noticia.html\n",
    "format: jsonp\n",
    "callback: gigya.callback\n",
    "context: R925234943\n",
    "\"\"\"\n",
    "\n",
    "initDateComments = infoComments[\"streamInfo\"][\"createDate\"]\n",
    "commentsArgs = {\n",
    "    \"categoryID\": \"abcdigital\",\n",
    "    \"includeSettings\": \"true\",\n",
    "    \"threaded\": \"true\",\n",
    "    \"includeUserOptions\": \"true\",\n",
    "    \"includeUserHighlighting\": \"true\",\n",
    "    \"lang\": \"es\",\n",
    "    \"streamID\": commentElVal,\n",
    "    \"ctag\": \"comments_v2_templates\",\n",
    "    \"APIKey\": \"3_VjZL6dNEbebJWZu9Fa8JJuSZV00WJeDxEoQEbvVyi-0vOVjBGo7fwqGxuZRNOU5B\",\n",
    "    \"cid\": \"\",\n",
    "    \"source\": \"showCommentsUI\",\n",
    "    \"sourceData\": {\"categoryID\":\"abcdigital\",\"streamID\":commentElVal},\n",
    "    \"sdk\": \"js_latest\",\n",
    "    \"authMode\": \"cookie\",\n",
    "    \"pageURL\": url,\n",
    "    \"format\": \"json\",\n",
    "    \"callback\": \"gigya.callback\"\n",
    "}"
   ]
  },
  {
   "cell_type": "code",
   "execution_count": 79,
   "metadata": {
    "collapsed": true
   },
   "outputs": [],
   "source": [
    "urlGetComments = \"https://gigya.abc.es/comments.getComments\"\n",
    "responseComments = requests.get(urlGetComments, commentsArgs)"
   ]
  },
  {
   "cell_type": "code",
   "execution_count": 80,
   "metadata": {
    "collapsed": true
   },
   "outputs": [],
   "source": [
    "commentsResponse = json.loads(responseComments.text)"
   ]
  },
  {
   "cell_type": "code",
   "execution_count": 81,
   "metadata": {
    "collapsed": false,
    "scrolled": false
   },
   "outputs": [
    {
     "data": {
      "text/plain": [
       "{'callId': 'b90da9a9c3ab4fb7a3daccdc8e8f1bb9',\n",
       " 'commentCount': 13,\n",
       " 'comments': [{'ID': 'd2fbede03fef4685b4551a446efe3bfa',\n",
       "   'TotalVotes': -2,\n",
       "   'commentText': 'Que alguien le pellizque !!',\n",
       "   'edited': False,\n",
       "   'flagCount': 0,\n",
       "   'highlightGroups': [],\n",
       "   'isModerator': False,\n",
       "   'negVotes': 2,\n",
       "   'posVotes': 0,\n",
       "   'sender': {'isSelf': False,\n",
       "    'loginProvider': 'Site',\n",
       "    'name': 'talfocea_731',\n",
       "    'photoURL': 'https://cdns.gigya.com/photos/6287231/bd4449444bb64c66adaadffb1607c3e6/thumbnail?ts=636383402192562379'},\n",
       "   'status': 'published',\n",
       "   'streamId': '2b007c12-be83-11e9-ad48-1988f3591334',\n",
       "   'threadID': '',\n",
       "   'threadTimestamp': 1565860984011,\n",
       "   'timestamp': 1565860984011,\n",
       "   'vote': 'none'},\n",
       "  {'ID': '62849ff5ac504e9cabd02a99fdec9648',\n",
       "   'TotalVotes': 4,\n",
       "   'commentText': 'La verdad es que me alegro. Al menos la Comunidad de Madrid, con la ciudad de Madrid incluída, se libran del desastre PS-PODEMOS. La izquierda no es progreso, sino la distribución igualitaria de la miseria.',\n",
       "   'edited': False,\n",
       "   'flagCount': 0,\n",
       "   'highlightGroups': [],\n",
       "   'isModerator': False,\n",
       "   'negVotes': 1,\n",
       "   'posVotes': 5,\n",
       "   'sender': {'isSelf': False,\n",
       "    'loginProvider': 'Facebook',\n",
       "    'name': 'JMSA',\n",
       "    'photoURL': 'https://cdns.gigya.com/photos/6287231/46e3451a48a24d63b35fcb8697087e47/orig?ts=635253285326877847'},\n",
       "   'status': 'published',\n",
       "   'streamId': '2b007c12-be83-11e9-ad48-1988f3591334',\n",
       "   'threadID': '',\n",
       "   'threadTimestamp': 1565826232612,\n",
       "   'timestamp': 1565826232612,\n",
       "   'vote': 'none'},\n",
       "  {'ID': 'c4d4606915634b218f15072439b70afd',\n",
       "   'TotalVotes': 3,\n",
       "   'commentText': 'Se necesita un partido valiente que acabe con esta cobardía del buenísmo y poniendo las cosas claras encima de la mesa, pero visto lo visto en este país sin patriotismo lo llevamos claro. Ejemplo negativo Barcelona. Con lo grande que fue España y el potencial que tiene es una pena.',\n",
       "   'edited': False,\n",
       "   'flagCount': 0,\n",
       "   'highlightGroups': [],\n",
       "   'isModerator': False,\n",
       "   'negVotes': 0,\n",
       "   'posVotes': 3,\n",
       "   'sender': {'isSelf': False, 'loginProvider': 'Site', 'name': 'unomas2019'},\n",
       "   'status': 'published',\n",
       "   'streamId': '2b007c12-be83-11e9-ad48-1988f3591334',\n",
       "   'threadID': '',\n",
       "   'threadTimestamp': 1565825727130,\n",
       "   'timestamp': 1565825727130,\n",
       "   'vote': 'none'},\n",
       "  {'ID': 'f919bce45c984853933185587042226a',\n",
       "   'TotalVotes': 2,\n",
       "   'commentText': \"\\t\\t\\t\\t\\t<p>Uno de los mayores problemas es que España ya no tiene mucho más tiempo. No se puede hacer la misma política del esperar y contemporizar, hasta que la cosa mejore por alguna razón aleatoria. Esa es, además, la política de la 'derechita cobarde' que, poco apoco, nos ha llevado al abismo. Si no había emergencia nacional, como Vox ha implicado en su discurso electoral, entonces Vox no es necesario, pues para hacer este tipo de pactos ya tenemos a los partidos tradicionales. Para este viaje no hacían falta estas alforjas.</p><p>\\t\\t\\t\\t\\t</p><p>La solución es presionar en lo general... en lo 'universal' que diría José Antonio. Vox casi lo ha visto pero se ha acobardado y echado atrás, quizás porque no lo entiende, no lo ha hecho o estudiado antes o, lo más seguro, porque se ha asustado ante las perspectivas de lucha seria que eso puede abrir. Lo que importa es España en su conjunto, no una comunidad, una ciudad u otra por separado. Solo generando una oposición nacional se puede ganar y parar la descomposición avanzada en la que estamos. Pero tiene que haber lucha y no va a ser con guante blanco. Si no se lucha AHORA España está perdida.</p>\",\n",
       "   'edited': False,\n",
       "   'flagCount': 0,\n",
       "   'highlightGroups': [],\n",
       "   'isModerator': False,\n",
       "   'negVotes': 0,\n",
       "   'posVotes': 2,\n",
       "   'sender': {'isSelf': False,\n",
       "    'loginProvider': 'GooglePlus',\n",
       "    'name': 'comite.espartaco_3067',\n",
       "    'photoURL': 'https://lh5.googleusercontent.com/-tgFNziN_jsA/AAAAAAAAAAI/AAAAAAAAAAA/TyG35HZq57k/photo.jpg?sz=50',\n",
       "    'profileURL': 'https://plus.google.com/102416831693027473325'},\n",
       "   'status': 'published',\n",
       "   'streamId': '2b007c12-be83-11e9-ad48-1988f3591334',\n",
       "   'threadID': '',\n",
       "   'threadTimestamp': 1565821110051,\n",
       "   'timestamp': 1565821110051,\n",
       "   'vote': 'none'},\n",
       "  {'ID': 'ec28889bed4c404da81adcbf2a8cb1ba',\n",
       "   'TotalVotes': -3,\n",
       "   'commentText': 'Ciudadanos, cómplice necesario de VOX.<br />',\n",
       "   'descendantsCount': 1,\n",
       "   'edited': False,\n",
       "   'flagCount': 0,\n",
       "   'highlightGroups': [],\n",
       "   'isModerator': False,\n",
       "   'negVotes': 5,\n",
       "   'posVotes': 2,\n",
       "   'replies': [{'ID': 'e1661e6f1ea24d659f59b8d5e7055e1b',\n",
       "     'TotalVotes': 2,\n",
       "     'commentText': '<div><div>En <b>BILDU</b> hay secuestradores, y en <b>VOX</b> secuestrados.</div><div><br /></div><div>En <b>PODEMOS</b> hay asesinos, y en <b>VOX</b> familiares de asesinados.</div><div><br /></div><div>En <b>ERC</b> hay golpistas encarcelados, y en <b>VOX</b> la acusación popular contra ellos.</div><div><br /></div><div>https://twitter.com/Alvisepf/status/1142460565270466563</div><div>\\xa0\\xa0\\xa0\\xa0\\xa0\\xa0\\xa0\\xa0\\xa0\\xa0\\xa0\\xa0\\xa0 <br /></div></div>',\n",
       "     'edited': False,\n",
       "     'flagCount': 0,\n",
       "     'highlightGroups': [],\n",
       "     'isModerator': False,\n",
       "     'negVotes': 0,\n",
       "     'parentID': 'ec28889bed4c404da81adcbf2a8cb1ba',\n",
       "     'posVotes': 2,\n",
       "     'sender': {'isSelf': False,\n",
       "      'loginProvider': 'Site',\n",
       "      'name': 'OBIS',\n",
       "      'photoURL': 'https://cdns.gigya.com/photos/6288711/31bc6dcf2f954beaa3af11d9b2058384/orig?ts=635079614978905786'},\n",
       "     'status': 'published',\n",
       "     'streamId': '2b007c12-be83-11e9-ad48-1988f3591334',\n",
       "     'threadID': 'ec28889bed4c404da81adcbf2a8cb1ba',\n",
       "     'threadTimestamp': 0,\n",
       "     'timestamp': 1565856649314,\n",
       "     'vote': 'none'}],\n",
       "   'sender': {'isSelf': False,\n",
       "    'loginProvider': 'Site',\n",
       "    'name': 'Multinick',\n",
       "    'photoURL': 'https://cdns.gigya.com/photos/6287231/0f2a59fab2124bddb9f33add24f1cd45/orig?ts=635277489143642778'},\n",
       "   'status': 'published',\n",
       "   'streamId': '2b007c12-be83-11e9-ad48-1988f3591334',\n",
       "   'threadID': '',\n",
       "   'threadTimestamp': 1565819743482,\n",
       "   'timestamp': 1565819743482,\n",
       "   'vote': 'none'},\n",
       "  {'ID': 'c20e99fdf8d94efb80c31b85fc1b750f',\n",
       "   'TotalVotes': -1,\n",
       "   'commentText': 'Casada no ha ido para no hacerse la foto con Ayuso, no sea que le pase lo mismo que a Rajoy con Matas, Fabra o Camps, o a Aznar con los del bodorrio de El Escorial.....<br />',\n",
       "   'edited': False,\n",
       "   'flagCount': 0,\n",
       "   'highlightGroups': [],\n",
       "   'isModerator': False,\n",
       "   'negVotes': 4,\n",
       "   'posVotes': 3,\n",
       "   'sender': {'isSelf': False,\n",
       "    'loginProvider': 'Site',\n",
       "    'name': 'Multinick',\n",
       "    'photoURL': 'https://cdns.gigya.com/photos/6287231/0f2a59fab2124bddb9f33add24f1cd45/orig?ts=635277489143642778'},\n",
       "   'status': 'published',\n",
       "   'streamId': '2b007c12-be83-11e9-ad48-1988f3591334',\n",
       "   'threadID': '',\n",
       "   'threadTimestamp': 1565819033220,\n",
       "   'timestamp': 1565819033220,\n",
       "   'vote': 'none'},\n",
       "  {'ID': 'b01006b722664492b5c59a67083912d8',\n",
       "   'TotalVotes': -2,\n",
       "   'commentText': 'Yo le deseo a Monasterio lo mayores éxitos por el bien de los madrileños...pero aunque cometa errores, por grandes que estos sean, aquí no se darán por enterados.<div><br /></div><div><br /></div>',\n",
       "   'descendantsCount': 2,\n",
       "   'edited': False,\n",
       "   'flagCount': 0,\n",
       "   'highlightGroups': [],\n",
       "   'isModerator': False,\n",
       "   'negVotes': 4,\n",
       "   'posVotes': 2,\n",
       "   'replies': [{'ID': '15d4958f4e844c42b2a7597c598308c2',\n",
       "     'TotalVotes': -1,\n",
       "     'commentText': 'Hablo la pitonisa del oráculo de Delfos...',\n",
       "     'edited': False,\n",
       "     'flagCount': 0,\n",
       "     'highlightGroups': [],\n",
       "     'isModerator': False,\n",
       "     'negVotes': 2,\n",
       "     'parentID': 'b01006b722664492b5c59a67083912d8',\n",
       "     'posVotes': 1,\n",
       "     'sender': {'isSelf': False,\n",
       "      'loginProvider': 'Site',\n",
       "      'name': 'La Cruz del Rio',\n",
       "      'photoURL': 'https://cdns.gigya.com/photos/6287231/11d619bb395047c7be7aaa0c7a97ccdc/thumbnail?ts=636363951725738685'},\n",
       "     'status': 'published',\n",
       "     'streamId': '2b007c12-be83-11e9-ad48-1988f3591334',\n",
       "     'threadID': 'b01006b722664492b5c59a67083912d8',\n",
       "     'threadTimestamp': 0,\n",
       "     'timestamp': 1565817231556,\n",
       "     'vote': 'none'},\n",
       "    {'ID': '0aa60d08801c499abfb8039f9b9315f9',\n",
       "     'TotalVotes': 1,\n",
       "     'commentText': 'Shuuuuuuuusss a callar',\n",
       "     'edited': False,\n",
       "     'flagCount': 0,\n",
       "     'highlightGroups': [],\n",
       "     'isModerator': False,\n",
       "     'negVotes': 1,\n",
       "     'parentID': 'b01006b722664492b5c59a67083912d8',\n",
       "     'posVotes': 2,\n",
       "     'sender': {'isSelf': False,\n",
       "      'loginProvider': 'Site',\n",
       "      'name': 'antonio.ortiz52',\n",
       "      'photoURL': 'http://profile.ak.fbcdn.net/static-ak/rsrc.php/v1/',\n",
       "      'profileURL': 'https://www.linkedin.com/in/j-antonio-borbolla-2193619b'},\n",
       "     'status': 'published',\n",
       "     'streamId': '2b007c12-be83-11e9-ad48-1988f3591334',\n",
       "     'threadID': 'b01006b722664492b5c59a67083912d8',\n",
       "     'threadTimestamp': 0,\n",
       "     'timestamp': 1565824058430,\n",
       "     'vote': 'none'}],\n",
       "   'sender': {'isSelf': False,\n",
       "    'loginProvider': 'Site',\n",
       "    'name': 'rascayud',\n",
       "    'photoURL': 'https://cdns.gigya.com/photos/6287231/9b071d28bbd6405987157cf93ca5aedf/orig?ts=635241779827022806',\n",
       "    'profileURL': 'http://www.facebook.com/100001235945988'},\n",
       "   'status': 'published',\n",
       "   'streamId': '2b007c12-be83-11e9-ad48-1988f3591334',\n",
       "   'threadID': '',\n",
       "   'threadTimestamp': 1565816908909,\n",
       "   'timestamp': 1565816908909,\n",
       "   'vote': 'none'},\n",
       "  {'ID': '5ce3f4b1ad7e4e128229a9116f68e1ef',\n",
       "   'TotalVotes': -1,\n",
       "   'commentText': \"\\t\\t\\t\\t\\t<p>A Peper. Saber los nombres de unos cuantos 'getas' que se aprovechan de nosotros es un truco trilero más que no va a cambiar la situación, especialmente porque no es muy difícil saber esos nombres en un sistema de corrupción política generalizada. Solo habría que mirar a toda la casta política que nos saquea... Además la rama PP de la PPSOE, señalando a la rama SOE de la PPSOE, es como un borracho apoyándose en otro borracho.</p><p>A fharo53. Es lógico que se asombre usted con nuestro lenguaje... tras tantas décadas en la caverna del 'sálvame' lo que decimos le debe sonar a chino. Pero ya lo dice el refrán... 'no está hecha la miel para la boca del...'.</p>\",\n",
       "   'edited': False,\n",
       "   'flagCount': 0,\n",
       "   'highlightGroups': [],\n",
       "   'isModerator': False,\n",
       "   'negVotes': 1,\n",
       "   'posVotes': 0,\n",
       "   'sender': {'isSelf': False,\n",
       "    'loginProvider': 'GooglePlus',\n",
       "    'name': 'comite.espartaco_3067',\n",
       "    'photoURL': 'https://lh5.googleusercontent.com/-tgFNziN_jsA/AAAAAAAAAAI/AAAAAAAAAAA/TyG35HZq57k/photo.jpg?sz=50',\n",
       "    'profileURL': 'https://plus.google.com/102416831693027473325'},\n",
       "   'status': 'published',\n",
       "   'streamId': '2b007c12-be83-11e9-ad48-1988f3591334',\n",
       "   'threadID': '',\n",
       "   'threadTimestamp': 1565816588291,\n",
       "   'timestamp': 1565816588291,\n",
       "   'vote': 'none'},\n",
       "  {'ID': '4e1779e6276b4c95bfca193dac760416',\n",
       "   'TotalVotes': -1,\n",
       "   'commentText': 'La gente vota a aquellos que, por acción u omisión, defiende sus intereses. Pero si los miles de carteristas extranjeros que se mueven por Madrid, 500 de los cuales en el metro de Madrid, pudieran votar, entonces PP y Cs obtendrían mayoría absoluta y no necesitarían del apoyo de Vox.',\n",
       "   'edited': False,\n",
       "   'flagCount': 0,\n",
       "   'highlightGroups': [],\n",
       "   'isModerator': False,\n",
       "   'negVotes': 3,\n",
       "   'posVotes': 2,\n",
       "   'sender': {'isSelf': False,\n",
       "    'loginProvider': 'Site',\n",
       "    'name': 'ANONYMOUS',\n",
       "    'photoURL': 'https://cdns.gigya.com/photos/6287231/a68032c50dac464c9e0c760366c5d2af/thumbnail?ts=636400724388387941'},\n",
       "   'status': 'published',\n",
       "   'streamId': '2b007c12-be83-11e9-ad48-1988f3591334',\n",
       "   'threadID': '',\n",
       "   'threadTimestamp': 1565816504096,\n",
       "   'timestamp': 1565816504096,\n",
       "   'vote': 'none'},\n",
       "  {'ID': '3761ec49c2f749febfa14cd59e743720',\n",
       "   'TotalVotes': 8,\n",
       "   'commentText': 'Ahora cometereis los mismos errores que el marianismo:<div><br /></div><div>Dejaréis telemadrid en manos de la izquierda.....</div><div><br /></div><div>Dejaréis la educación en manos de la izquierda ......</div><div><br /></div><div>Dejaréis los chiringuitos de ingenieria social en manos de la izquierda convenientemente subvencionados y financiados.......</div><div><br /></div><div>Y luego vendrán las lamentaciones.....Espero equivocarme y que la derecha politica española haya aprendido de los enormes errores del marianismo.</div>',\n",
       "   'edited': False,\n",
       "   'flagCount': 0,\n",
       "   'highlightGroups': [],\n",
       "   'isModerator': False,\n",
       "   'negVotes': 1,\n",
       "   'posVotes': 9,\n",
       "   'sender': {'isSelf': False, 'loginProvider': 'Site', 'name': 'ESCORIAL'},\n",
       "   'status': 'published',\n",
       "   'streamId': '2b007c12-be83-11e9-ad48-1988f3591334',\n",
       "   'threadID': '',\n",
       "   'threadTimestamp': 1565815688551,\n",
       "   'timestamp': 1565815688551,\n",
       "   'vote': 'none'}],\n",
       " 'errorCode': 0,\n",
       " 'hasMore': True,\n",
       " 'next': 'ts_1565815688551',\n",
       " 'nextTS': 1565815688551,\n",
       " 'settings': {'allowAnonymous': False,\n",
       "  'allowCommentDeletion': False,\n",
       "  'allowGuest': False,\n",
       "  'allowMultipleReviewsPerUser': False,\n",
       "  'allowNegativeVoting': True,\n",
       "  'disableCommentsCount': False,\n",
       "  'disableRSS': False,\n",
       "  'displayPosNegVotes': True,\n",
       "  'enableCommentBody': 'enabled_mandatory',\n",
       "  'enableCommentTitles': 'disabled',\n",
       "  'enableDirectCommentLinking': False,\n",
       "  'enableFBComments': False,\n",
       "  'enableFlagging': True,\n",
       "  'enableLinks': False,\n",
       "  'enableMediaItems': False,\n",
       "  'enableRatings': 'disabled',\n",
       "  'enableRichTextEditing': True,\n",
       "  'enableUserSorting': False,\n",
       "  'enableUserTagging': False,\n",
       "  'enableVoting': True,\n",
       "  'flaggingEmailAfter': 0,\n",
       "  'flaggingPendingAfter': 0,\n",
       "  'highlightGroupsSettings': [{'badgeColor': '#00AEEF',\n",
       "    'badgeFrame': 'rectangle',\n",
       "    'badgeText': 'Moderator',\n",
       "    'commenterNameColor': '#00AEEF',\n",
       "    'enabled': True,\n",
       "    'name': 'Moderators',\n",
       "    'showBadge': True,\n",
       "    'type': 'moderator'},\n",
       "   {'badgeColor': '#828282',\n",
       "    'badgeFrame': 'rectangle',\n",
       "    'badgeText': 'Expert',\n",
       "    'commenterNameColor': '#000000',\n",
       "    'enabled': False,\n",
       "    'name': 'Experts',\n",
       "    'showBadge': True,\n",
       "    'type': 'user'},\n",
       "   {'badgeColor': '#7A3CC6',\n",
       "    'badgeFrame': 'rectangle',\n",
       "    'badgeText': 'Journalist',\n",
       "    'commenterNameColor': '#000000',\n",
       "    'enabled': False,\n",
       "    'name': 'Journalists',\n",
       "    'showBadge': True,\n",
       "    'type': 'user'},\n",
       "   {'badgeColor': '#39B54A',\n",
       "    'badgeFrame': 'rectangle',\n",
       "    'badgeText': 'Staff',\n",
       "    'commenterNameColor': '#000000',\n",
       "    'enabled': False,\n",
       "    'name': 'Staff',\n",
       "    'showBadge': True,\n",
       "    'type': 'user'},\n",
       "   {'badgeColor': '#009CDC',\n",
       "    'badgeFrame': 'none',\n",
       "    'badgeImageURL': 'https://cdns.gigya.com/gs/i/comments2/editors_pick.png',\n",
       "    'badgeText': \"Editor's Pick\",\n",
       "    'commentBackgroundColor': '#E5F8FF',\n",
       "    'commenterNameColor': '',\n",
       "    'enabled': True,\n",
       "    'name': 'Pick',\n",
       "    'showBadge': True,\n",
       "    'type': 'comment'}],\n",
       "  'isGuestEmailRequired': False,\n",
       "  'maxCommentLength': 5000,\n",
       "  'mode': 'comments',\n",
       "  'moderationModes': {'image': 'pre',\n",
       "   'other': 'pre',\n",
       "   'text': 'pre',\n",
       "   'url': 'pre',\n",
       "   'video': 'pre'},\n",
       "  'moderationState': 1,\n",
       "  'newCommentPosition': 'top',\n",
       "  'pageSize': 10,\n",
       "  'ratingDims': [],\n",
       "  'readOnly': False,\n",
       "  'refreshInterval': 30,\n",
       "  'refreshMode': 'full',\n",
       "  'repliesCollapsed': True,\n",
       "  'requireGuestName': True,\n",
       "  'shareToSNCheckboxChecked': True,\n",
       "  'sortBy': 'dateDesc',\n",
       "  'threadingDepth': 5,\n",
       "  'useSiteLogin': False,\n",
       "  'userEditComment': False},\n",
       " 'statusCode': 200,\n",
       " 'statusReason': 'OK',\n",
       " 'threadCount': 10,\n",
       " 'time': '2019-08-15T21:57:21.035Z'}"
      ]
     },
     "execution_count": 81,
     "metadata": {},
     "output_type": "execute_result"
    }
   ],
   "source": [
    "commentsResponse"
   ]
  },
  {
   "cell_type": "code",
   "execution_count": null,
   "metadata": {
    "collapsed": true
   },
   "outputs": [],
   "source": []
  }
 ],
 "metadata": {
  "kernelspec": {
   "display_name": "Python 3",
   "language": "python",
   "name": "python3"
  },
  "language_info": {
   "codemirror_mode": {
    "name": "ipython",
    "version": 3
   },
   "file_extension": ".py",
   "mimetype": "text/x-python",
   "name": "python",
   "nbconvert_exporter": "python",
   "pygments_lexer": "ipython3",
   "version": "3.6.8"
  }
 },
 "nbformat": 4,
 "nbformat_minor": 0
}
