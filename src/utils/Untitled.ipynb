{
 "cells": [
  {
   "cell_type": "code",
   "execution_count": null,
   "metadata": {
    "collapsed": true
   },
   "outputs": [],
   "source": [
    "import sys\n",
    "from PyQt5 import QtCore, QtWidgets, QtWebEngineWidgets\n",
    "from lxml import html as htmlRenderer\n",
    "\n",
    "class WebPage(QtWebEngineWidgets.QWebEnginePage):\n",
    "    def __init__(self):\n",
    "        super(WebPage, self).__init__()\n",
    "        self._newsAndComments = []\n",
    "        self._baseUrl = \"\"\n",
    "        self._firstPageProcessed = False;\n",
    "        self.loadFinished.connect(self.handleLoadFinished)\n",
    "\n",
    "    def start(self, baseUrl):\n",
    "#         self._urls = iter(urls)\n",
    "#         self.fetchNext()\n",
    "        self._baseUrl = baseUrl\n",
    "        self.load(QtCore.QUrl(url))\n",
    "\n",
    "    def fetchNext(self):\n",
    "        try:\n",
    "            url = next(self._urls)\n",
    "        except StopIteration:\n",
    "            return False\n",
    "        else:\n",
    "            self.load(QtCore.QUrl(url))\n",
    "        return True\n",
    "\n",
    "    def processCurrentPage(self, html):\n",
    "        url = self.url().toString()\n",
    "        renderedPage = htmlRenderer.fromstring(html)\n",
    "        if (self._firstPageProcessed):\n",
    "            # do stuff with html...\n",
    "    #         print('loaded: [%d chars] %s' % (len(html), url))\n",
    "            print(\" -> processing extras URL: {}\".format(url))\n",
    "            autores = renderedPage.xpath(\"//div[@class='autor']/span[@class='alias']/text()\")\n",
    "            fechas = renderedPage.xpath(\"//time/span[@class='fecha']/text()\")\n",
    "            horas = renderedPage.xpath(\"//time/span[@class='hora']/text()\")\n",
    "            comentarios = renderedPage.xpath(\"//div[@class='texto-comentario']/p/text()\")\n",
    "\n",
    "            if (len(autores) > 0):\n",
    "                # there are comments\n",
    "                linksRepe = [url]*(len(autores))\n",
    "                autores.reverse()\n",
    "                fechas.reverse()\n",
    "                horas.reverse()\n",
    "                comentarios.reverse()\n",
    "\n",
    "                tuples = zip(linksRepe, autores, fechas, horas, comentarios)\n",
    "                self._newsAndComments = newsAndComments + tuples\n",
    "            if not self.fetchNext():\n",
    "                print(_newsAndComments)\n",
    "                QtWidgets.qApp.quit()\n",
    "        else:\n",
    "            print(\" -> processing base URL: {}\".format(url))\n",
    "            links = renderedPage.xpath(\"//a/@href\")\n",
    "#             links = [ link for link in el if \"elmundo\" in link and \"#ancla_comentarios\" not in link and  \"logo_home\" not in link and \"intcmp\" not in link and \"menu.html\" not in link and \"cgi.elmundo.es\" not in link]\n",
    "            self._urls = iter(links)\n",
    "            self._firstPageProcessed = True\n",
    "            self.fetchNext()\n",
    "\n",
    "    def handleLoadFinished(self):\n",
    "        self.toHtml(self.processCurrentPage)\n"
   ]
  },
  {
   "cell_type": "code",
   "execution_count": null,
   "metadata": {
    "collapsed": false
   },
   "outputs": [],
   "source": [
    "\n",
    "# generate some test urls\n",
    "urls = []\n",
    "url = 'https://www.elmundo.es'\n",
    "app = QtWidgets.QApplication(sys.argv)\n",
    "webpage = WebPage()\n",
    "webpage.start(url)\n",
    "sys.exit(app.exec_())"
   ]
  }
 ],
 "metadata": {
  "kernelspec": {
   "display_name": "Python 3",
   "language": "python",
   "name": "python3"
  },
  "language_info": {
   "codemirror_mode": {
    "name": "ipython",
    "version": 3
   },
   "file_extension": ".py",
   "mimetype": "text/x-python",
   "name": "python",
   "nbconvert_exporter": "python",
   "pygments_lexer": "ipython3",
   "version": "3.6.8"
  }
 },
 "nbformat": 4,
 "nbformat_minor": 0
}
