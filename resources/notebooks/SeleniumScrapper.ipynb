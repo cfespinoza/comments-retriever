{
 "cells": [
  {
   "cell_type": "code",
   "execution_count": 1,
   "metadata": {
    "collapsed": false
   },
   "outputs": [
    {
     "name": "stderr",
     "output_type": "stream",
     "text": [
      "/home/cflores/.local/lib/python3.6/site-packages/ipykernel/__main__.py:9: DeprecationWarning: use options instead of chrome_options\n"
     ]
    }
   ],
   "source": [
    "# Initialize chrome driver\n",
    "from selenium import webdriver\n",
    "\n",
    "options = webdriver.ChromeOptions()\n",
    "options.add_argument('--ignore-certificate-errors')\n",
    "options.add_argument('--incognito')\n",
    "options.add_argument('--headless')\n",
    "# driver = webdriver.Chrome(\"/usr/lib/chromium-browser/chromedriver\", chrome_options=options)\n",
    "driver = webdriver.Chrome(\"/home/cflores/cflores_workspace/pyscrapper/resources/chromedriver\", chrome_options=options)\n"
   ]
  },
  {
   "cell_type": "code",
   "execution_count": 2,
   "metadata": {
    "collapsed": true
   },
   "outputs": [],
   "source": [
    "urlNoticia = \"https://www.elmundo.es/comunidad-valenciana/alicante/2019/08/01/5d42ab7421efa0a46b8b4620.html\""
   ]
  },
  {
   "cell_type": "code",
   "execution_count": 3,
   "metadata": {
    "collapsed": true
   },
   "outputs": [],
   "source": [
    "# generates a browser and navigate in the webpage\n",
    "driver.get(urlNoticia)\n"
   ]
  },
  {
   "cell_type": "code",
   "execution_count": 4,
   "metadata": {
    "collapsed": true
   },
   "outputs": [],
   "source": [
    "# autores = driver.find_elements_by_class_name(\"autor\")\n",
    "# fechas = driver.find_elements_by_class_name(\"fecha\")\n",
    "# horas = driver.find_elements_by_class_name(\"hora\")\n",
    "# comentarios = driver.find_elements_by_class_name(\"texto-comentario\")"
   ]
  },
  {
   "cell_type": "code",
   "execution_count": 5,
   "metadata": {
    "collapsed": false,
    "scrolled": true
   },
   "outputs": [],
   "source": [
    "\n",
    "# totalComentarios = driver.find_element_by_tag_name(\"strong\")\n",
    "# totalComentarios2 = driver.find_element_by_xpath(\"strong[@itemprop='interactionCount']/text()\")\n",
    "totalComentarioEl = driver.find_element_by_class_name(\"js-ueCommentsCounter\")"
   ]
  },
  {
   "cell_type": "code",
   "execution_count": 6,
   "metadata": {
    "collapsed": false
   },
   "outputs": [],
   "source": [
    "idNoticia = totalComentarioEl.get_attribute(\"data-commentid\")"
   ]
  },
  {
   "cell_type": "code",
   "execution_count": 7,
   "metadata": {
    "collapsed": false
   },
   "outputs": [],
   "source": [
    "import time\n",
    "import requests\n",
    "urlBase = \"https://www.elmundo.es/servicios/noticias/scroll/comentarios/comunidad/listar.html\"\n",
    "params = {\"noticia\":1648151,\"version\":\"v2\"}\n",
    "response = requests.get(urlBase, params)"
   ]
  },
  {
   "cell_type": "code",
   "execution_count": 18,
   "metadata": {
    "collapsed": false
   },
   "outputs": [],
   "source": [
    "def extractComments(commentsObjectList):\n",
    "    print(\" \\t -> parsing comments list with -{}- elements:\".format(len(commentsObjectList)))\n",
    "    parsedComments = []\n",
    "    for commentObj in commentsObjectList:\n",
    "        parsedComment = {\n",
    "            \"urlNoticia\": urlNoticia,\n",
    "            \"fecha\": commentObj['date'],\n",
    "            \"hora\": commentObj['time'],\n",
    "            \"user\": commentObj['user'],\n",
    "            \"commentario\": commentObj['body'],\n",
    "            \"order\": commentObj[\"order\"]\n",
    "        }\n",
    "        parsedComments.append(parsedComment)\n",
    "    return parsedComments"
   ]
  },
  {
   "cell_type": "code",
   "execution_count": 19,
   "metadata": {
    "collapsed": false
   },
   "outputs": [
    {
     "name": "stdout",
     "output_type": "stream",
     "text": [
      "{'commentId': '1648151', 'commentable': False, 'total': 103, 'items': [{'id': '15620841', 'order': 103, 'user': 'BigThor', 'avatar': 'https://e00-elmundo.uecdn.es/registro/v2/images/avatar/avatar.svg', 'body': 'Qué mierda de reportaje', 'date': '02/08/2019', 'time': '01:47', 'references': []}, {'id': '15620793', 'order': 102, 'user': 'Peldez65', 'avatar': 'https://e00-elmundo.uecdn.es/registro/v2/images/avatar/avatar.svg', 'body': 'Pues yo acabo de llegar. Tan ricamente oiga usted. Lo mismo que en mis 54 anteriores veranos. El truco es no juntarse con los guiris. Aquí hay de todo. Solamente hay que buscarlo. Y cuando do digo de todo, me refiero a buenos restaurantes, sitios donde tapear, tomar una copa tranquilos, bañarte sin mucho agobio.... hay que conocerlo y amarlo como yo. Viva Benidorm!', 'date': '02/08/2019', 'time': '01:07', 'references': []}, {'id': '15620787', 'order': 101, 'user': 'matraca', 'avatar': 'https://e00-elmundo.uecdn.es/registro/v2/images/avatar/avatar.svg', 'body': '@meritxel #6 ¿Batet?', 'date': '02/08/2019', 'time': '01:05', 'references': [{'order': '6', 'body': 'Los españoles no se quedan atrás, son unos cerdos. Una cosa es que se de un poco de cuerda ya que es un lugar turístico y otra que haya gente gritando, vomitando y meando por todas partes y no se haga nada.'}]}, {'id': '15620687', 'order': 100, 'user': 'palomar', 'avatar': 'https://e00-elmundo.uecdn.es/registro/v2/images/avatar/avatar.svg', 'body': 'Conoci Benidorm cuando era un remanso de paz. el dinero la ha convertido en Sodoma y Gomorra. con la democracia de \"toda la vida\", y sus politicos ateos. el fin viene................', 'date': '02/08/2019', 'time': '00:26', 'references': []}, {'id': '15620609', 'order': 99, 'user': 'juanin76', 'avatar': 'https://e00-elmundo.uecdn.es/registro/v2/images/avatar/avatar.svg', 'body': 'Cómo en España no te drogas en ningún sitio.', 'date': '02/08/2019', 'time': '00:00', 'references': []}, {'id': '15620602', 'order': 98, 'user': 'jomeca', 'avatar': 'https://e00-elmundo.uecdn.es/registro/v2/images/avatar/avatar.svg', 'body': '@SuperJamonero #1 @levandoancla #2 @Bookface #5 @javierutxo #3 Totalmente de acuerdo con @Idiosincrasia #4. La mierda no la traen. Las moscas van donde hay mierda y en España hay, desde hace años mucha mierda, vicio, etc. Vivo en una ciudad del NO de España. Omito el nombre. Es muy triste ver como la sociedad se acostumbra a convivir con esas cosas. No las hacen, no las consumen, pero pasan de perfil y conviven en espacios donde se consume y no por pocos o escondidas. El sábado pasado le comento al propietario de un local céntrico que la \"fariña\" corre que vuela. Respuesta: no es nada si vas a los servicios. Dixit.', 'date': '01/08/2019', 'time': '23:57', 'references': [{'order': '3', 'body': 'que sigan asi, dejando a los ingleses hacer lo que les da la gana, que se cargarán Benidorm de aqui a cinco años'}, {'order': '2', 'body': 'LOS INGLESES hacen de España lo que les da la gana...¿¿.históricamente. Nuestra falta de dignidad no tiene límites. Habría que cerrar los establecimientos y que vayan a drogarse a sus colonias.'}, {'order': '1', 'body': 'Si se fomenta turismo basura toda la ciudad es santuario basura'}, {'order': '5', 'body': 'Me duele leer que parte de mi país sea utilizado de esa manera por ingleses, y me duele aún más que se consienta y fomente.'}, {'order': '4', 'body': '@ SuperJamonero # 1 Hoy dormi poco y las leganas me impediran leerte correctamente... pero estas culpando a la oferta y no a la demanda? Alguien con sentido? Jamas comprendere como culpamos a inglaterra de enviarnos borrachos y drogadictos. Esa es la oferta de turismo en espana y lo que vienne son \"buenos clientes que responen a las espectativas\". Si queremos turismo de calidad no habria que haber hecho las contstrucciones verticales y tender a la horizontalidad, villlas y chalets. Se hubiera cargado de impuestos a la fiesta y se hubiera reducido los impuestos culturales. Pero en un pais donde una revista porno paga un 4% de impuestos y el cine y el teatro pagaban un 21% y se econtraron mucha oposicion por rebajarlo al 10%... pues no tendra otra cosa que el Mamading y demas,. Dejemos el victimismo, si viene lo peor de europa a hacer turismo aqui es solo y exclusivamente NUSTRA culpa'}]}, {'id': '15620590', 'order': 97, 'user': '_SAW_', 'avatar': 'https://e00-elmundo.uecdn.es/social/ugc/avatars/003/791/xlarge_3791259.jpg', 'body': '@chico_40 #90 Y porqué pretendes insultar,si tu cociente es como la temperatura del Polo Norte? Pelín amaneradoeres.', 'date': '01/08/2019', 'time': '23:54', 'references': [{'order': '90', 'body': '@ _SAW_ # 85 Tan tonto es presumir de ir como de no ir. ¿Eres más listo por no ir a Benidorm? Yo creo que más bien todo lo contrario por pensar que esta tontería te hace mejor. Y no tengo nada a favor de Benidorm, lo conozco pero nunca veraneo ahí, me gusta más el norte, no porque sea mejor ni peor, por el clima simplemente.'}]}, {'id': '15620478', 'order': 96, 'user': 'Digolamia', 'avatar': 'https://e00-elmundo.uecdn.es/registro/v2/images/avatar/avatar.svg', 'body': 'Uff q mal! La verdad es que sería el último o uno de los últimos sitios donde yo me perdería de vacaciones. Ya son ganas, ya!', 'date': '01/08/2019', 'time': '23:24', 'references': []}, {'id': '15620410', 'order': 95, 'user': '___U99', 'avatar': 'https://e00-elmundo.uecdn.es/social/ugc/avatars/005/700/xlarge_5700029.jpg', 'body': 'Tengo un islote para mí solo. Es poca cosa... muy pequeño, todo roca, unos cuantos matojos y ni una sombra... pero es mío. Sólo mío...', 'date': '01/08/2019', 'time': '23:09', 'references': []}, {'id': '15620352', 'order': 94, 'user': 'quetepierdasya', 'avatar': 'https://e00-elmundo.uecdn.es/registro/v2/images/avatar/avatar.svg', 'body': '@youtube.la.honorable.sociedad #24 es que españolas ya...no sé, es como que todo es menos Ho Chi Minh, menos la matanza de Texas, aparte que estamos en agosto.', 'date': '01/08/2019', 'time': '22:55', 'references': [{'order': '24', 'body': 'no lancemos las campanas al vuelo que ya hay algunas españolitas de avanzada edad en los bailes en algunos hoteles que no llegan ni a cobrar 20 euros por sesion'}]}], 'lastPage': False}\n",
      " -> retrieved total of comments: 103\n",
      " \t -> parsing comments list with -10- elements:\n",
      " - iterating...\n",
      " -> total of comments: 10\n",
      " -> next pagina: 93\n",
      " \t -> parsing comments list with -10- elements:\n",
      " - iterating...\n",
      " -> total of comments: 20\n",
      " -> next pagina: 83\n",
      " \t -> parsing comments list with -10- elements:\n",
      " - iterating...\n",
      " -> total of comments: 30\n",
      " -> next pagina: 73\n",
      " \t -> parsing comments list with -10- elements:\n",
      " - iterating...\n",
      " -> total of comments: 40\n",
      " -> next pagina: 63\n",
      " \t -> parsing comments list with -10- elements:\n",
      " - iterating...\n",
      " -> total of comments: 50\n",
      " -> next pagina: 53\n",
      " \t -> parsing comments list with -10- elements:\n",
      " - iterating...\n",
      " -> total of comments: 60\n",
      " -> next pagina: 43\n",
      " \t -> parsing comments list with -10- elements:\n",
      " - iterating...\n",
      " -> total of comments: 70\n",
      " -> next pagina: 33\n",
      " \t -> parsing comments list with -10- elements:\n",
      " - iterating...\n",
      " -> total of comments: 80\n",
      " -> next pagina: 23\n",
      " \t -> parsing comments list with -10- elements:\n",
      " - iterating...\n",
      " -> total of comments: 90\n",
      " -> next pagina: 13\n",
      " \t -> parsing comments list with -10- elements:\n",
      " - iterating...\n",
      " -> total of comments: 100\n",
      " -> next pagina: 3\n",
      " \t -> parsing comments list with -2- elements:\n"
     ]
    }
   ],
   "source": [
    "import time\n",
    "import requests\n",
    "import json\n",
    "urlBase = \"https://www.elmundo.es/servicios/noticias/scroll/comentarios/comunidad/listar.html\"\n",
    "params = {\"noticia\":1648151,\"version\":\"v2\"}\n",
    "response = requests.get(urlBase, params)\n",
    "responseDecoded = json.loads(response.text)\n",
    "print(responseDecoded)\n",
    "iterate = responseDecoded[\"lastPage\"]\n",
    "total = responseDecoded[\"total\"]\n",
    "print(\" -> retrieved total of comments: {}\".format(total))\n",
    "comments = extractComments(responseDecoded['items'])\n",
    "while not iterate:\n",
    "    print(\" - iterating...\")\n",
    "    print(\" -> total of comments: {}\".format(len(comments)))\n",
    "    nextComments = total - len(comments)\n",
    "    print(\" -> next pagina: {}\".format(nextComments))\n",
    "    params = {\"noticia\":1648151,\"version\":\"v2\",\"pagina\": nextComments}\n",
    "    response = requests.get(urlBase, params)\n",
    "    responseDecoded = json.loads(response.text)\n",
    "    comments = comments + extractComments(responseDecoded['items'])\n",
    "    iterate = responseDecoded[\"lastPage\"]"
   ]
  },
  {
   "cell_type": "code",
   "execution_count": 20,
   "metadata": {
    "collapsed": false
   },
   "outputs": [
    {
     "data": {
      "text/plain": [
       "102"
      ]
     },
     "execution_count": 20,
     "metadata": {},
     "output_type": "execute_result"
    }
   ],
   "source": [
    "len(comments)"
   ]
  },
  {
   "cell_type": "code",
   "execution_count": 21,
   "metadata": {
    "collapsed": false
   },
   "outputs": [
    {
     "name": "stdout",
     "output_type": "stream",
     "text": [
      " -> order number: 103\n",
      " -> order number: 102\n",
      " -> order number: 101\n",
      " -> order number: 100\n",
      " -> order number: 99\n",
      " -> order number: 98\n",
      " -> order number: 97\n",
      " -> order number: 96\n",
      " -> order number: 95\n",
      " -> order number: 94\n",
      " -> order number: 92\n",
      " -> order number: 91\n",
      " -> order number: 90\n",
      " -> order number: 89\n",
      " -> order number: 88\n",
      " -> order number: 87\n",
      " -> order number: 86\n",
      " -> order number: 85\n",
      " -> order number: 84\n",
      " -> order number: 83\n",
      " -> order number: 82\n",
      " -> order number: 81\n",
      " -> order number: 80\n",
      " -> order number: 79\n",
      " -> order number: 78\n",
      " -> order number: 77\n",
      " -> order number: 76\n",
      " -> order number: 75\n",
      " -> order number: 74\n",
      " -> order number: 73\n",
      " -> order number: 72\n",
      " -> order number: 71\n",
      " -> order number: 70\n",
      " -> order number: 69\n",
      " -> order number: 68\n",
      " -> order number: 67\n",
      " -> order number: 66\n",
      " -> order number: 65\n",
      " -> order number: 64\n",
      " -> order number: 63\n",
      " -> order number: 62\n",
      " -> order number: 61\n",
      " -> order number: 60\n",
      " -> order number: 59\n",
      " -> order number: 58\n",
      " -> order number: 57\n",
      " -> order number: 56\n",
      " -> order number: 55\n",
      " -> order number: 54\n",
      " -> order number: 53\n",
      " -> order number: 52\n",
      " -> order number: 51\n",
      " -> order number: 50\n",
      " -> order number: 49\n",
      " -> order number: 48\n",
      " -> order number: 47\n",
      " -> order number: 46\n",
      " -> order number: 45\n",
      " -> order number: 44\n",
      " -> order number: 43\n",
      " -> order number: 42\n",
      " -> order number: 41\n",
      " -> order number: 40\n",
      " -> order number: 39\n",
      " -> order number: 38\n",
      " -> order number: 37\n",
      " -> order number: 36\n",
      " -> order number: 35\n",
      " -> order number: 34\n",
      " -> order number: 33\n",
      " -> order number: 32\n",
      " -> order number: 31\n",
      " -> order number: 30\n",
      " -> order number: 29\n",
      " -> order number: 28\n",
      " -> order number: 27\n",
      " -> order number: 26\n",
      " -> order number: 25\n",
      " -> order number: 24\n",
      " -> order number: 23\n",
      " -> order number: 22\n",
      " -> order number: 21\n",
      " -> order number: 20\n",
      " -> order number: 19\n",
      " -> order number: 18\n",
      " -> order number: 17\n",
      " -> order number: 16\n",
      " -> order number: 15\n",
      " -> order number: 14\n",
      " -> order number: 13\n",
      " -> order number: 12\n",
      " -> order number: 11\n",
      " -> order number: 10\n",
      " -> order number: 9\n",
      " -> order number: 8\n",
      " -> order number: 7\n",
      " -> order number: 6\n",
      " -> order number: 5\n",
      " -> order number: 4\n",
      " -> order number: 3\n",
      " -> order number: 2\n",
      " -> order number: 1\n"
     ]
    }
   ],
   "source": [
    "for c in comments:\n",
    "    print(\" -> order number: {}\".format(c[\"order\"]))"
   ]
  },
  {
   "cell_type": "code",
   "execution_count": null,
   "metadata": {
    "collapsed": true
   },
   "outputs": [],
   "source": [
    "# autores = driver.find_elements_by_class_name(\"autor\")\n",
    "# fechas = driver.find_elements_by_class_name(\"fecha\")\n",
    "# horas = driver.find_elements_by_class_name(\"hora\")\n",
    "# comentarios = driver.find_elements_by_class_name(\"texto-comentario\")"
   ]
  },
  {
   "cell_type": "code",
   "execution_count": null,
   "metadata": {
    "collapsed": false
   },
   "outputs": [],
   "source": [
    "len(autores)\n",
    "len(fechas)\n",
    "len(horas)\n",
    "len(comentarios)"
   ]
  },
  {
   "cell_type": "code",
   "execution_count": null,
   "metadata": {
    "collapsed": true
   },
   "outputs": [],
   "source": []
  },
  {
   "cell_type": "code",
   "execution_count": null,
   "metadata": {
    "collapsed": true
   },
   "outputs": [],
   "source": []
  },
  {
   "cell_type": "code",
   "execution_count": null,
   "metadata": {
    "collapsed": true
   },
   "outputs": [],
   "source": [
    "# autores = renderedPage.xpath(\"//div[@class='autor']/span[@class='alias']/text()\")\n",
    "# fechas = renderedPage.xpath(\"//time/span[@class='fecha']/text()\")\n",
    "# horas = renderedPage.xpath(\"//time/span[@class='hora']/text()\")\n",
    "# comentarios = renderedPage.xpath(\"//div[@class='texto-comentario']/p/text()\")"
   ]
  }
 ],
 "metadata": {
  "kernelspec": {
   "display_name": "Python 3",
   "language": "python",
   "name": "python3"
  },
  "language_info": {
   "codemirror_mode": {
    "name": "ipython",
    "version": 3
   },
   "file_extension": ".py",
   "mimetype": "text/x-python",
   "name": "python",
   "nbconvert_exporter": "python",
   "pygments_lexer": "ipython3",
   "version": "3.6.8"
  }
 },
 "nbformat": 4,
 "nbformat_minor": 0
}
