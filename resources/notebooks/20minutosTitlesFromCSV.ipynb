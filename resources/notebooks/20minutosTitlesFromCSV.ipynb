{
 "cells": [
  {
   "cell_type": "code",
   "execution_count": 13,
   "metadata": {
    "collapsed": false
   },
   "outputs": [
    {
     "data": {
      "text/plain": [
       "9223372036854775807"
      ]
     },
     "execution_count": 13,
     "metadata": {},
     "output_type": "execute_result"
    }
   ],
   "source": [
    "import csv\n",
    "import sys\n",
    "import requests\n",
    "from lxml import html as htmlRenderer\n",
    "csv.field_size_limit(sys.maxsize)"
   ]
  },
  {
   "cell_type": "code",
   "execution_count": 14,
   "metadata": {
    "collapsed": true
   },
   "outputs": [],
   "source": [
    "csvFileIn = \"/home/cflores/cflores_workspace/comments-retriever/results/20minutos/20minutos-01012019-15092019-contents.csv\"\n",
    "csvFileOut = \"/home/cflores/cflores_workspace/comments-retriever/results/20minutos/20minutos-01012019-15092019-contents-t.csv\"\n",
    "queryXpath = \"//div[@id='main']//h1[@class='article-title']\""
   ]
  },
  {
   "cell_type": "code",
   "execution_count": 15,
   "metadata": {
    "collapsed": true
   },
   "outputs": [],
   "source": [
    "def getTitle(url):\n",
    "    response = requests.get(url)\n",
    "    renderedPage = htmlRenderer.fromstring(response.text)\n",
    "    el = renderedPage.xpath(queryXpath)\n",
    "    title = url\n",
    "    if len(el) == 0:\n",
    "        print(\" -> title not found in: {}\".format(url))\n",
    "    else:\n",
    "        title = el[0].text\n",
    "    return title"
   ]
  },
  {
   "cell_type": "code",
   "execution_count": 16,
   "metadata": {
    "collapsed": false
   },
   "outputs": [
    {
     "name": "stdout",
     "output_type": "stream",
     "text": [
      " -> title not found in: https://www.20minutos.es/noticia/3556752/0/illuminati-dominaran-mundo/\n",
      " -> title not found in: https://www.20minutos.es/noticia/3597306/0/directo-juicio-proces-26-marzo-2019-guardia-civil-1o/\n"
     ]
    }
   ],
   "source": [
    "with open(csvFileIn) as csvIn:\n",
    "    with open(csvFileOut, 'w') as csvOut:\n",
    "        reader = csv.reader(csvIn)\n",
    "        writer = csv.writer(csvOut)\n",
    "        rowNumber = 0\n",
    "        for row in reader:\n",
    "            if rowNumber == 0:\n",
    "                headers = row + [\"titulo\"]\n",
    "                writer.writerow(headers)                \n",
    "            else:\n",
    "                title = getTitle(row[0])\n",
    "                writer.writerow(row + [title])\n",
    "            rowNumber = rowNumber + 1\n"
   ]
  },
  {
   "cell_type": "code",
   "execution_count": null,
   "metadata": {
    "collapsed": true
   },
   "outputs": [],
   "source": []
  },
  {
   "cell_type": "code",
   "execution_count": null,
   "metadata": {
    "collapsed": true
   },
   "outputs": [],
   "source": []
  },
  {
   "cell_type": "code",
   "execution_count": null,
   "metadata": {
    "collapsed": true
   },
   "outputs": [],
   "source": []
  }
 ],
 "metadata": {
  "kernelspec": {
   "display_name": "Python 3",
   "language": "python",
   "name": "python3"
  },
  "language_info": {
   "codemirror_mode": {
    "name": "ipython",
    "version": 3
   },
   "file_extension": ".py",
   "mimetype": "text/x-python",
   "name": "python",
   "nbconvert_exporter": "python",
   "pygments_lexer": "ipython3",
   "version": "3.6.8"
  }
 },
 "nbformat": 4,
 "nbformat_minor": 0
}
