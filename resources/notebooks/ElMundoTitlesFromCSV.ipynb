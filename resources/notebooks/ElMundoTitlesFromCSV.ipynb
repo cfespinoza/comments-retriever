{
 "cells": [
  {
   "cell_type": "code",
   "execution_count": 7,
   "metadata": {
    "collapsed": false
   },
   "outputs": [
    {
     "data": {
      "text/plain": [
       "9223372036854775807"
      ]
     },
     "execution_count": 7,
     "metadata": {},
     "output_type": "execute_result"
    }
   ],
   "source": [
    "import csv\n",
    "import sys\n",
    "import requests\n",
    "from lxml import html as htmlRenderer\n",
    "csv.field_size_limit(sys.maxsize)"
   ]
  },
  {
   "cell_type": "code",
   "execution_count": 42,
   "metadata": {
    "collapsed": false
   },
   "outputs": [],
   "source": [
    "\n",
    "csvFileIn = \"/home/cflores/cflores_workspace/comments-retriever/results/elmundo/elmundo-01012019-15092019-contents.csv\"\n",
    "csvFileOut = \"/home/cflores/cflores_workspace/comments-retriever/results/elmundo/elmundo-01012019-15092019-contents-t.csv\"\n",
    "# queryXpath = \"//div[@class='ue-l-article__header']//h1[@class='js-headline']\"\n",
    "\n",
    "queries_xpath = [\"//div[@class='ue-l-article__header']//h1[@class='js-headline']\", \n",
    "                 \"//div[@class='ue-l-article__header']//h1[@class='ue-c-article__headline js-headline']\",\n",
    "                \"//div[@class='titles']//h1[@class='js-headline']\",\n",
    "                \"//div[@class='ue-l-article__header']//h1\",\n",
    "                \"//h1[@class='ue-c-article__headline js-headline ']\",\n",
    "                \"//h1[@itemprop='headline']\"]\n",
    "\n",
    "query_xpath = \"//div[@class='ue-l-article__header']//h1\""
   ]
  },
  {
   "cell_type": "code",
   "execution_count": 40,
   "metadata": {
    "collapsed": false
   },
   "outputs": [],
   "source": [
    "def getTitle(url):\n",
    "    response = requests.get(url)\n",
    "    renderedPage = htmlRenderer.fromstring(response.text)\n",
    "    title = url\n",
    "    for q in queries_xpath:\n",
    "        el = renderedPage.xpath(q)\n",
    "        if len(el) > 0:\n",
    "            title = el[0].text\n",
    "            break\n",
    "    if title == url:\n",
    "        print (\" \\t -> title not found for url {}\".format(url))\n",
    "    return title"
   ]
  },
  {
   "cell_type": "code",
   "execution_count": 45,
   "metadata": {
    "collapsed": false
   },
   "outputs": [
    {
     "name": "stdout",
     "output_type": "stream",
     "text": [
      " \t -> title not found for url https://www.elmundo.es/internacional/2019/06/03/5cf5101d21efa0d01d8b4652.html\n",
      " \t -> title not found for url https://www.elmundo.es/ciencia-y-salud/ciencia/2019/06/03/5cf4e09221efa076608b469d.html\n",
      " \t -> title not found for url https://www.elmundo.es/espana/2019/06/15/5d04372dfc6c8332068b4585.html\n",
      " \t -> title not found for url https://www.elmundo.es/espana/2019/06/16/5d0554adfdddff624f8b4625.html\n",
      " \t -> title not found for url https://www.elmundo.es/papel/historias/2019/07/17/5d2df541fdddff15988b45b5.html\n",
      " \t -> title not found for url https://www.elmundo.es/papel/historias/2019/07/24/5d36ea51fc6c838f2b8b4654.html\n",
      " \t -> title not found for url https://www.elmundo.es/papel/cultura/2019/07/26/5d39d3f7fdddfff7878b45cb.html\n",
      " \t -> title not found for url https://www.elmundo.es/papel/historias/2019/08/02/5d432977fc6c83d33d8b460e.html\n",
      " \t -> title not found for url https://www.elmundo.es/papel/historias/2019/08/16/5d5543a8fc6c83533d8b45cf.html\n",
      " \t -> title not found for url https://www.elmundo.es/papel/historias/2019/08/22/5d5d6527fc6c8397788b4657.html\n",
      " \t -> title not found for url https://www.elmundo.es/papel/historias/2019/08/24/5d6021db21efa0bd208b45c0.html\n",
      " \t -> title not found for url https://www.elmundo.es/espana/2019/09/15/5d7a20b621efa008238b45f9.html\n"
     ]
    }
   ],
   "source": [
    "with open(csvFileIn) as csvIn:\n",
    "    with open(csvFileOut, 'w') as csvOut:\n",
    "        reader = csv.reader(csvIn)\n",
    "        writer = csv.writer(csvOut)\n",
    "        rowNumber = 0\n",
    "        for row in reader:\n",
    "            if rowNumber == 0:\n",
    "                headers = row + [\"titulo\"]\n",
    "                writer.writerow(headers)\n",
    "            else:\n",
    "                title = getTitle(row[0])\n",
    "                writer.writerow(row + [title])\n",
    "            rowNumber = rowNumber + 1\n"
   ]
  },
  {
   "cell_type": "code",
   "execution_count": null,
   "metadata": {
    "collapsed": true
   },
   "outputs": [],
   "source": []
  },
  {
   "cell_type": "code",
   "execution_count": null,
   "metadata": {
    "collapsed": true
   },
   "outputs": [],
   "source": []
  },
  {
   "cell_type": "code",
   "execution_count": null,
   "metadata": {
    "collapsed": true
   },
   "outputs": [],
   "source": []
  }
 ],
 "metadata": {
  "kernelspec": {
   "display_name": "Python 3",
   "language": "python",
   "name": "python3"
  },
  "language_info": {
   "codemirror_mode": {
    "name": "ipython",
    "version": 3
   },
   "file_extension": ".py",
   "mimetype": "text/x-python",
   "name": "python",
   "nbconvert_exporter": "python",
   "pygments_lexer": "ipython3",
   "version": "3.6.8"
  }
 },
 "nbformat": 4,
 "nbformat_minor": 0
}
