{
 "cells": [
  {
   "cell_type": "code",
   "execution_count": 1,
   "metadata": {
    "collapsed": true
   },
   "outputs": [],
   "source": [
    "import sys\n",
    "from lxml import html as htmlRenderer\n",
    "import requests\n",
    "import json\n",
    "from datetime import date\n",
    "from datetime import datetime\n",
    "from random import *"
   ]
  },
  {
   "cell_type": "code",
   "execution_count": 2,
   "metadata": {
    "collapsed": true
   },
   "outputs": [],
   "source": [
    "\n",
    "urlInfoComments = \"https://comments.eu1.gigya.com/comments.getStreamInfo\"\n",
    "urlGetComments = \"https://comments.eu1.gigya.com/comments.getComments\""
   ]
  },
  {
   "cell_type": "code",
   "execution_count": 3,
   "metadata": {
    "collapsed": true
   },
   "outputs": [],
   "source": [
    "def extractComments(commentsList=None, urlNoticia=None, specialCase=None):\n",
    "    print(\" \\t -> parsing comments list with -{}- elements:\".format(len(commentsList)))\n",
    "    parsedComments = []\n",
    "    listToParse = commentsList[1] if specialCase else commentsList\n",
    "    for commentObj in listToParse:\n",
    "        fechaObj = datetime.fromtimestamp(round(commentObj[\"timestamp\"] / 1000))\n",
    "        fechaStr = fechaObj.strftime(\"%d/%m/%Y-%H:%M:%S\")\n",
    "        fechaArr = fechaStr.split(\"-\")\n",
    "        parsedComment = {\n",
    "            \"urlNoticia\": urlNoticia,\n",
    "            \"fecha\": fechaArr[0],\n",
    "            \"hora\": fechaArr[1],\n",
    "            \"user\": commentObj['sender']['name'],\n",
    "            \"commentario\": commentObj['commentText'],\n",
    "            \"negVotes\": commentObj[\"TotalVotes\"] - commentObj[\"posVotes\"],\n",
    "            \"posVotes\": commentObj[\"posVotes\"]\n",
    "        }\n",
    "        parsedComments.append(parsedComment)\n",
    "        if commentObj.get(\"replies\") != None:\n",
    "            parsedComments = parsedComments + self.extractComments(commentObj.get(\"replies\"), urlNoticia)\n",
    "    return parsedComments"
   ]
  },
  {
   "cell_type": "code",
   "execution_count": 4,
   "metadata": {
    "collapsed": true
   },
   "outputs": [],
   "source": [
    "def lookupForComments(renderedPageHtml=None, url=None):\n",
    "    streamIDStr = \"\"\n",
    "\n",
    "    pageComments = []\n",
    "    if \".es/noticia/\" in url:\n",
    "        streamIDStr = \"noticia-{}\".format(url.split(\"/noticia/\")[1].split(\"/\")[0])\n",
    "    elif \"/noticia/\" in url:\n",
    "        auxSplitted = url.split(\"/noticia/\")[1].split(\"/\")[0].split(\"-\")\n",
    "        streamIDStr = \"noticia-{}\".format(auxSplitted[len(auxSplitted) - 1])\n",
    "\n",
    "    if (streamIDStr != \"\"):\n",
    "        commentElValStreamId = streamIDStr\n",
    "        print(\" \\t-> comment-stream-id to get comments is: {}\".format(commentElValStreamId))\n",
    "\n",
    "        infoArg = {\n",
    "            \"categoryID\": \"prod\",\n",
    "            \"streamID\": commentElValStreamId,\n",
    "            \"ctag\": \"comments_v2\",\n",
    "            \"APIKey\": \"3_Hob3SXLWsBRwjPFz4f4ZEuxPo2PyeElFMWgWO2EXdBYUqwMk8lxNj78Fi_2VW5cH\",\n",
    "            \"sourceData\": {\"categoryID\": \"prod\", \"streamID\": commentElValStreamId},\n",
    "            \"pageURL\": url,\n",
    "            \"cid\": \"\",\n",
    "            \"source\": \"showCommentsUI\",\n",
    "            \"sdk\": \"js_latest\",\n",
    "            \"authMode\": \"cookie\",\n",
    "            \"format\": \"json\",\n",
    "            \"callback\": \"gigya.callback\"\n",
    "        }\n",
    "        responseInfoComments = requests.get(urlInfoComments, infoArg)\n",
    "        infoComments = json.loads(responseInfoComments.text)\n",
    "        print(\" \\t-> getting information for article: {}\".format(url))\n",
    "        print(\n",
    "            \" \\t-> total of comments for current article: {}\".format(infoComments[\"streamInfo\"][\"commentCount\"]))\n",
    "        if infoComments[\"streamInfo\"][\"commentCount\"] > 0:\n",
    "            # La info dice que hay comentarios, se procede a obtenerlos\n",
    "            print(\" -> total of comments is greater than 0\")\n",
    "            nextTs = \"\"\n",
    "            iterate = True\n",
    "            while (iterate):\n",
    "                commentsArgs = {\n",
    "                    \"categoryID\": \"prod\",\n",
    "                    \"streamID\": commentElValStreamId,\n",
    "                    \"sourceData\": {\"categoryID\": \"prod\", \"streamID\": commentElValStreamId},\n",
    "                    \"pageURL\": url,\n",
    "                    \"includeSettings\": \"true\",\n",
    "                    \"threaded\": \"true\",\n",
    "                    \"includeUserOptions\": \"true\",\n",
    "                    \"includeUserHighlighting\": \"true\",\n",
    "                    \"lang\": \"es\",\n",
    "                    \"ctag\": \"comments_v2\",\n",
    "                    \"APIKey\": \"3_Hob3SXLWsBRwjPFz4f4ZEuxPo2PyeElFMWgWO2EXdBYUqwMk8lxNj78Fi_2VW5cH\",\n",
    "                    \"cid\": \"\",\n",
    "                    \"source\": \"showCommentsUI\",\n",
    "                    \"sdk\": \"js_latest\",\n",
    "                    \"authMode\": \"cookie\",\n",
    "                    \"format\": \"json\",\n",
    "                    \"callback\": \"gigya.callback\"\n",
    "                }\n",
    "                if nextTs != \"\":\n",
    "                    commentsArgs.update({\n",
    "                        \"start\": nextTs\n",
    "                    })\n",
    "                responseComments = requests.get(urlGetComments, commentsArgs)\n",
    "                commentsResponse = json.loads(responseComments.text)\n",
    "                iterate = commentsResponse[\"hasMore\"]\n",
    "                nextTs = commentsResponse[\"next\"]\n",
    "                pageComments = pageComments + extractComments(commentsResponse[\"comments\"], url)\n",
    "            print(\" \\t -> retrieved total of {} comments\".format(len(pageComments)))\n",
    "            print(\n",
    "                \"#############################################################################################\")\n",
    "    return pageComments"
   ]
  },
  {
   "cell_type": "markdown",
   "metadata": {
    "collapsed": true
   },
   "source": [
    "# Get IdNoticia"
   ]
  },
  {
   "cell_type": "code",
   "execution_count": 5,
   "metadata": {
    "collapsed": false,
    "scrolled": false
   },
   "outputs": [
    {
     "name": "stdout",
     "output_type": "stream",
     "text": [
      " \t-> comment-stream-id to get comments is: noticia-3527992\n",
      " \t-> getting information for article: https://www.20minutos.es/noticia/3527992/0/lluvia-cuadrantidas-donde-cuando-verlas/\n",
      " \t-> total of comments for current article: 1\n",
      " -> total of comments is greater than 0\n",
      " \t -> parsing comments list with -1- elements:\n",
      " \t -> retrieved total of 1 comments\n",
      "#############################################################################################\n"
     ]
    }
   ],
   "source": [
    "url=\"https://www.20minutos.es/noticia/3527992/0/lluvia-cuadrantidas-donde-cuando-verlas/\"\n",
    "renderUrl = requests.get(url)\n",
    "renderedPage = htmlRenderer.fromstring(renderUrl.text)\n",
    "comments = lookupForComments(renderedPage, url)"
   ]
  },
  {
   "cell_type": "code",
   "execution_count": 6,
   "metadata": {
    "collapsed": false
   },
   "outputs": [
    {
     "data": {
      "text/plain": [
       "[{'commentario': 'Perforan más de un kilómetro de hielo para llegar a un lago antártico en busca de vida<div><br /></div><div><span>Publicado: 1 ene 2019\\xa0</span><br /></div><div><span><br /></span></div><div><span>Los expertos señalan que cualquier vida capaz de soportar las condiciones del lago podría generar esperanzas de encontrar organismos similares en el interior de Marte o en las lunas cubiertas de hielo de Júpiter y Saturno.</span><span><br /></span></div><div><span><br /></span></div><div><span>Los\\xa0investigadores del\\xa0Acceso Científico a los Lagos Subglacial Antárticos (SALSA, por sus siglas en inglés) han logrado acceder a un lago enterrado bajo más de 325 metros cuadrados de hielo en la Antártida en un intento por descubrir si en ese inhóspito entorno existe vida,\\xa0</span>informa<span>\\xa0la página web de la organización. El\\xa0lago mide casi\\xa0</span><span>160 kilómetros cuadrados</span><span>, y fue descubierto hace más de una década a través de imágenes satelitales, pero nunca se ha explorado.</span><span><br /></span></div><div><span><br /></span></div><div><p>De acuerdo con los científicos, el Mercer es un lago subglacial activo hidráulicamente que se encuentra a más de un kilómetro debajo de la llanura de hielo de Whillans, una sección de rápido movimiento de la capa de hielo de la Antártida occidental. Es uno de los 400 lagos que se encuentran debajo del hielo antártico, y los expertos dicen que cualquier vida allí podría generar esperanzas de encontrar organismos similares en el interior de Marte o en las lunas cubiertas de hielo de Júpiter y Saturno.</p><p><br /></p><p>Los miembros del equipo han afirmado que se necesitaron\\xa0<span>dos días de perforación</span>\\xa0para llegar al Mercer el 26 de diciembre.</p><p><br /></p><p>Al día siguiente los investigadores lograron enviar un instrumento al pozo, y más adelante\\xa0<span>bajarán por el agujero un vehículo operado a distancia</span>\\xa0para capturar más imágenes y tomar medidas más detalladas.</p><p><br /></p><p>Se espera que las tres cámaras de video del sumergible puedan capturar imágenes de animales que viven en las oscuras aguas del lago.</p></div>',\n",
       "  'fecha': '01/01/2019',\n",
       "  'hora': '12:35:33',\n",
       "  'negVotes': 0,\n",
       "  'posVotes': 0,\n",
       "  'urlNoticia': 'https://www.20minutos.es/noticia/3527992/0/lluvia-cuadrantidas-donde-cuando-verlas/',\n",
       "  'user': 'tyfyytfygty'}]"
      ]
     },
     "execution_count": 6,
     "metadata": {},
     "output_type": "execute_result"
    }
   ],
   "source": [
    "comments"
   ]
  },
  {
   "cell_type": "code",
   "execution_count": null,
   "metadata": {
    "collapsed": true
   },
   "outputs": [],
   "source": []
  }
 ],
 "metadata": {
  "kernelspec": {
   "display_name": "Python 3",
   "language": "python",
   "name": "python3"
  },
  "language_info": {
   "codemirror_mode": {
    "name": "ipython",
    "version": 3
   },
   "file_extension": ".py",
   "mimetype": "text/x-python",
   "name": "python",
   "nbconvert_exporter": "python",
   "pygments_lexer": "ipython3",
   "version": "3.6.8"
  }
 },
 "nbformat": 4,
 "nbformat_minor": 0
}
