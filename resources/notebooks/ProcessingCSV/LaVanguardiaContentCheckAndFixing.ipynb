{
 "cells": [
  {
   "cell_type": "code",
   "execution_count": 10,
   "metadata": {
    "collapsed": false
   },
   "outputs": [
    {
     "data": {
      "text/plain": [
       "9223372036854775807"
      ]
     },
     "execution_count": 10,
     "metadata": {},
     "output_type": "execute_result"
    }
   ],
   "source": [
    "import pandas as pd\n",
    "import csv\n",
    "import sys\n",
    "import requests\n",
    "from lxml import html as htmlRenderer\n",
    "csv.field_size_limit(sys.maxsize)"
   ]
  },
  {
   "cell_type": "code",
   "execution_count": 11,
   "metadata": {
    "collapsed": true
   },
   "outputs": [],
   "source": [
    "csv_file_in = \"/home/cflores/cflores_workspace/comments-retriever/results/lavanguardia/lavanguardia-01012019-15092019-contents.csv\"\n",
    "csv_file_out = \"/home/cflores/cflores_workspace/comments-retriever/results/lavanguardia/lavanguardia-01012019-15092019-contents-fixed.csv\""
   ]
  },
  {
   "cell_type": "code",
   "execution_count": 12,
   "metadata": {
    "collapsed": true
   },
   "outputs": [],
   "source": [
    "def is_valid_csv(csv_file):\n",
    "    invalid_rows = []\n",
    "    no_content = []\n",
    "    no_title = []\n",
    "    with open(csv_file, 'r') as f:\n",
    "        reader = csv.reader(f)\n",
    "        counter = 0\n",
    "        for r in reader:\n",
    "            if not r[0]:\n",
    "                print(\" row -{}- row has not url.\".format(counter))\n",
    "                invalid_rows.append(counter)\n",
    "            if not r[1]: \n",
    "                print(\" row -{}- row has not content.\".format(counter))\n",
    "                invalid_rows.append(counter)\n",
    "                no_content.append(r[0])\n",
    "            if not r[2] and r[2] == r[0]:\n",
    "                print(\" row -{}- row has not title.\".format(counter))\n",
    "                invalid_rows.append(counter)\n",
    "                no_title.append(r[0])\n",
    "            counter = counter + 1\n",
    "        \n",
    "    return len(list(dict.fromkeys(invalid_rows))) == 0, invalid_rows, no_content, no_title"
   ]
  },
  {
   "cell_type": "code",
   "execution_count": 13,
   "metadata": {
    "collapsed": false
   },
   "outputs": [
    {
     "name": "stdout",
     "output_type": "stream",
     "text": [
      " row -792- row has not content.\n",
      " row -2171- row has not content.\n",
      " row -4125- row has not content.\n",
      " row -5223- row has not content.\n",
      " row -6396- row has not content.\n"
     ]
    }
   ],
   "source": [
    "valid, invalid_rows, no_content, no_title = is_valid_csv(csv_file_in)"
   ]
  },
  {
   "cell_type": "code",
   "execution_count": 14,
   "metadata": {
    "collapsed": false
   },
   "outputs": [
    {
     "data": {
      "text/plain": [
       "[]"
      ]
     },
     "execution_count": 14,
     "metadata": {},
     "output_type": "execute_result"
    }
   ],
   "source": [
    "no_title"
   ]
  },
  {
   "cell_type": "code",
   "execution_count": 20,
   "metadata": {
    "collapsed": false
   },
   "outputs": [
    {
     "name": "stdout",
     "output_type": "stream",
     "text": [
      " row -792- row has not content.\n",
      " row -2171- row has not content.\n",
      " row -4125- row has not content.\n",
      " row -5223- row has not content.\n",
      " row -6396- row has not content.\n"
     ]
    }
   ],
   "source": [
    "valid, invalid_rows, no_content, no_title = is_valid_csv(csv_file_out)"
   ]
  },
  {
   "cell_type": "code",
   "execution_count": 16,
   "metadata": {
    "collapsed": false
   },
   "outputs": [
    {
     "data": {
      "text/plain": [
       "['https://www.lavanguardia.com/deportes/rcde-espanyol/20190128/4641274077/espanyol-fichaje-wu-lei-china.html',\n",
       " 'https://www.lavanguardia.com/economia/20190311/46965636146/luca-de-meo-seat-electrico-martorell-fabrica.html',\n",
       " 'https://www.lavanguardia.com/local/barcelona/20190514/462232803499/josep-bou-pp-elecciones-municipales-barcelona.html',\n",
       " 'https://www.lavanguardia.com/politica/20190615/462867740181/los-politicos-independentistas-viven-en-un-mundo-virtual.html',\n",
       " 'https://www.lavanguardia.com/local/barcelona/20190721/463617642960/orantes-us-open-franco-sinatra-las-vegas.html']"
      ]
     },
     "execution_count": 16,
     "metadata": {},
     "output_type": "execute_result"
    }
   ],
   "source": [
    "no_content"
   ]
  },
  {
   "cell_type": "code",
   "execution_count": 17,
   "metadata": {
    "collapsed": true
   },
   "outputs": [],
   "source": [
    "def extract_content(url=None):\n",
    "    response = requests.get(url)\n",
    "    renderedPage = htmlRenderer.fromstring(response.text)\n",
    "    queries_xpath = [\"//div[@class='content-structure ']//p\",\n",
    "                     \"//div[@itemprop='articleBody']//p\"]\n",
    "    contentStr = \"\"\n",
    "    for q in queries_xpath:\n",
    "        commentsElList = renderedPage.xpath(q)\n",
    "        if len(commentsElList) > 0:\n",
    "            contentArr = []\n",
    "            for p in commentsElList:\n",
    "                contentArr.append(p.text_content())\n",
    "            contentStr = \"\".join([parrafo for parrafo in contentArr])\n",
    "            break\n",
    "    if not contentStr:\n",
    "        print(\"\\t -> url has not content found {}\".format(url))\n",
    "    return contentStr"
   ]
  },
  {
   "cell_type": "code",
   "execution_count": 18,
   "metadata": {
    "collapsed": true
   },
   "outputs": [],
   "source": [
    "def get_title(url):\n",
    "    queryXpath = \"//article//h1\"\n",
    "    response = requests.get(url)\n",
    "    renderedPage = htmlRenderer.fromstring(response.text)\n",
    "    el = renderedPage.xpath(queryXpath)\n",
    "    title = url\n",
    "    if len(el) == 0:\n",
    "        print(\" -> title not found in: {}\".format(url))\n",
    "    else:\n",
    "        title = el[0].text\n",
    "    return title"
   ]
  },
  {
   "cell_type": "code",
   "execution_count": 19,
   "metadata": {
    "collapsed": false,
    "scrolled": true
   },
   "outputs": [
    {
     "name": "stdout",
     "output_type": "stream",
     "text": [
      " => row with url https://www.lavanguardia.com/lacontra/20190114/454116566660/quien-se-lo-pueda-permitir-no-tendra-coche-privado.html has any title\n",
      " -> title not found in: https://www.lavanguardia.com/lacontra/20190114/454116566660/quien-se-lo-pueda-permitir-no-tendra-coche-privado.html\n",
      " => row with url https://www.lavanguardia.com/deportes/rcde-espanyol/20190128/4641274077/espanyol-fichaje-wu-lei-china.html has any content\n",
      "\t -> url has not content found https://www.lavanguardia.com/deportes/rcde-espanyol/20190128/4641274077/espanyol-fichaje-wu-lei-china.html\n",
      " => row with url https://www.lavanguardia.com/lacontra/20190130/4691956504/las-madres-deben-tributar-menos-y-tener-voto-cualificado.html has any title\n",
      " -> title not found in: https://www.lavanguardia.com/lacontra/20190130/4691956504/las-madres-deben-tributar-menos-y-tener-voto-cualificado.html\n",
      " => row with url https://www.lavanguardia.com/economia/20190311/46965636146/luca-de-meo-seat-electrico-martorell-fabrica.html has any content\n",
      "\t -> url has not content found https://www.lavanguardia.com/economia/20190311/46965636146/luca-de-meo-seat-electrico-martorell-fabrica.html\n",
      " => row with url https://www.lavanguardia.com/local/barcelona/20190514/462232803499/josep-bou-pp-elecciones-municipales-barcelona.html has any content\n",
      "\t -> url has not content found https://www.lavanguardia.com/local/barcelona/20190514/462232803499/josep-bou-pp-elecciones-municipales-barcelona.html\n",
      " => row with url https://www.lavanguardia.com/politica/20190615/462867740181/los-politicos-independentistas-viven-en-un-mundo-virtual.html has any content\n",
      "\t -> url has not content found https://www.lavanguardia.com/politica/20190615/462867740181/los-politicos-independentistas-viven-en-un-mundo-virtual.html\n",
      " => row with url https://www.lavanguardia.com/local/barcelona/20190721/463617642960/orantes-us-open-franco-sinatra-las-vegas.html has any content\n",
      "\t -> url has not content found https://www.lavanguardia.com/local/barcelona/20190721/463617642960/orantes-us-open-franco-sinatra-las-vegas.html\n"
     ]
    }
   ],
   "source": [
    "keys = []\n",
    "no_content = []\n",
    "no_title = []\n",
    "with open(csv_file_in, 'r') as f:\n",
    "    with open(csv_file_out, 'w') as fout:\n",
    "        writer = csv.writer(fout)\n",
    "        reader = csv.reader(f)\n",
    "        for r in reader:\n",
    "            if not r[1]:\n",
    "                # no content\n",
    "                print(\" => row with url {} has any content\".format(r[0]))\n",
    "                content = extract_content(r[0])\n",
    "                if content:\n",
    "                    print(\" \\t ===>>> content found \")\n",
    "                r[1] = content\n",
    "            else:\n",
    "                r[1] = r[1].replace(\"\\t\", \"\").replace(\"\\n\", \"\").lstrip().rstrip()\n",
    "            if not r[2] or r[2] == r[0]:\n",
    "                # no title\n",
    "                print(\" => row with url {} has any title\".format(r[0]))\n",
    "                r[2] = get_title(r[0])\n",
    "            \n",
    "            writer.writerow(r)"
   ]
  },
  {
   "cell_type": "code",
   "execution_count": null,
   "metadata": {
    "collapsed": true
   },
   "outputs": [],
   "source": []
  }
 ],
 "metadata": {
  "kernelspec": {
   "display_name": "Python 3",
   "language": "python",
   "name": "python3"
  },
  "language_info": {
   "codemirror_mode": {
    "name": "ipython",
    "version": 3
   },
   "file_extension": ".py",
   "mimetype": "text/x-python",
   "name": "python",
   "nbconvert_exporter": "python",
   "pygments_lexer": "ipython3",
   "version": "3.6.8"
  }
 },
 "nbformat": 4,
 "nbformat_minor": 0
}
