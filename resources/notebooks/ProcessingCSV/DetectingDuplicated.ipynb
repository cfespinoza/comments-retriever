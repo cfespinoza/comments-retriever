{
 "cells": [
  {
   "cell_type": "code",
   "execution_count": 1,
   "metadata": {
    "collapsed": true
   },
   "outputs": [],
   "source": [
    "import pandas as pd"
   ]
  },
  {
   "cell_type": "code",
   "execution_count": 2,
   "metadata": {
    "collapsed": true
   },
   "outputs": [],
   "source": [
    "# csv_file = \"/home/cflores/cflores_workspace/comments-retriever/results/elmundo/elmundo-01012019-15092019-comments.csv\""
   ]
  },
  {
   "cell_type": "code",
   "execution_count": 2,
   "metadata": {
    "collapsed": true
   },
   "outputs": [],
   "source": [
    "csv_file = \"/home/cflores/cflores_workspace/comments-retriever/results/20minutos/20minutos-01012019-15092019-comments.csv\"\n",
    "# csv_file = \"/home/cflores/cflores_workspace/comments-retriever/results/abc/abc-01012019-15092019-comments.csv\"\n",
    "# csv_file = \"/home/cflores/cflores_workspace/comments-retriever/results/elpais/elpais-01012019-15092019-comments.csv\""
   ]
  },
  {
   "cell_type": "code",
   "execution_count": 3,
   "metadata": {
    "collapsed": false
   },
   "outputs": [],
   "source": [
    "df = pd.read_csv(csv_file, encoding=\"utf-8\")"
   ]
  },
  {
   "cell_type": "code",
   "execution_count": 4,
   "metadata": {
    "collapsed": false
   },
   "outputs": [],
   "source": [
    "\n",
    "duplicateRowsDF = df[df.duplicated()]"
   ]
  },
  {
   "cell_type": "code",
   "execution_count": 5,
   "metadata": {
    "collapsed": false
   },
   "outputs": [
    {
     "data": {
      "text/plain": [
       "urlNoticia     826\n",
       "fecha          826\n",
       "hora           826\n",
       "user           826\n",
       "commentario    826\n",
       "negVotes       826\n",
       "posVotes       826\n",
       "dtype: int64"
      ]
     },
     "execution_count": 5,
     "metadata": {},
     "output_type": "execute_result"
    }
   ],
   "source": [
    "duplicateRowsDF.count()"
   ]
  },
  {
   "cell_type": "code",
   "execution_count": 6,
   "metadata": {
    "collapsed": false
   },
   "outputs": [],
   "source": [
    "dups = df.groupby(df.columns.tolist()).size().reset_index().rename(columns={0:'count'})\n"
   ]
  },
  {
   "cell_type": "code",
   "execution_count": 7,
   "metadata": {
    "collapsed": true
   },
   "outputs": [],
   "source": [
    "dups2 = df.groupby([\"commentario\", \"hora\", \"fecha\"]).size().reset_index().rename(columns={0:'count'})\n"
   ]
  },
  {
   "cell_type": "code",
   "execution_count": 21,
   "metadata": {
    "collapsed": false,
    "scrolled": false
   },
   "outputs": [
    {
     "data": {
      "text/html": [
       "<div>\n",
       "<style scoped>\n",
       "    .dataframe tbody tr th:only-of-type {\n",
       "        vertical-align: middle;\n",
       "    }\n",
       "\n",
       "    .dataframe tbody tr th {\n",
       "        vertical-align: top;\n",
       "    }\n",
       "\n",
       "    .dataframe thead th {\n",
       "        text-align: right;\n",
       "    }\n",
       "</style>\n",
       "<table border=\"1\" class=\"dataframe\">\n",
       "  <thead>\n",
       "    <tr style=\"text-align: right;\">\n",
       "      <th></th>\n",
       "      <th>commentario</th>\n",
       "      <th>hora</th>\n",
       "      <th>fecha</th>\n",
       "      <th>count</th>\n",
       "    </tr>\n",
       "  </thead>\n",
       "  <tbody>\n",
       "    <tr>\n",
       "      <th>131763</th>\n",
       "      <td>&lt;span&gt;Deja ya de clonar. Lo haces con todos lo...</td>\n",
       "      <td>10:18:00</td>\n",
       "      <td>07/06/2019</td>\n",
       "      <td>4</td>\n",
       "    </tr>\n",
       "    <tr>\n",
       "      <th>131814</th>\n",
       "      <td>&lt;span&gt;Deja ya de clonar. Lo haces con todos lo...</td>\n",
       "      <td>10:21:53</td>\n",
       "      <td>07/06/2019</td>\n",
       "      <td>4</td>\n",
       "    </tr>\n",
       "    <tr>\n",
       "      <th>131936</th>\n",
       "      <td>&lt;span&gt;Deja ya de clonar. Lo haces con todos lo...</td>\n",
       "      <td>12:05:05</td>\n",
       "      <td>07/06/2019</td>\n",
       "      <td>4</td>\n",
       "    </tr>\n",
       "    <tr>\n",
       "      <th>138324</th>\n",
       "      <td>&lt;span&gt;La premsa germànica se'n fa creus: \"Rebe...</td>\n",
       "      <td>12:08:07</td>\n",
       "      <td>14/06/2019</td>\n",
       "      <td>4</td>\n",
       "    </tr>\n",
       "    <tr>\n",
       "      <th>138347</th>\n",
       "      <td>&lt;span&gt;La premsa germànica se'n fa creus: \"Rebe...</td>\n",
       "      <td>12:08:31</td>\n",
       "      <td>14/06/2019</td>\n",
       "      <td>4</td>\n",
       "    </tr>\n",
       "  </tbody>\n",
       "</table>\n",
       "</div>"
      ],
      "text/plain": [
       "                                              commentario      hora  \\\n",
       "131763  <span>Deja ya de clonar. Lo haces con todos lo...  10:18:00   \n",
       "131814  <span>Deja ya de clonar. Lo haces con todos lo...  10:21:53   \n",
       "131936  <span>Deja ya de clonar. Lo haces con todos lo...  12:05:05   \n",
       "138324  <span>La premsa germànica se'n fa creus: \"Rebe...  12:08:07   \n",
       "138347  <span>La premsa germànica se'n fa creus: \"Rebe...  12:08:31   \n",
       "\n",
       "             fecha  count  \n",
       "131763  07/06/2019      4  \n",
       "131814  07/06/2019      4  \n",
       "131936  07/06/2019      4  \n",
       "138324  14/06/2019      4  \n",
       "138347  14/06/2019      4  "
      ]
     },
     "execution_count": 21,
     "metadata": {},
     "output_type": "execute_result"
    }
   ],
   "source": [
    "from IPython.display import display\n",
    "# display(dups[dups[\"count\"] > 1][dups[\"user\"] == \"juc\"])\n",
    "dups2[dups2[\"count\"] > 3]"
   ]
  },
  {
   "cell_type": "code",
   "execution_count": null,
   "metadata": {
    "collapsed": true
   },
   "outputs": [],
   "source": []
  },
  {
   "cell_type": "code",
   "execution_count": 22,
   "metadata": {
    "collapsed": true
   },
   "outputs": [],
   "source": [
    "fecha = \"07/06/2019\"\n",
    "hora = \"10:18:00\""
   ]
  },
  {
   "cell_type": "code",
   "execution_count": 23,
   "metadata": {
    "collapsed": false
   },
   "outputs": [
    {
     "data": {
      "text/html": [
       "<div>\n",
       "<style scoped>\n",
       "    .dataframe tbody tr th:only-of-type {\n",
       "        vertical-align: middle;\n",
       "    }\n",
       "\n",
       "    .dataframe tbody tr th {\n",
       "        vertical-align: top;\n",
       "    }\n",
       "\n",
       "    .dataframe thead th {\n",
       "        text-align: right;\n",
       "    }\n",
       "</style>\n",
       "<table border=\"1\" class=\"dataframe\">\n",
       "  <thead>\n",
       "    <tr style=\"text-align: right;\">\n",
       "      <th></th>\n",
       "      <th>urlNoticia</th>\n",
       "      <th>fecha</th>\n",
       "      <th>hora</th>\n",
       "      <th>user</th>\n",
       "      <th>commentario</th>\n",
       "      <th>negVotes</th>\n",
       "      <th>posVotes</th>\n",
       "      <th>count</th>\n",
       "    </tr>\n",
       "  </thead>\n",
       "  <tbody>\n",
       "    <tr>\n",
       "      <th>705343</th>\n",
       "      <td>https://www.20minutos.es/noticia/3663038/0/san...</td>\n",
       "      <td>07/06/2019</td>\n",
       "      <td>10:18:00</td>\n",
       "      <td>susum cоrda</td>\n",
       "      <td>&lt;span&gt;Deja ya de clonar. Lo haces con todos lo...</td>\n",
       "      <td>0</td>\n",
       "      <td>0</td>\n",
       "      <td>4</td>\n",
       "    </tr>\n",
       "  </tbody>\n",
       "</table>\n",
       "</div>"
      ],
      "text/plain": [
       "                                               urlNoticia       fecha  \\\n",
       "705343  https://www.20minutos.es/noticia/3663038/0/san...  07/06/2019   \n",
       "\n",
       "            hora         user  \\\n",
       "705343  10:18:00  susum cоrda   \n",
       "\n",
       "                                              commentario  negVotes  posVotes  \\\n",
       "705343  <span>Deja ya de clonar. Lo haces con todos lo...         0         0   \n",
       "\n",
       "        count  \n",
       "705343      4  "
      ]
     },
     "execution_count": 23,
     "metadata": {},
     "output_type": "execute_result"
    }
   ],
   "source": [
    "dups.loc[(dups[\"hora\"] == hora) & (dups[\"fecha\"] == fecha)]"
   ]
  },
  {
   "cell_type": "code",
   "execution_count": 27,
   "metadata": {
    "collapsed": false
   },
   "outputs": [
    {
     "data": {
      "text/html": [
       "<div>\n",
       "<style scoped>\n",
       "    .dataframe tbody tr th:only-of-type {\n",
       "        vertical-align: middle;\n",
       "    }\n",
       "\n",
       "    .dataframe tbody tr th {\n",
       "        vertical-align: top;\n",
       "    }\n",
       "\n",
       "    .dataframe thead th {\n",
       "        text-align: right;\n",
       "    }\n",
       "</style>\n",
       "<table border=\"1\" class=\"dataframe\">\n",
       "  <thead>\n",
       "    <tr style=\"text-align: right;\">\n",
       "      <th></th>\n",
       "      <th>urlNoticia</th>\n",
       "      <th>fecha</th>\n",
       "      <th>hora</th>\n",
       "      <th>user</th>\n",
       "      <th>commentario</th>\n",
       "      <th>negVotes</th>\n",
       "      <th>posVotes</th>\n",
       "    </tr>\n",
       "  </thead>\n",
       "  <tbody>\n",
       "    <tr>\n",
       "      <th>678336</th>\n",
       "      <td>https://www.20minutos.es/noticia/3663038/0/san...</td>\n",
       "      <td>07/06/2019</td>\n",
       "      <td>10:18:00</td>\n",
       "      <td>susum cоrda</td>\n",
       "      <td>&lt;span&gt;Deja ya de clonar. Lo haces con todos lo...</td>\n",
       "      <td>0</td>\n",
       "      <td>0</td>\n",
       "    </tr>\n",
       "    <tr>\n",
       "      <th>678337</th>\n",
       "      <td>https://www.20minutos.es/noticia/3663038/0/san...</td>\n",
       "      <td>07/06/2019</td>\n",
       "      <td>10:18:00</td>\n",
       "      <td>susum cоrda</td>\n",
       "      <td>&lt;span&gt;Deja ya de clonar. Lo haces con todos lo...</td>\n",
       "      <td>0</td>\n",
       "      <td>0</td>\n",
       "    </tr>\n",
       "    <tr>\n",
       "      <th>678338</th>\n",
       "      <td>https://www.20minutos.es/noticia/3663038/0/san...</td>\n",
       "      <td>07/06/2019</td>\n",
       "      <td>10:18:00</td>\n",
       "      <td>susum cоrda</td>\n",
       "      <td>&lt;span&gt;Deja ya de clonar. Lo haces con todos lo...</td>\n",
       "      <td>0</td>\n",
       "      <td>0</td>\n",
       "    </tr>\n",
       "    <tr>\n",
       "      <th>678339</th>\n",
       "      <td>https://www.20minutos.es/noticia/3663038/0/san...</td>\n",
       "      <td>07/06/2019</td>\n",
       "      <td>10:18:00</td>\n",
       "      <td>susum cоrda</td>\n",
       "      <td>&lt;span&gt;Deja ya de clonar. Lo haces con todos lo...</td>\n",
       "      <td>0</td>\n",
       "      <td>0</td>\n",
       "    </tr>\n",
       "  </tbody>\n",
       "</table>\n",
       "</div>"
      ],
      "text/plain": [
       "                                               urlNoticia       fecha  \\\n",
       "678336  https://www.20minutos.es/noticia/3663038/0/san...  07/06/2019   \n",
       "678337  https://www.20minutos.es/noticia/3663038/0/san...  07/06/2019   \n",
       "678338  https://www.20minutos.es/noticia/3663038/0/san...  07/06/2019   \n",
       "678339  https://www.20minutos.es/noticia/3663038/0/san...  07/06/2019   \n",
       "\n",
       "            hora         user  \\\n",
       "678336  10:18:00  susum cоrda   \n",
       "678337  10:18:00  susum cоrda   \n",
       "678338  10:18:00  susum cоrda   \n",
       "678339  10:18:00  susum cоrda   \n",
       "\n",
       "                                              commentario  negVotes  posVotes  \n",
       "678336  <span>Deja ya de clonar. Lo haces con todos lo...         0         0  \n",
       "678337  <span>Deja ya de clonar. Lo haces con todos lo...         0         0  \n",
       "678338  <span>Deja ya de clonar. Lo haces con todos lo...         0         0  \n",
       "678339  <span>Deja ya de clonar. Lo haces con todos lo...         0         0  "
      ]
     },
     "execution_count": 27,
     "metadata": {},
     "output_type": "execute_result"
    }
   ],
   "source": [
    "df.loc[(df[\"hora\"] == hora) & (df[\"fecha\"] == fecha)]"
   ]
  },
  {
   "cell_type": "code",
   "execution_count": 25,
   "metadata": {
    "collapsed": false
   },
   "outputs": [
    {
     "data": {
      "text/plain": [
       "826"
      ]
     },
     "execution_count": 25,
     "metadata": {},
     "output_type": "execute_result"
    }
   ],
   "source": [
    "dups['count'].sum() - dups.shape[0]"
   ]
  },
  {
   "cell_type": "code",
   "execution_count": null,
   "metadata": {
    "collapsed": true
   },
   "outputs": [],
   "source": []
  }
 ],
 "metadata": {
  "kernelspec": {
   "display_name": "Python 3",
   "language": "python",
   "name": "python3"
  },
  "language_info": {
   "codemirror_mode": {
    "name": "ipython",
    "version": 3
   },
   "file_extension": ".py",
   "mimetype": "text/x-python",
   "name": "python",
   "nbconvert_exporter": "python",
   "pygments_lexer": "ipython3",
   "version": "3.6.8"
  }
 },
 "nbformat": 4,
 "nbformat_minor": 0
}
