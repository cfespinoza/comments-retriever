{
 "cells": [
  {
   "cell_type": "code",
   "execution_count": 1,
   "metadata": {},
   "outputs": [],
   "source": [
    "import json\n",
    "import logging\n",
    "import sys\n",
    "import time\n",
    "import csv\n",
    "from datetime import date, datetime\n",
    "from json import JSONDecodeError\n",
    "from lxml import html as htmlRenderer\n",
    "import requests"
   ]
  },
  {
   "cell_type": "code",
   "execution_count": 2,
   "metadata": {},
   "outputs": [],
   "source": [
    "url = \"https://www.20minutos.es/noticia/3663038/0/sanchezreunion-iglesias-rivera-casado/\"\n",
    "html = requests.get(url)"
   ]
  },
  {
   "cell_type": "code",
   "execution_count": 3,
   "metadata": {},
   "outputs": [],
   "source": [
    "\n",
    "renderedPage = htmlRenderer.fromstring(html.text)\n",
    "# user = renderedPage.xpath(\"//aside[@id='ancla_comentarios']//div[@class='autor ']/text()\")[0]\n",
    "# hora = renderedPage.xpath(\"//aside[@id='ancla_comentarios']//span[@class='hora']/text()\")[0]\n",
    "# fecha = renderedPage.xpath(\"//aside[@id='ancla_comentarios']//span[@class='fecha']/text()\")[0]\n",
    "# comentario = renderedPage.xpath(\"//aside[@id='ancla_comentarios']//div[@class='texto-comentario']//p/text()\")[0]"
   ]
  },
  {
   "cell_type": "code",
   "execution_count": 8,
   "metadata": {},
   "outputs": [],
   "source": [
    "scriptText = \"\"\n",
    "for element in renderedPage.iter('script'):\n",
    "    scriptText = element.text_content()\n",
    "    if \"dataLayer\" in scriptText:\n",
    "        break\n",
    "    \n",
    "dataLayerJsonStr = scriptText.split('dataLayer = [')[-1].rsplit('];', 1)[0].strip()\n",
    "\n"
   ]
  },
  {
   "cell_type": "code",
   "execution_count": 10,
   "metadata": {},
   "outputs": [],
   "source": [
    "dataLayer = json.loads(dataLayerJsonStr)"
   ]
  },
  {
   "cell_type": "code",
   "execution_count": 11,
   "metadata": {},
   "outputs": [
    {
     "data": {
      "text/plain": [
       "'nacional'"
      ]
     },
     "execution_count": 11,
     "metadata": {},
     "output_type": "execute_result"
    }
   ],
   "source": [
    "dataLayer.get('subcategoria')"
   ]
  },
  {
   "cell_type": "code",
   "execution_count": 12,
   "metadata": {},
   "outputs": [
    {
     "data": {
      "text/plain": [
       "'actualidad'"
      ]
     },
     "execution_count": 12,
     "metadata": {},
     "output_type": "execute_result"
    }
   ],
   "source": [
    "dataLayer.get('categoria')"
   ]
  },
  {
   "cell_type": "code",
   "execution_count": null,
   "metadata": {},
   "outputs": [],
   "source": []
  }
 ],
 "metadata": {
  "kernelspec": {
   "display_name": "Python 3",
   "language": "python",
   "name": "python3"
  },
  "language_info": {
   "codemirror_mode": {
    "name": "ipython",
    "version": 3
   },
   "file_extension": ".py",
   "mimetype": "text/x-python",
   "name": "python",
   "nbconvert_exporter": "python",
   "pygments_lexer": "ipython3",
   "version": "3.6.8"
  }
 },
 "nbformat": 4,
 "nbformat_minor": 1
}
