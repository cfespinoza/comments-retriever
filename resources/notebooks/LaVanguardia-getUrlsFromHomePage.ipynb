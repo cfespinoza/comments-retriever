{
 "cells": [
  {
   "cell_type": "code",
   "execution_count": 1,
   "metadata": {
    "collapsed": true
   },
   "outputs": [],
   "source": [
    "import sys\n",
    "from PyQt5 import QtCore, QtWidgets, QtWebEngineWidgets\n",
    "from lxml import html as htmlRenderer\n",
    "import requests\n",
    "import json\n",
    "from datetime import date"
   ]
  },
  {
   "cell_type": "code",
   "execution_count": 2,
   "metadata": {
    "collapsed": true
   },
   "outputs": [],
   "source": [
    "def render(source_url):\n",
    "    \"\"\"Fully render HTML, JavaScript and all.\"\"\"\n",
    "\n",
    "    import sys\n",
    "    from PyQt5.QtWidgets import QApplication\n",
    "    from PyQt5.QtCore import QUrl\n",
    "    from PyQt5.QtWebEngineWidgets import QWebEngineView\n",
    "\n",
    "    class Render(QWebEngineView):\n",
    "        def __init__(self, url):\n",
    "            self.html = None\n",
    "            self.app = QApplication(sys.argv)\n",
    "            QWebEngineView.__init__(self)\n",
    "            self.loadFinished.connect(self._loadFinished)\n",
    "            #self.setHtml(html)\n",
    "            self.load(QUrl(url))\n",
    "            self.app.exec_()\n",
    "\n",
    "        def _loadFinished(self, result):\n",
    "            # This is an async call, you need to wait for this\n",
    "            # to be called before closing the app\n",
    "            self.page().toHtml(self._callable)\n",
    "\n",
    "        def _callable(self, data):\n",
    "            self.html = data\n",
    "            # Data has been stored, it's safe to quit the app\n",
    "            self.app.quit()\n",
    "\n",
    "    return Render(source_url).html"
   ]
  },
  {
   "cell_type": "code",
   "execution_count": 3,
   "metadata": {
    "collapsed": true
   },
   "outputs": [],
   "source": [
    "url=\"https://www.lavanguardia.com/\"\n",
    "renderUrl = render(url)\n",
    "renderedPage = htmlRenderer.fromstring(renderUrl)"
   ]
  },
  {
   "cell_type": "code",
   "execution_count": 4,
   "metadata": {
    "collapsed": true
   },
   "outputs": [],
   "source": [
    "auxLinks = renderedPage.xpath(\"//a/@href\")"
   ]
  },
  {
   "cell_type": "code",
   "execution_count": 9,
   "metadata": {
    "collapsed": true
   },
   "outputs": [],
   "source": [
    "auxFinalLinks2 = list(dict.fromkeys([ link for link in auxLinks ]))"
   ]
  },
  {
   "cell_type": "code",
   "execution_count": 10,
   "metadata": {
    "collapsed": true
   },
   "outputs": [],
   "source": [
    "auxFinalLinks = list(dict.fromkeys([ link for link in auxLinks if \"lavanguardia\" in link and link.endswith(\"html\") ]))"
   ]
  },
  {
   "cell_type": "code",
   "execution_count": 11,
   "metadata": {
    "collapsed": false,
    "scrolled": false
   },
   "outputs": [
    {
     "data": {
      "text/plain": [
       "172"
      ]
     },
     "execution_count": 11,
     "metadata": {},
     "output_type": "execute_result"
    }
   ],
   "source": [
    "len(auxFinalLinks2)"
   ]
  },
  {
   "cell_type": "code",
   "execution_count": 12,
   "metadata": {
    "collapsed": false
   },
   "outputs": [
    {
     "data": {
      "text/plain": [
       "77"
      ]
     },
     "execution_count": 12,
     "metadata": {},
     "output_type": "execute_result"
    }
   ],
   "source": [
    "len(auxFinalLinks)"
   ]
  },
  {
   "cell_type": "code",
   "execution_count": 13,
   "metadata": {
    "collapsed": false
   },
   "outputs": [
    {
     "data": {
      "text/plain": [
       "['https://www.lavanguardia.com/loterias/20190830/4769034760/sorteos-once-cuponazo-viernes-30-de-agosto-sorteo-resultado.html',\n",
       " 'https://www.lavanguardia.com/horoscopo/20190830/464213836676/horoscopo-hoy-sabado-31-agosto-zodiaco.html',\n",
       " 'https://www.lavanguardia.com/deportes/otros-deportes/20190830/4776683627/simone-biles-hermano-asesinato.html',\n",
       " 'https://www.lavanguardia.com/deportes/futbol/20190830/4779992758/bruno-fernandes-asi-juega-fichaje-real-madrid-video-seo-ext.html',\n",
       " 'https://www.lavanguardia.com/local/barcelona/20190830/4768229035/veintena-personas-afectadas-salmonelosis-restaurante-barcelona.html',\n",
       " 'https://www.lavanguardia.com/loterias/20190830/4769033196/bonoloto-viernes-30-de-agosto-sorteo-resultado.html',\n",
       " 'https://www.lavanguardia.com/deportes/20190830/4766793901/muere-xana-hija-luis-enrique-osteosarcoma-cancer-de-huesos-9-anos-seleccion-espanola-entrenador.html',\n",
       " 'https://www.lavanguardia.com/vida/salud/20190829/4757204813/osteosarcoma-cancer-huesos-que-es-enfermedad-luis-enrique-hija.html',\n",
       " 'https://www.lavanguardia.com/deportes/20190830/4761061090/neymar-fichaje-barcelona-psg-real-madrid-noticias-ultima-hora-negociacion-acuerdo-en-directo.html',\n",
       " 'https://www.lavanguardia.com/vida/20190830/4782162256/empresa-proveedora-atun-dia-limita-origen-brote-botulismo-sola-lata.html',\n",
       " 'https://www.lavanguardia.com/loterias/20190830/4769410616/euromillones-viernes-30-de-agosto-sorteo-resultado.html',\n",
       " 'https://www.lavanguardia.com/vida/20190830/4776292929/alerta-sanitaria-toxina-atun-aceite-marca-dia.html',\n",
       " 'https://www.lavanguardia.com/internacional/20190830/4778250140/francia-ensayo-brexit-puerto-calais.html',\n",
       " 'https://www.lavanguardia.com/internacional/20190830/4782157604/juicio-responsables-atentados-11-s-comenzara-2021.html',\n",
       " 'https://www.lavanguardia.com/vida/20190830/4772246342/aborto-embarazadas-listeriosis-sevilla.html',\n",
       " 'https://www.lavanguardia.com/internacional/20190830/4777839670/m5e-punto-innegociables-conte-pd-inaceptables-gobierno-italia.html',\n",
       " 'https://www.lavanguardia.com/cine/20190830/4775011116/roman-polanski-jaccuse-venecia-exito.html',\n",
       " 'https://www.lavanguardia.com/local/barcelones-nord/20190830/4772176786/playa-badalona-artefacto-agua.html',\n",
       " 'https://www.lavanguardia.com/cultura/20190830/4772349290/travestismos-sexo-e-identidad-gran-guerra-paul-grappe-suzanne-langdard-francia.html',\n",
       " 'https://www.lavanguardia.com/deportes/fc-barcelona/20190830/4776114310/valverde-neymar-barca-osasuna.html',\n",
       " 'https://www.lavanguardia.com/politica/20190830/4773358235/pedro-sanchez-investidura-votos-respalden-unidas-podemos.html',\n",
       " 'https://www.lavanguardia.com/local/madrid/20190830/4770522439/cs-eleva-presion-ayuso-cese-avalmadrid.html',\n",
       " 'https://www.lavanguardia.com/local/madrid/20190830/4769613268/pp-cs-madrid-gobierno-colocar-su-gente.html',\n",
       " 'https://www.lavanguardia.com/politica/20190830/4779939730/conseller-damia-calvet-salto-puenting-llosa-del-cavall.html',\n",
       " 'https://www.lavanguardia.com/politica/20190830/4769246901/inmigrantes-ceuta-asalto-valla.html',\n",
       " 'https://www.lavanguardia.com/politica/20190830/4774923513/gobierno-neutralizar-drones-edificios-instituciones-estado.html',\n",
       " 'https://www.lavanguardia.com/internacional/20190830/4778393724/15-migrantes-open-arms-piden-asilo-espana.html',\n",
       " 'https://www.lavanguardia.com/politica/20190830/4775540454/audiencia-nacional-no-prohibe-ospa-eguna-alsasua-ordena-policia-guardia-civil-vigilarlo.html',\n",
       " 'https://www.lavanguardia.com/politica/20190830/4779605461/reina-letizia-princesa-leonor-don-juan-carlos-hospital.html',\n",
       " 'https://www.lavanguardia.com/internacional/20190830/4767864796/florida-prepara-monstruo-absoluto-huracan-dorian.html',\n",
       " 'https://www.lavanguardia.com/internacional/20190830/4776948698/lopez-obrador-espiado-oficinas-presidenciales.html',\n",
       " 'https://www.lavanguardia.com/internacional/20190830/4775076062/john-major-denuncia-boris-johnson.html',\n",
       " 'https://www.lavanguardia.com/internacional/20190830/4779235767/feminicidio-indigna-turquia-debate-violencia-machista.html',\n",
       " 'https://www.lavanguardia.com/internacional/20190830/4766014434/detenidos-activistas-hong-kong-joshua-wong-agnes-chow-andy-chan.html',\n",
       " 'https://www.lavanguardia.com/natural/20190830/4771960847/australia-califica-situacion-gran-barrera-coral-muy-grave.html',\n",
       " 'https://www.lavanguardia.com/sucesos/20190830/4769417877/alabama-cadena-perpetua-robo-libertad.html',\n",
       " 'https://www.lavanguardia.com/internacional/20190830/4775642261/departamento-justicia-eeuu-saca-a-la-luz-malas-praxis-exdirector-fbi.html',\n",
       " 'https://www.lavanguardia.com/opinion/20190830/4760631142/los-idolos-de-barro-se-resquebrajan-al-sol.html',\n",
       " 'https://www.lavanguardia.com/opinion/20190830/4760728138/el-fracaso-de-una-generacion.html',\n",
       " 'https://www.lavanguardia.com/television/20190830/4761392971/acoso.html',\n",
       " 'https://www.lavanguardia.com/opinion/20190830/4760733779/lluvia-de-gusanos.html',\n",
       " 'https://www.lavanguardia.com/opinion/20190830/4760732049/el-optimismo.html',\n",
       " 'https://www.lavanguardia.com/opinion/20190830/4760727593/a-pie-por-sunset-boulevard.html',\n",
       " 'https://www.lavanguardia.com/opinion/20190830/4760776340/cazas-de-brujas.html',\n",
       " 'https://www.lavanguardia.com/deportes/20190830/4761165214/luces-pero-tambien-sombras.html',\n",
       " 'https://www.lavanguardia.com/television/20190830/4778858655/emotiva-despedida-frank-blanco-zapeando.html',\n",
       " 'https://www.lavanguardia.com/de-moda/moda/20190830/4775516744/aitana-look-nupcial-estreno-segunda-temporada-elite-netflix.html',\n",
       " 'https://www.lavanguardia.com/sucesos/20190830/4779331124/submarinista-desaparecido-roses-detectado-control-aeropuerto-holanda.html',\n",
       " 'https://www.lavanguardia.com/sucesos/20190830/4778151836/paracaidista-graba-accidente-casi-cuesta-vida.html',\n",
       " 'https://www.lavanguardia.com/vivo/como-hacer-diy/20190830/464260617585/trucos-casa-limpia-tras-vacaciones.html',\n",
       " 'https://www.lavanguardia.com/series/netflix/20190830/478612003/netflix-cancela-series-fast-food.html',\n",
       " 'https://www.lavanguardia.com/comprar/20190830/4768090323/chollos-dia-amazon-ofertas-descuentos-30-agosto.html',\n",
       " 'https://www.lavanguardia.com/lacontra/20190830/4761311604/en-la-guerra-no-fui-voluntario-ni-para-comer-lentejas.html',\n",
       " 'https://www.lavanguardia.com/lacontra/20190829/4723964772/oir-ver-o-tocar-a-un-familiar-muerto-no-es-estar-loco.html',\n",
       " 'https://www.lavanguardia.com/vida/20190830/4774694059/muere-hombre-mas-longevo-espana.html',\n",
       " 'https://www.lavanguardia.com/vida/20190830/4770462533/bebe-hipertricosis-sindrome-lobo-omeprazol.html',\n",
       " 'https://www.lavanguardia.com/vida/20190830/4768036681/magrudis-listeriosis-licencia-actividad.html',\n",
       " 'https://www.lavanguardia.com/gente/20190830/4777891173/kirsten-dunst-estrella-paseo-de-la-fama-hollywood-afirma-reconocimiento.html',\n",
       " 'https://www.lavanguardia.com/economia/20190830/4773678818/euribor-desploma-minimos-historicos.html',\n",
       " 'https://www.lavanguardia.com/economia/20190830/4753793709/ryanair-bases-espana-gay-de-liebana-video-seo-lv.html',\n",
       " 'https://www.lavanguardia.com/economia/20190830/4756001061/huelgas-fin-de-semana-vuelos-trenes-cancelados.html',\n",
       " 'https://www.lavanguardia.com/economia/20190830/4773767715/ugt-advierte-conflicto-aeropuerto-barcelona-continuar-septiembre.html',\n",
       " 'https://www.lavanguardia.com/economia/20190830/4761224741/caida-comercio-internacional-g20-guerra-comercial-brexit-economia-global.html',\n",
       " 'https://www.lavanguardia.com/participacion/encuestas/20190827/464267500076/abuso-precios-productos-vuelta-colegio.html',\n",
       " 'https://www.lavanguardia.com/comer/al-dia/20190830/4770534377/carolina-bazan-latin-americas-50-best-restaurants-2019-50-best-restaurants-ambrosia-ambrosia-bistro-santiago-de-chile.html',\n",
       " 'https://www.lavanguardia.com/comer/recetas/20190830/464262886417/pasteis-de-nata-receta-portuguesa-pastel-nata-dulce-vegetariana.html',\n",
       " 'https://www.lavanguardia.com/comer/tendencias/20190829/4742852747/reutilizar-cristal-costumbre-moda-envases-retornables.html',\n",
       " 'https://www.lavanguardia.com/deportes/tenis/20190830/4780385269/roger-federer-us-open.html',\n",
       " 'https://www.lavanguardia.com/deportes/futbol/20190830/4771349382/sarabia-unai-nunez-seleccion-espanola-roberto-moreno.html',\n",
       " 'https://www.lavanguardia.com/deportes/ciclismo/20190830/4776762941/valverde-mas-de-la-costa-vuelta-a-espana-nairo-quintana-etapa-7.html',\n",
       " 'https://www.lavanguardia.com/deportes/rcde-espanyol/primer-equipo/20190830/4772912214/calendario-europa-league-espanyol-sevilla-getafe.html',\n",
       " 'https://www.lavanguardia.com/gente/20190830/4777408327/exmujer-berlusconi-devuleve-60-millones-pension-divorcio.html',\n",
       " 'https://www.lavanguardia.com/gente/20190830/4772482616/iron-man-casa-venta.html',\n",
       " 'https://www.lavanguardia.com/de-moda/moda/20190830/4775363304/candice-swanepoel-look-camisa-alfombra-roja-segundo-dia-venecia.html',\n",
       " 'https://www.lavanguardia.com/gente/20190830/4769387091/nacho-vidal-vih-sida-contagio-actor-cine-adulto-porno.html',\n",
       " 'https://www.lavanguardia.com/cookies_privacy_LV_popup.html',\n",
       " 'https://www.lavanguardia.com/servicios/bolsa/index.html']"
      ]
     },
     "execution_count": 13,
     "metadata": {},
     "output_type": "execute_result"
    }
   ],
   "source": [
    "auxFinalLinks"
   ]
  },
  {
   "cell_type": "code",
   "execution_count": null,
   "metadata": {
    "collapsed": false
   },
   "outputs": [],
   "source": [
    "\n",
    "auxFinalLinks2 = [ link for link in auxFinalLinks \n",
    "                  if not link.endswith(\"/\")\n",
    "                  and not link.startswith(\"#\") \n",
    "                  and not link.startswith(\"/#\") ]"
   ]
  },
  {
   "cell_type": "code",
   "execution_count": null,
   "metadata": {
    "collapsed": true
   },
   "outputs": [],
   "source": [
    "linksFinals = []\n",
    "for l in auxFinalLinks2:\n",
    "    if l.startswith(\"http\"):\n",
    "        linksFinals.append(l)\n",
    "    elif l.startswith(\"//\"):\n",
    "        linksFinals.append(\"https:{}\".format(l))\n",
    "    else:\n",
    "        linksFinals.append(\"https://www.abc.es{}\".format(l))"
   ]
  },
  {
   "cell_type": "code",
   "execution_count": null,
   "metadata": {
    "collapsed": true
   },
   "outputs": [],
   "source": []
  },
  {
   "cell_type": "code",
   "execution_count": null,
   "metadata": {
    "collapsed": true
   },
   "outputs": [],
   "source": [
    "finalLinks = auxFinalLinks# [ link.replace(\"https://www.abc.eshttps://www.abc.es\", \"https://www.abc.es\") for link in auxFinalLinks]"
   ]
  },
  {
   "cell_type": "code",
   "execution_count": null,
   "metadata": {
    "collapsed": false,
    "scrolled": false
   },
   "outputs": [],
   "source": [
    "len(finalLinks)"
   ]
  },
  {
   "cell_type": "code",
   "execution_count": null,
   "metadata": {
    "collapsed": false,
    "scrolled": true
   },
   "outputs": [],
   "source": [
    "auxFinalLinks2"
   ]
  },
  {
   "cell_type": "code",
   "execution_count": null,
   "metadata": {
    "collapsed": false
   },
   "outputs": [],
   "source": [
    "auxFinalLinks"
   ]
  },
  {
   "cell_type": "code",
   "execution_count": null,
   "metadata": {
    "collapsed": false
   },
   "outputs": [],
   "source": [
    "len(linksFinals)"
   ]
  },
  {
   "cell_type": "code",
   "execution_count": null,
   "metadata": {
    "collapsed": true
   },
   "outputs": [],
   "source": [
    "linksFinals"
   ]
  },
  {
   "cell_type": "code",
   "execution_count": null,
   "metadata": {
    "collapsed": true
   },
   "outputs": [],
   "source": [
    "# div_id = comments-container"
   ]
  },
  {
   "cell_type": "code",
   "execution_count": null,
   "metadata": {
    "collapsed": true
   },
   "outputs": [],
   "source": [
    "# >>> data = \"840d85d8-c7e4-11e9-a000-a9c287b54588\"\n",
    "# >>> encodedBytes = base64.b64encode(data.encode(\"utf-8\")\n",
    "# ... \n",
    "# KeyboardInterrupt\n",
    "# >>> \n",
    "# >>> encodedBytes = base64.b64encode(data.encode(\"utf-8\"))\n",
    "# >>> encodedStr = str(encodedBytes, \"utf-8\")\n",
    "# >>> encodedStr\n",
    "# 'ODQwZDg1ZDgtYzdlNC0xMWU5LWEwMDAtYTljMjg3YjU0NTg4'\n"
   ]
  },
  {
   "cell_type": "code",
   "execution_count": null,
   "metadata": {
    "collapsed": true
   },
   "outputs": [],
   "source": [
    "import base64\n"
   ]
  },
  {
   "cell_type": "code",
   "execution_count": null,
   "metadata": {
    "collapsed": false
   },
   "outputs": [],
   "source": [
    "hashToDecode = bytes(\"zUxMTEyOjg0MGQ4NWQ4LWM3ZTQtMTFlOS1hMDAwLWE5YzI4N2I1NDU4OA\".encode(\"utf-8\"))"
   ]
  },
  {
   "cell_type": "code",
   "execution_count": null,
   "metadata": {
    "collapsed": false
   },
   "outputs": [],
   "source": [
    "\"MzUxMTEyOjg0MGQ4NWQ4LWM3ZTQtMTFlOS1hMDAwLWE5YzI4N2I1NDU4OA\".decode(\"base64\")"
   ]
  },
  {
   "cell_type": "code",
   "execution_count": null,
   "metadata": {
    "collapsed": false
   },
   "outputs": [],
   "source": [
    "base64.b64decode(\"MzUxMTEyOjg0MGQ4NWQ4LWM3ZTQtMTFlOS1hMDAwLWE5YzI4N2I1NDU4OA==\")"
   ]
  },
  {
   "cell_type": "code",
   "execution_count": null,
   "metadata": {
    "collapsed": false
   },
   "outputs": [],
   "source": [
    "b = base64.decodestring(\"MzUxMTEyOjg0MGQ4NWQ4LWM3ZTQtMTFlOS1hMDAwLWE5YzI4N2I1NDU4OA\")"
   ]
  },
  {
   "cell_type": "code",
   "execution_count": null,
   "metadata": {
    "collapsed": true
   },
   "outputs": [],
   "source": []
  }
 ],
 "metadata": {
  "kernelspec": {
   "display_name": "Python 3",
   "language": "python",
   "name": "python3"
  },
  "language_info": {
   "codemirror_mode": {
    "name": "ipython",
    "version": 3
   },
   "file_extension": ".py",
   "mimetype": "text/x-python",
   "name": "python",
   "nbconvert_exporter": "python",
   "pygments_lexer": "ipython3",
   "version": "3.6.8"
  }
 },
 "nbformat": 4,
 "nbformat_minor": 0
}
