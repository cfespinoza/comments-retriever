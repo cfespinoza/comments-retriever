{
 "cells": [
  {
   "cell_type": "code",
   "execution_count": 6,
   "metadata": {
    "collapsed": false
   },
   "outputs": [
    {
     "data": {
      "text/plain": [
       "9223372036854775807"
      ]
     },
     "execution_count": 6,
     "metadata": {},
     "output_type": "execute_result"
    }
   ],
   "source": [
    "import csv\n",
    "import sys\n",
    "import requests\n",
    "from lxml import html as htmlRenderer\n",
    "csv.field_size_limit(sys.maxsize)"
   ]
  },
  {
   "cell_type": "code",
   "execution_count": 7,
   "metadata": {
    "collapsed": false
   },
   "outputs": [],
   "source": [
    "\n",
    "csvFileIn = \"/home/cflores/cflores_workspace/comments-retriever/results/elpais/elpais-01012019-15092019-contents.csv\"\n",
    "csvFileOut = \"/home/cflores/cflores_workspace/comments-retriever/results/elpais/elpais-01012019-15092019-contents-t.csv\"\n",
    "# queryXpath = \"//div[@class='ue-l-article__header']//h1[@class='js-headline']\"\n",
    "\n",
    "queries_xpath = [\"//h1[@id='articulo-titulo']\"]"
   ]
  },
  {
   "cell_type": "code",
   "execution_count": 8,
   "metadata": {
    "collapsed": false
   },
   "outputs": [],
   "source": [
    "def getTitle(url):\n",
    "    response = requests.get(url)\n",
    "    renderedPage = htmlRenderer.fromstring(response.text)\n",
    "    title = url\n",
    "    for q in queries_xpath:\n",
    "        el = renderedPage.xpath(q)\n",
    "        if len(el) > 0:\n",
    "            title = el[0].text if el[0].text != None else el[0].text_content()\n",
    "            break\n",
    "    if title == url:\n",
    "        print (\" \\t -> title not found for url {}\".format(url))\n",
    "    return title"
   ]
  },
  {
   "cell_type": "code",
   "execution_count": 9,
   "metadata": {
    "collapsed": true
   },
   "outputs": [],
   "source": [
    "def getTitle_single(url):\n",
    "    response = requests.get(url)\n",
    "    renderedPage = htmlRenderer.fromstring(response.text)\n",
    "    title = url\n",
    "    el = renderedPage.xpath(query_xpath)\n",
    "    if len(el) == 0:\n",
    "        print (\" \\t -> title not found for url {}\".format(url))\n",
    "    else:\n",
    "        title = el[0].text\n",
    "    return title"
   ]
  },
  {
   "cell_type": "code",
   "execution_count": 10,
   "metadata": {
    "collapsed": false
   },
   "outputs": [
    {
     "name": "stdout",
     "output_type": "stream",
     "text": [
      " \t -> title not found for url https://brasil.elpais.com/brasil/2019/01/13/politica/1547367596_725724.html\n",
      " \t -> title not found for url https://brasil.elpais.com/brasil/2019/01/15/ciencia/1547542171_994570.html\n",
      " \t -> title not found for url https://brasil.elpais.com/brasil/2019/02/11/politica/1549900545_825737.html\n",
      " \t -> title not found for url https://brasil.elpais.com/brasil/2019/07/07/politica/1562502904_916776.html\n",
      " \t -> title not found for url https://brasil.elpais.com/brasil/2019/08/07/politica/1565182720_327306.html\n"
     ]
    }
   ],
   "source": [
    "with open(csvFileIn) as csvIn:\n",
    "    with open(csvFileOut, 'w') as csvOut:\n",
    "        reader = csv.reader(csvIn)\n",
    "        writer = csv.writer(csvOut)\n",
    "        rowNumber = 0\n",
    "        for row in reader:\n",
    "            if rowNumber == 0:\n",
    "                headers = row + [\"titulo\"]\n",
    "                writer.writerow(headers)                \n",
    "            else:\n",
    "                title = getTitle(row[0])\n",
    "                writer.writerow(row + [title])\n",
    "            rowNumber = rowNumber + 1\n"
   ]
  },
  {
   "cell_type": "code",
   "execution_count": null,
   "metadata": {
    "collapsed": true
   },
   "outputs": [],
   "source": []
  },
  {
   "cell_type": "code",
   "execution_count": null,
   "metadata": {
    "collapsed": true
   },
   "outputs": [],
   "source": []
  },
  {
   "cell_type": "code",
   "execution_count": null,
   "metadata": {
    "collapsed": true
   },
   "outputs": [],
   "source": []
  }
 ],
 "metadata": {
  "kernelspec": {
   "display_name": "Python 3",
   "language": "python",
   "name": "python3"
  },
  "language_info": {
   "codemirror_mode": {
    "name": "ipython",
    "version": 3
   },
   "file_extension": ".py",
   "mimetype": "text/x-python",
   "name": "python",
   "nbconvert_exporter": "python",
   "pygments_lexer": "ipython3",
   "version": "3.6.8"
  }
 },
 "nbformat": 4,
 "nbformat_minor": 0
}
