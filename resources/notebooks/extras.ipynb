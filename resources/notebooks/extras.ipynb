{
 "cells": [
  {
   "cell_type": "code",
   "execution_count": 2,
   "metadata": {
    "collapsed": true
   },
   "outputs": [],
   "source": [
    "import requests\n",
    "from lxml import html as htmlRenderer"
   ]
  },
  {
   "cell_type": "code",
   "execution_count": 182,
   "metadata": {
    "collapsed": false
   },
   "outputs": [],
   "source": [
    "\n",
    "url = \"https://www.abc.es/play/television/eurovision/abci-gala-eurovision-todas-canciones-directo-201901202307_directo.html\"\n",
    "response = requests.get(url)\n",
    "\n"
   ]
  },
  {
   "cell_type": "code",
   "execution_count": 183,
   "metadata": {
    "collapsed": true
   },
   "outputs": [],
   "source": [
    "rendered = htmlRenderer.fromstring(response.text)"
   ]
  },
  {
   "cell_type": "code",
   "execution_count": 184,
   "metadata": {
    "collapsed": true
   },
   "outputs": [],
   "source": [
    "###########################################################################\n",
    "############################## El Mundo ###################################\n",
    "###########################################################################\n",
    "# ps = rendered.xpath(\"//div[@data-section='articleBody']/p\")\n",
    "# ps = rendered.xpath(\"//div[@class='row content cols-70-30']/p\")\n",
    "# ps = rendered.xpath(\"//dl[@class='ue-c-article__interview']\")\n",
    "# ps = rendered.xpath(\"//ul[@class='ue-c-article__list ue-c-article__list--unordered']\")\n",
    "# ps = rendered.xpath(\"//dl[@class='interview']\")\n",
    "\n",
    "###########################################################################\n",
    "############################# 20 Minutos ##################################\n",
    "###########################################################################\n",
    "# ps = rendered.xpath(\"//div[@class='gtm-article-text']//p\")\n",
    "# ps = rendered.xpath(\"//div[@class='gtm-article-text']//span\")\n",
    "# ps = rendered.xpath(\"//div[@class='gtm-article-text']/div[@class='gmail_default']\")\n",
    "\n",
    "###########################################################################\n",
    "############################ La Vanguardia ################################\n",
    "###########################################################################\n",
    "# ps = rendered.xpath(\"//div[@class='content-structure ']//p\")\n",
    "# ps = rendered.xpath(\"//div[@itemprop='articleBody']//p\")\n",
    "\n",
    "###########################################################################\n",
    "################################# ABC #####################################\n",
    "###########################################################################\n",
    "# ps = rendered.xpath(\"//span[@class='cuerpo-texto ']//p\")\n",
    "# ps = rendered.xpath(\"//span[@class='cuerpo-texto  unreg']/p\")\n",
    "# ps = rendered.xpath(\"//span[@class='cuerpo-texto']/p\")\n",
    "# ps = rendered.xpath(\"//div[@id='tab_cronica']/p\")\n",
    "# ps = rendered.xpath(\"//span[@class='cuerpo-texto top-nuevo']//p\")\n",
    "# ps = rendered.xpath(\"//span[@class='contenido-top']//p\")\n",
    "# ps = rendered.xpath(\"//div[@id='tab_directo']//p\")\n",
    "ps = rendered.xpath(\"//span[@class='cuerpo-texto directo']//p\")\n",
    "\n"
   ]
  },
  {
   "cell_type": "code",
   "execution_count": 187,
   "metadata": {
    "collapsed": false
   },
   "outputs": [
    {
     "name": "stdout",
     "output_type": "stream",
     "text": [
      "39\n"
     ]
    },
    {
     "data": {
      "text/plain": [
       "'0.47Ha tenido un perfil bajo durante el proceso de preselección. De hecho, ni se encontraba entre los tres temas escogidos por el  público para pasar directamente a la final. Pero con la puesta en escena de apenas 3 minutos ha logrado convencer tanto a los presentes en la gala epecial de Eurovisión de «OT» como a los telespectadores. Miki será el representante de España en Eurovisión, y la culpa la tiene «La venda», un tema compuesto por Adriá Salas, de La Pegatina. Su pegadizo ritmo al más puro estilo verbena popular hizo bailar hasta al jurado profesional, presente en la gala, y los telespectadores lo premiaron con el 34 por ciento de los votos.0.33El escenario, que vuelve a acoger «La venda» es una fiesta. Los 9 aspirantes acompañan al que será el representante de España en el festival europeo. Se une, cómo no, Adriá Salas, el responsable del tema. 0.25Con el 34% de los votos, el tema más votado y que viajará hasta Tel Aviv, es «La venda», de Miki. Con un 12 por ciento más de los votos que «Muérdeme», que queda en terera posición. María y Natalia han respirado aliviadas tras conocerse el resultado. 0.25La tercera clasificada, con el 14% de los votos es «Nadie se salva». «Hasta luego, Maricarmen, buena suerte», le ha dicho a María. 0.20Alfred ha dado el relevo al que será el próximo representante de España en Eurovisión. Con el 1 por ciento de los votos, «Se te nota». Con el 2% ha quedado «Hoy soñaré», de Sabela. Con el 3% de los votos, ocupa el octavo local «Qué quieres que haga», de Julia. En séptimo lugar con un 5%, «No puedo más», de Famous. La sexta plaza es para «Todo bien», de Marilia. Con otro 6% de los votos, en quinto lugar queda «La clave», de Natalia. Con un 7% de los votos, ocupa la cuarta posición «Hoy vuelvo a reír», de Noelia. 0.15Cuando son las 0.14, ¡se cierran las líneas! Ya no se puede votar más: el representante de España en Eurovisión 2019 está decidido. En el descanso hemos tenido ocasión de ver la espectacular actuación de Eleni Foureira, la representante chipriota en Lisboa, que obtuvo un magnífico segundo puesto. 23.55Aquí te contamos cómo votar a tu canción favorita de esta gala de OT Eurovisión. En medio del periodo de votación, el representante español en Eurovisión 2018, Alfred García, ha tenido unas palabras de apoyo y ánimo a los aspirantes. «Sin Amaya no hubiera sido lo mismo», ha sentenciado. 23.47¡Teléfonos abiertos!☝️ Se abren las líneas para votar por la canción que representará a España en el Festival de Eurovisión 2019. #OT18GalaEurovisionpic.twitter.com/bkv9pKSBNt23.44En este momento se han abierto las líneas para votar a las canciones favoritas. También pueden votarse desde la app de «Operación Triunfo». 23.35Y cerrará la tanda de audiciones María, con «Muérdeme». «Entiendo que haya tenido buena acogida porque es muy pegadizo, muy bailable», dijo a las cámaras. «Lo que pase luego, lidiaremos con ello luego», añade.  El tema está compuesto por Juan Luis Suárez y David Feito, de El Sueño de Morfeo, Victoria Riba, Nuria Azzouzi y Rosa Martínez. «Es un tema arriesgado, por su toque étnico. A mí por lo menos, hoy María me ha mordido el corazón», señala una de sus autoras. María ha confesado sentirse «muy bien». 23.27Miki y Natalia son el único dúo candidato para representar a España en Eurovisión. Su tema es «Nadie se salva», y está compuesto por María Peláe, Nil Moliner y Javi Garabatto. «Lo he disfrutado un montón, ha sido súper chulo», ha dicho Natalia después de hablar con sus autores. 23.19Carlos Right defiente «Se te nota», compuesta por Juan Pablo Isaza y Juan Pablo Villamil, de Morat. «Admiro mucho a Morat,  y que me hayan hecho una canción a mí es impresionante», ha dicho. Pedro Malavet ha sido el representante de los autores en el plató: «La guitarra es tu arma en el escenario, es con lo que llegas a mucha gente, y que Carlos pueda cnatar y tocar al tiempo lo hace valer el doble». 23.11Le sigue sobre el escenario Noelia. «Ojalá pueda ir a Eurovisión», dice en el vídeo previo. Ella defiende «Hoy vuelvo a reír otra vez», un tema de Jacobo Calderón y Álex Ubago. El público se entrega ante la calidad vocal y el derroche de voz de Noelia, con un tema nada sencillo que habla de la violencia de género. «Ante todo, olé tú. Y después, autores, vaya temazo, que además es un tándem perfecto en la voz de Noelia. En Eurovisión las grandes voces en las grandes valoradas son muy bien acogidas», le comenta Pastora Soler. 23.00¡Turno de Miki en solitario! Canta «La venda», un tema de Adriá Salas, integrante de La Pegatina. El plató es una fiesta. «Eres entusiasta, te llenas de ilusión y eso es muy importante, vivirla. Y sobre todo para Tel Aviv, que es una fiesta 24/7», le dice Tony Aguilar. 22.53Julia interpreta «Qué quieres que haga», un tema compuesto por David Santisteban e India Martínez. «Eurovisión España tiene que ser España y no otro país. Enhorabuena a los autores de la canción, es muy bonita», dice Doron sobre la canción que ha defendido Julia. David Santisteban e India Martínez están encantados: «Qué emoción, qué ilusión me hace. Me he emocionado muchísimo. La has hecho tuya, ya es tuya. Me ha hecho llorar», cuenta India. «La espina dorsal del tema es la emoción, y Julia tiene ese don», le añade el otro compositor. «Está hecha desde el corazón», sentencia India. 22.45Sobre el escenario ya Natalia, con «La Clave». El tema está compuesto por Merche y Ander Pérez, Nuria Azzouzi y Rosa Martínez. Merche se ha mostrado entusiasmada tras el resultado, pero Natalia ha querido en su discurso acordarse de Miki, su compañero en «Nadie se salva». 22.37Después de Sabela, llega Famous, el ganador de «Operación Triunfo», que ha mostrado en repetidas ocasiones las ganas que tiene de acudir al festival. Su «No puedo más» está compuesta por Leroy Sánchez, Louis Biancaniello y Nolan Sipe. Uno de los mejores números hasta el momento, que ha convencido tanto al jurado como al público del plató. «Yo que´ia una canción que enseñase su vozarrón, y ha sido increíble, de verdad», comenta Leroy Sánchez. «¿Te ves en Tel Aviv», le pregunta Roberto Leal. «Es complicado, porque también mis compañeros han estado trabajando duro», le contesta Famous. 22.28¡Turno para Sabela! La gallega interpreta «Hoy soñaré», compuesta por Jesús Cañadilla y Alejandro de Pinedo. «Para mí, soñar significa poder vivir de la música. Al final, tiene un mensaje muy abierto y cada uno puede soñar con lo que quiera». «Ha estado genial, lleno de magia y Sabela nos ha regalado un momentazo que no se nos podrá olvidar nunca», comentan sus actores tras la actuación. 22.26Después de escuchar «Todo bien», dos de sus autores charlan sobre ella con Roberto Leal. «Además, la hemos visto evolucionar, desde su nacimiento hasta que lleva al escenario, y con esa potencia te sientes súper feliz» 22.24Y en palabras de la otra comentarista de Eurovisión, Julia Varela:Expertas palabras de @PastoraSoler y @TonyAguilarOfi sobre el alcance de #eurovision 👏🏻👏🏻 Audiencia potencial: 200 millones. Uno de los mayores espectáculos televisivos del mundo. Oportunidad increíble para artistas desconocidos. Suerte a todos! #OT18GalaEurovision22.20La primera en estrenarse ha sido Marilia. Ella defiende «Todo bien», compuesta por Sananda, Chris Wahle, Andreas Öhrn y Juan Carlos Fuguet López.22.18Así ha comenzado la gala:¡Así se arranca una gala para elegir el candidato de España a #Eurovisión! Sigue la #OT18GalaEurovision en DIRECTO https://t.co/yhnAEwJBUlpic.twitter.com/VUWdTMHKUn22.17«Es el trampolín mediático con el que cualquier artista le gustaría contar», les comenta Tony Aguilar. Fue uno de los encargados de comentar el festival el año pasado desde Lisboa. 22.14«Fue la decisión más importante que he tomado en mi carrera profesional. Para mí fue un antes y un después. Mi mensaje para ellos es que no tiene comparación con nada de lo que pueda pasar en la vida de un artista. No te representas a ti, sino a otra cosa muchísimo más grande. La ilusión y las ganas representarán el 50 por ciento», les dice a los concursantes Pastora Soler, representante de España en Eurovisión en 2012. 22.06¡Comienza la gala! Y no podía ser de otra forma que homenajeando «Toy», el tema con el que Netta Barzilai venció en Eurovisión 2018. 22.05Recuerda que aquí puedes escuchar los 10 temas candidatos para representar a España en Eurovisión 2019, que este año se celebrará en Tel Aviv. 22.00Anteriores representantes españolas en Eurovisión han mostrado su apoyo a los aspirantes. Entre ellas, Soraya Arnelas, Ruth Lorenzo (que se ha mostrado dispuesta a repetir experiencia) o Lucía Pérez. El representante que vaya a Eurovision que lo haga con ganas,con orgullo.Van a ser días de mucho trabajo,ensayos,muchas emociones.Si uno no va con fuerza ,se convertirá en un infierno.Eurovision es un sueño,y eres aún más consciente cuando lo has vivido !Suerte para todos!❤️21.49Según ha comunicado TVE, para poder votar esta noche será necesario actualizar la APP de «Operación Triunfo». Una vez hecho, bastará con logearse con las cuentas anteriores ya creadas. 21.44La gala contará, además, con la actuación estelar de Eleni Foureira, la representante de Chipre segunda clasificada del año pasado. Tras triunfar con «Fuego», viene a España a presentar «Tómame», creada por el mismo equipo de su single anterior. El tema sigue dando buenos resultados en las listas europeas, especialmente en España, donde alcanzó el número 1 de la lista oficial de radio en dos ocasiones, recibiendo el disco de Platino en ventas. Además, ya supera los 40 millones de streams en Spotify.21.35Esta gala especial, presentada por Roberto Leal, contará con Manuel Martos, Pastora Soler, Tony Aguilar y Doron Medalie como jurado que valorará las propuestas, y con la actuación de Elena Foureira. Pero la última palabra la tendrá el público: ellos elegirán, en una única votación, cuál es la candidatura que viajará a Tel Aviv, sede de la edición de este año, el próximo mes de mayo.21.30¡La gala de OT Eurovisión ya está aquí! En apenas treinta minutos comienza el concurso, del que saldrá el futuro representante de España en Eurovisión 2019. Por delante, le quedarán aún muchos meses de trabajo intenso pero con una recompensa inigualable: el pase directo a la final de Eurovisión, que este año se celebrará en Tel Aviv el 18 de mayo. Recuerda que aquí puedes escuchar los 10 temas que optarán por representar a España en el próximo certamen europeo. '"
      ]
     },
     "execution_count": 187,
     "metadata": {},
     "output_type": "execute_result"
    }
   ],
   "source": [
    "print(len(ps))\n",
    "contentArr = []\n",
    "contentStr = \"\"\n",
    "for p in ps:\n",
    "    contentArr.append(p.text_content())\n",
    "    contentStr = \"\".join([parrafo for parrafo in contentArr])\n",
    "    \n",
    "contentStr\n",
    "    "
   ]
  },
  {
   "cell_type": "code",
   "execution_count": 125,
   "metadata": {
    "collapsed": false
   },
   "outputs": [
    {
     "data": {
      "text/plain": [
       "range(0, 10)"
      ]
     },
     "execution_count": 125,
     "metadata": {},
     "output_type": "execute_result"
    }
   ],
   "source": [
    "range(10)"
   ]
  },
  {
   "cell_type": "code",
   "execution_count": 126,
   "metadata": {
    "collapsed": false
   },
   "outputs": [
    {
     "name": "stdout",
     "output_type": "stream",
     "text": [
      "0\n",
      "1\n",
      "2\n",
      "3\n",
      "4\n",
      "5\n",
      "6\n",
      "7\n",
      "8\n",
      "9\n"
     ]
    }
   ],
   "source": [
    "for i in range(10):\n",
    "    print(i)"
   ]
  },
  {
   "cell_type": "code",
   "execution_count": null,
   "metadata": {
    "collapsed": true
   },
   "outputs": [],
   "source": []
  }
 ],
 "metadata": {
  "kernelspec": {
   "display_name": "Python 3",
   "language": "python",
   "name": "python3"
  },
  "language_info": {
   "codemirror_mode": {
    "name": "ipython",
    "version": 3
   },
   "file_extension": ".py",
   "mimetype": "text/x-python",
   "name": "python",
   "nbconvert_exporter": "python",
   "pygments_lexer": "ipython3",
   "version": "3.6.8"
  }
 },
 "nbformat": 4,
 "nbformat_minor": 0
}
