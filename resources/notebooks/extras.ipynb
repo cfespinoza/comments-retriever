{
 "cells": [
  {
   "cell_type": "code",
   "execution_count": 1,
   "metadata": {},
   "outputs": [],
   "source": [
    "import requests\n",
    "from lxml import html as htmlRenderer"
   ]
  },
  {
   "cell_type": "code",
   "execution_count": 2,
   "metadata": {},
   "outputs": [],
   "source": [
    "\n",
    "url = \"https://www.abc.es/bienestar/psicologia-sexo/sexualidad/abci-dia-soltero-como-disfrutar-soledad-ante-presion-social-201911111115_noticia.html\"\n",
    "response = requests.get(url)\n",
    "\n"
   ]
  },
  {
   "cell_type": "code",
   "execution_count": 3,
   "metadata": {},
   "outputs": [],
   "source": [
    "rendered = htmlRenderer.fromstring(response.text)"
   ]
  },
  {
   "cell_type": "code",
   "execution_count": 6,
   "metadata": {},
   "outputs": [],
   "source": [
    "###########################################################################\n",
    "############################## El Mundo ###################################\n",
    "###########################################################################\n",
    "# ps = rendered.xpath(\"//div[@data-section='articleBody']/p\")\n",
    "# ps = rendered.xpath(\"//div[@class='row content cols-70-30']/p\")\n",
    "# ps = rendered.xpath(\"//dl[@class='ue-c-article__interview']\")\n",
    "# ps = rendered.xpath(\"//ul[@class='ue-c-article__list ue-c-article__list--unordered']\")\n",
    "# ps = rendered.xpath(\"//dl[@class='interview']\")\n",
    "\n",
    "###########################################################################\n",
    "############################# 20 Minutos ##################################\n",
    "###########################################################################\n",
    "# ps = rendered.xpath(\"//div[@class='article-text']\")\n",
    "# ps = rendered.xpath(\"//div[@class='gtm-article-text']//span\")\n",
    "# ps = rendered.xpath(\"//div[@class='gtm-article-text']/div[@class='gmail_default']\")\n",
    "\n",
    "###########################################################################\n",
    "############################ La Vanguardia ################################\n",
    "###########################################################################\n",
    "# ps = rendered.xpath(\"//div[@class='content-structure ']//p\")\n",
    "# ps = rendered.xpath(\"//div[@itemprop='articleBody']//p\")\n",
    "\n",
    "###########################################################################\n",
    "################################# ABC #####################################\n",
    "###########################################################################\n",
    "# ps = rendered.xpath(\"//span[@class='cuerpo-texto ']//p\")\n",
    "# ps = rendered.xpath(\"//span[@class='cuerpo-texto  unreg']/p\")\n",
    "# ps = rendered.xpath(\"//span[@class='cuerpo-texto']/p\")\n",
    "# ps = rendered.xpath(\"//div[@id='tab_cronica']/p\")\n",
    "# ps = rendered.xpath(\"//span[@class='cuerpo-texto top-nuevo']//p\")\n",
    "# ps = rendered.xpath(\"//span[@class='contenido-top']//p\")\n",
    "# ps = rendered.xpath(\"//div[@id='tab_directo']//p\")\n",
    "# ps = rendered.xpath(\"//span[@class='cuerpo-texto directo']//p\")\n",
    "ps = rendered.xpath(\"//span[@class='cuerpo-articulo ']\")\n",
    "\n"
   ]
  },
  {
   "cell_type": "code",
   "execution_count": 8,
   "metadata": {
    "scrolled": false
   },
   "outputs": [
    {
     "name": "stdout",
     "output_type": "stream",
     "text": [
      "1\n",
      "<Element span at 0x7fea5c14d908>\n"
     ]
    },
    {
     "data": {
      "text/plain": [
       "'Enviar noticia por correo electrónicoTu nombre *Tu correo electrónico *Su correo electrónico *Expresiones como «se te va a pasar el arroz», «te vas a quedar para vestir santos», o «acabarás sola y rodeada de gatos» son tan chocantes como bochornosas. A las mujeres (sobre todo a ellas, aunque también les sucede a ellos) que no viven en pareja, o no se casan, o se han separado y no tienen una relación nueva o incluso a aquellas que no tienen hijos se les sigue juzgando como si no estuvieran haciendo lo correcto, como si fuese un fracaso o como si esa soledad no hubiese sido realmente elegida de forma voluntaria. Sin embargo, tal como explica la psicóloga Silvia Congost, que acaba de publicar el libro «A solas», saber estar solo es indispensable y además es un signo de madurez, autonomía y riqueza personal.Por eso cuando alguien sienta esa presión social que le lleve a sentirse juzgado o criticado, la experta invita precisamente a «quedarse a solas» para hacer una reflexión que le ayude a analizar por qué existe esa presión y que le permita entender por qué la sociedad actual empuja hacia las relaciones como la única forma de ser feliz. «Nos sentimos presionados, por un lado, por el peso que tiene la estructura de la familia en la sociedad como único modelo válido para la crianza y el desarrollo personal satisfactorio. Y por otro, porque somos sociales y el hecho de estar acompañados y tener alguien siempre a nuestro lado nos da una falsa sensación de seguridad a la que es fácil engancharse», argumenta. Frente a esa presión, Silvia Congost, invita a reafirmarnos en nuestras elecciones: «Aquellos que decidan estar sin pareja en un momento determinado de su vida deben darse cuenta de que la suya es una postura tan válida como cualquiera y pueden ser igual de felices o más que aquellos que están en una relación», aclara. Cómo disfrutar de la soledad elegidaEnfrentarse a los domingos por la tarde, al silencio de las noches sin llamadas, a las cenas en grupo en las que eres la única persona sin pareja, a los días de cine en solitario y a los «lo siento, ya he quedado» de algunos amigos puede verse de otra manera si, tal como propone Silvia Congost en «A solas» vivimos con más consciencia y con más presencia. «Aprovecha para conocerte y para permitirte sentir y ser tú mismo, ve a por lo que de verdad deseas y experimenta la vida de forma más intensa», aconseja. La psicóloga, que es experta en autoestima, dependencia emocional y conflictos de pareja, destaca que cuando uno está solo sus decisiones dependen solo de él y eso da una libertad añadida que puede aportar mucho valor. «Al estar en pareja renunciamos a muchas cosas por adaptarnos al otro. De hecho, en la vida estamos eligiendo y renunciando constantemente», añade.  ¿Y qué pasa con los que prefieren estar solas por miedo al compromiso? Es probable, tal como explica Silvia Congost, que hayan sufrido una traición en una relación y eso haya provocado un trauma que les impida volverse a implicar o a comprometerse con otra persona. «Si esto sucede, sería importante hacer un proceso terapéutico para resolverlo y ayudarles a que eso no les impida abrirse a otras relaciones que pueden aportarles mucho y hacerles crecer», aconseja.¿Y si no quiero estar solo o sola?En el caso de que realmente no hayamos decidido estar solos de forma voluntaria tendremos que atravesar un proceso de duelo porque, si la soledad no es elegida significa que, tal como revela Congost, estamos viviendo una pérdida. El duelo implica negación, rabia y tristeza. «Pasaremos por períodos en los que estas emociones nos van a producir dolor, pero debemos entender que es lo normal y que eso también pasa», aconseja. En este sentido, la psicóloga recomienda esforzarse por seguir adelante, por hacer cosas que antes nos gustaban y hacerlas aunque ahora no nos apetezca tanto, quedar con amigos y las personas de nuestro entorno con las nos sintamos bien y así, poco a poco, lograr estar cada día más a gusto con nosotros mismos, «mirando a un nuevo mañana que nos devuelva la ilusión». TemasSoledadAmorPsicologíaSexoParejasSolteros (Cine)Singles Comentarios-44%25€14€Entradas Parque Lezama MadridTeatro Fígaro                 Llévatelo con OferplanCódigo promocional eDreamsCódigo descuento eDreamsVer Descuentos ABC'"
      ]
     },
     "execution_count": 8,
     "metadata": {},
     "output_type": "execute_result"
    }
   ],
   "source": [
    "print(len(ps))\n",
    "contentArr = []\n",
    "contentStr = \"\"\n",
    "for p in ps:\n",
    "    print(p)\n",
    "    contentArr.append(p.text_content())\n",
    "    contentStr = \" \".join([parrafo for parrafo in contentArr])\n",
    "    \n",
    "contentStr\n",
    "    "
   ]
  },
  {
   "cell_type": "code",
   "execution_count": 13,
   "metadata": {},
   "outputs": [],
   "source": [
    "el = ps[0]\n",
    "el_children = el.getchildren()[3]\n",
    "\n",
    "el_children_7 = el.getchildren()[7]"
   ]
  },
  {
   "cell_type": "code",
   "execution_count": 29,
   "metadata": {},
   "outputs": [],
   "source": [
    "el_children.get(\"id\")"
   ]
  },
  {
   "cell_type": "code",
   "execution_count": 30,
   "metadata": {},
   "outputs": [
    {
     "name": "stdout",
     "output_type": "stream",
     "text": [
      "None\n",
      "compartir-redes\n",
      "None\n",
      "None\n",
      "None\n",
      "None\n",
      "None\n",
      "None\n",
      "None\n",
      "None\n",
      "None\n",
      "None\n",
      "None\n",
      "None\n",
      "None\n",
      "taboola-below-article-thumbnails\n",
      "taboola-organic-below-article-thumbnails\n",
      "disqus_thread\n",
      "None\n"
     ]
    }
   ],
   "source": [
    "for children in el.getchildren():\n",
    "    print(children.get(\"id\"))"
   ]
  },
  {
   "cell_type": "code",
   "execution_count": 125,
   "metadata": {},
   "outputs": [
    {
     "data": {
      "text/plain": [
       "range(0, 10)"
      ]
     },
     "execution_count": 125,
     "metadata": {},
     "output_type": "execute_result"
    }
   ],
   "source": [
    "range(10)"
   ]
  },
  {
   "cell_type": "code",
   "execution_count": 126,
   "metadata": {},
   "outputs": [
    {
     "name": "stdout",
     "output_type": "stream",
     "text": [
      "0\n",
      "1\n",
      "2\n",
      "3\n",
      "4\n",
      "5\n",
      "6\n",
      "7\n",
      "8\n",
      "9\n"
     ]
    }
   ],
   "source": [
    "for i in range(10):\n",
    "    print(i)"
   ]
  },
  {
   "cell_type": "code",
   "execution_count": null,
   "metadata": {
    "collapsed": true
   },
   "outputs": [],
   "source": []
  }
 ],
 "metadata": {
  "kernelspec": {
   "display_name": "Python 3",
   "language": "python",
   "name": "python3"
  },
  "language_info": {
   "codemirror_mode": {
    "name": "ipython",
    "version": 3
   },
   "file_extension": ".py",
   "mimetype": "text/x-python",
   "name": "python",
   "nbconvert_exporter": "python",
   "pygments_lexer": "ipython3",
   "version": "3.6.8"
  }
 },
 "nbformat": 4,
 "nbformat_minor": 1
}
