{
 "cells": [
  {
   "cell_type": "code",
   "execution_count": 1,
   "metadata": {},
   "outputs": [],
   "source": [
    "import requests\n",
    "from lxml import html as htmlRenderer"
   ]
  },
  {
   "cell_type": "code",
   "execution_count": 2,
   "metadata": {},
   "outputs": [],
   "source": [
    "\n",
    "url = \"https://www.20minutos.es/noticia/3801977/0/pastora-soler-rosana-formaran-parte-segunda-edicion-la-voz-senior/\"\n",
    "response = requests.get(url)\n",
    "\n"
   ]
  },
  {
   "cell_type": "code",
   "execution_count": 3,
   "metadata": {},
   "outputs": [],
   "source": [
    "rendered = htmlRenderer.fromstring(response.text)"
   ]
  },
  {
   "cell_type": "code",
   "execution_count": 4,
   "metadata": {},
   "outputs": [],
   "source": [
    "###########################################################################\n",
    "############################## El Mundo ###################################\n",
    "###########################################################################\n",
    "# ps = rendered.xpath(\"//div[@data-section='articleBody']/p\")\n",
    "# ps = rendered.xpath(\"//div[@class='row content cols-70-30']/p\")\n",
    "# ps = rendered.xpath(\"//dl[@class='ue-c-article__interview']\")\n",
    "# ps = rendered.xpath(\"//ul[@class='ue-c-article__list ue-c-article__list--unordered']\")\n",
    "# ps = rendered.xpath(\"//dl[@class='interview']\")\n",
    "\n",
    "###########################################################################\n",
    "############################# 20 Minutos ##################################\n",
    "###########################################################################\n",
    "ps = rendered.xpath(\"//div[@class='gtm-article-text']//p\")\n",
    "# ps = rendered.xpath(\"//div[@class='gtm-article-text']//span\")\n",
    "# ps = rendered.xpath(\"//div[@class='gtm-article-text']/div[@class='gmail_default']\")\n",
    "\n",
    "###########################################################################\n",
    "############################ La Vanguardia ################################\n",
    "###########################################################################\n",
    "# ps = rendered.xpath(\"//div[@class='content-structure ']//p\")\n",
    "# ps = rendered.xpath(\"//div[@itemprop='articleBody']//p\")\n",
    "\n",
    "###########################################################################\n",
    "################################# ABC #####################################\n",
    "###########################################################################\n",
    "# ps = rendered.xpath(\"//span[@class='cuerpo-texto ']//p\")\n",
    "# ps = rendered.xpath(\"//span[@class='cuerpo-texto  unreg']/p\")\n",
    "# ps = rendered.xpath(\"//span[@class='cuerpo-texto']/p\")\n",
    "# ps = rendered.xpath(\"//div[@id='tab_cronica']/p\")\n",
    "# ps = rendered.xpath(\"//span[@class='cuerpo-texto top-nuevo']//p\")\n",
    "# ps = rendered.xpath(\"//span[@class='contenido-top']//p\")\n",
    "# ps = rendered.xpath(\"//div[@id='tab_directo']//p\")\n",
    "# ps = rendered.xpath(\"//span[@class='cuerpo-texto directo']//p\")\n",
    "\n"
   ]
  },
  {
   "cell_type": "code",
   "execution_count": 5,
   "metadata": {},
   "outputs": [
    {
     "name": "stdout",
     "output_type": "stream",
     "text": [
      "0\n"
     ]
    },
    {
     "data": {
      "text/plain": [
       "''"
      ]
     },
     "execution_count": 5,
     "metadata": {},
     "output_type": "execute_result"
    }
   ],
   "source": [
    "print(len(ps))\n",
    "contentArr = []\n",
    "contentStr = \"\"\n",
    "for p in ps:\n",
    "    contentArr.append(p.text_content())\n",
    "    contentStr = \"\".join([parrafo for parrafo in contentArr])\n",
    "    \n",
    "contentStr\n",
    "    "
   ]
  },
  {
   "cell_type": "code",
   "execution_count": 125,
   "metadata": {},
   "outputs": [
    {
     "data": {
      "text/plain": [
       "range(0, 10)"
      ]
     },
     "execution_count": 125,
     "metadata": {},
     "output_type": "execute_result"
    }
   ],
   "source": [
    "range(10)"
   ]
  },
  {
   "cell_type": "code",
   "execution_count": 126,
   "metadata": {},
   "outputs": [
    {
     "name": "stdout",
     "output_type": "stream",
     "text": [
      "0\n",
      "1\n",
      "2\n",
      "3\n",
      "4\n",
      "5\n",
      "6\n",
      "7\n",
      "8\n",
      "9\n"
     ]
    }
   ],
   "source": [
    "for i in range(10):\n",
    "    print(i)"
   ]
  },
  {
   "cell_type": "code",
   "execution_count": null,
   "metadata": {
    "collapsed": true
   },
   "outputs": [],
   "source": []
  }
 ],
 "metadata": {
  "kernelspec": {
   "display_name": "Python 3",
   "language": "python",
   "name": "python3"
  },
  "language_info": {
   "codemirror_mode": {
    "name": "ipython",
    "version": 3
   },
   "file_extension": ".py",
   "mimetype": "text/x-python",
   "name": "python",
   "nbconvert_exporter": "python",
   "pygments_lexer": "ipython3",
   "version": "3.6.8"
  }
 },
 "nbformat": 4,
 "nbformat_minor": 1
}
