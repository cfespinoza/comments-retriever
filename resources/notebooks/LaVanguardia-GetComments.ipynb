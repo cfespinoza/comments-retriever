{
 "cells": [
  {
   "cell_type": "code",
   "execution_count": 7,
   "metadata": {
    "collapsed": true
   },
   "outputs": [],
   "source": [
    "import sys\n",
    "from lxml import html as htmlRenderer\n",
    "import requests\n",
    "import json\n",
    "from datetime import date\n",
    "from datetime import datetime\n",
    "from random import *\n",
    "import base64"
   ]
  },
  {
   "cell_type": "code",
   "execution_count": 18,
   "metadata": {
    "collapsed": true
   },
   "outputs": [],
   "source": [
    "# urlInfoComments = \"https://grupogodo1.bootstrap.fyre.co/api/v1.1/public/comments/ncomments/{}.json\"\n",
    "urlInfoComments = \"https://data.livefyre.com/bs3/v3.1/grupogodo1.fyre.co/{}/{}/init\"\n",
    "urlGetComments = \"https://data.livefyre.com/bs3/v3.1/grupogodo1.fyre.co/{}/{}/{}.json\"\n",
    "urlXpathQuery = \"//div[@class='main']//i/@data-href\""
   ]
  },
  {
   "cell_type": "code",
   "execution_count": 9,
   "metadata": {
    "collapsed": true
   },
   "outputs": [],
   "source": [
    "def extractComments(commentsList=None, authorObjectList=None, urlNoticia=None, specialCase=None):\n",
    "    print(\" \\t -> parsing comments list with -{}- elements:\".format(len(commentsList)))\n",
    "    parsedComments = []\n",
    "    listToParse = commentsList[1] if specialCase else commentsList\n",
    "    for commentObj in listToParse:\n",
    "        contentObj = commentObj.get(\"content\", None)\n",
    "        isValidContent = \"bodyHtml\" in contentObj.keys()\n",
    "        if isValidContent:\n",
    "            fechaObj = datetime.fromtimestamp(contentObj[\"createdAt\"])\n",
    "            fechaStr = fechaObj.strftime(\"%d/%m/%Y-%H:%M:%S\")\n",
    "            fechaArr = fechaStr.split(\"-\")\n",
    "            parsedComment = {\n",
    "                \"urlNoticia\": urlNoticia,\n",
    "                \"fecha\": fechaArr[0],\n",
    "                \"hora\": fechaArr[1],\n",
    "                \"user\": authorObjectList[contentObj['authorId']]['displayName'],\n",
    "                \"commentario\": contentObj['bodyHtml']\n",
    "            }\n",
    "            parsedComments.append(parsedComment)\n",
    "    return parsedComments\n"
   ]
  },
  {
   "cell_type": "code",
   "execution_count": 25,
   "metadata": {
    "collapsed": true
   },
   "outputs": [],
   "source": [
    "def lookupForComments(renderedPageHtml=None, url=None):\n",
    "    commendInfoKeysElArr = renderedPageHtml.xpath(\"//label[@class='livefyre-commentcount']\")\n",
    "    pageComments = []\n",
    "    if len(commendInfoKeysElArr) > 0:\n",
    "        commentInfoEl = commendInfoKeysElArr[0]\n",
    "        commentSiteId = commentInfoEl.get(\"data-lf-site-id\")\n",
    "        commentArticleId = commentInfoEl.get(\"data-lf-article-id\")\n",
    "        if (commentSiteId != \"\" and commentArticleId != \"\"):\n",
    "            print(\" \\t-> data-lf-site-id to get comments is: {}\".format(commentSiteId))\n",
    "            print(\" \\t-> data-lf-article-id to get comments is: {}\".format(commentArticleId))\n",
    "\n",
    "            # Get Comments Info\n",
    "            urlParam = \"{}:{}\".format(commentSiteId, commentArticleId)\n",
    "            urlParamBase64 = str(base64.b64encode(urlParam.encode(\"utf-8\")), \"utf-8\")\n",
    "            commentElArticleIdEncoded = str(base64.b64encode(commentArticleId.encode(\"utf-8\")), \"utf-8\")\n",
    "            urlInfoCommentsEncoded = urlInfoComments.format(commentSiteId, commentElArticleIdEncoded)\n",
    "            print(\" \\t-> getting information for article: {}\".format(urlInfoCommentsEncoded))\n",
    "            responseInfoComments = requests.get(urlInfoCommentsEncoded)\n",
    "            infoComments = json.loads(responseInfoComments.text)\n",
    "            if infoComments[\"collectionSettings\"][\"numVisible\"] > 0:\n",
    "                # La info dice que hay comentarios, se procede a obtenerlos\n",
    "                pages = infoComments[\"collectionSettings\"][\"archiveInfo\"][\"nPages\"]\n",
    "                print(\" \\t-> total of comments for current article: {}\".format(\n",
    "                    infoComments[\"collectionSettings\"][\"numVisible\"]))\n",
    "                print(\" \\t-> total of pages for current article: {}\".format(pages))\n",
    "                \n",
    "                for page in range(pages):\n",
    "                    urlGetCommentsEncoded = urlGetComments.format(commentSiteId, commentElArticleIdEncoded, page)\n",
    "                    print(\" \\t -> getting comments with url: {}\".format(urlGetCommentsEncoded))\n",
    "                    responseComments = requests.get(urlGetCommentsEncoded)\n",
    "                    commentsResponse = json.loads(responseComments.text)\n",
    "                    pageComments = pageComments + extractComments(commentsResponse['content'],\n",
    "                                                        commentsResponse['authors'], url)\n",
    "                print(\" \\t -> retrieved total of {} comments\".format(len(pageComments)))\n",
    "                print(\n",
    "                    \"#############################################################################################\")\n",
    "    return pageComments"
   ]
  },
  {
   "cell_type": "code",
   "execution_count": 35,
   "metadata": {
    "collapsed": false
   },
   "outputs": [
    {
     "name": "stdout",
     "output_type": "stream",
     "text": [
      " \t-> data-lf-site-id to get comments is: 351112\n",
      " \t-> data-lf-article-id to get comments is: 9eb06270-75d2-11e9-b72a-308b3042036b\n",
      " \t-> getting information for article: https://data.livefyre.com/bs3/v3.1/grupogodo1.fyre.co/351112/OWViMDYyNzAtNzVkMi0xMWU5LWI3MmEtMzA4YjMwNDIwMzZi/init\n",
      " \t-> total of comments for current article: 8\n",
      " \t-> total of pages for current article: 1\n",
      " \t -> getting comments with url: https://data.livefyre.com/bs3/v3.1/grupogodo1.fyre.co/351112/OWViMDYyNzAtNzVkMi0xMWU5LWI3MmEtMzA4YjMwNDIwMzZi/0.json\n",
      " \t -> parsing comments list with -17- elements:\n",
      " \t -> retrieved total of 8 comments\n",
      "#############################################################################################\n"
     ]
    }
   ],
   "source": [
    "url=\"https://www.lavanguardia.com/local/barcelona/20190514/462232803499/josep-bou-pp-elecciones-municipales-barcelona.html\"\n",
    "renderUrl = requests.get(url)\n",
    "renderedPage = htmlRenderer.fromstring(renderUrl.text)\n",
    "comments = lookupForComments(renderedPage, url)"
   ]
  },
  {
   "cell_type": "code",
   "execution_count": 32,
   "metadata": {
    "collapsed": false
   },
   "outputs": [
    {
     "data": {
      "text/plain": [
       "678"
      ]
     },
     "execution_count": 32,
     "metadata": {},
     "output_type": "execute_result"
    }
   ],
   "source": [
    "len(comments)"
   ]
  },
  {
   "cell_type": "code",
   "execution_count": null,
   "metadata": {
    "collapsed": true
   },
   "outputs": [],
   "source": []
  },
  {
   "cell_type": "code",
   "execution_count": null,
   "metadata": {
    "collapsed": true
   },
   "outputs": [],
   "source": []
  },
  {
   "cell_type": "code",
   "execution_count": null,
   "metadata": {
    "collapsed": true
   },
   "outputs": [],
   "source": []
  },
  {
   "cell_type": "code",
   "execution_count": null,
   "metadata": {
    "collapsed": true
   },
   "outputs": [],
   "source": []
  },
  {
   "cell_type": "code",
   "execution_count": null,
   "metadata": {
    "collapsed": true
   },
   "outputs": [],
   "source": []
  }
 ],
 "metadata": {
  "kernelspec": {
   "display_name": "Python 3",
   "language": "python",
   "name": "python3"
  },
  "language_info": {
   "codemirror_mode": {
    "name": "ipython",
    "version": 3
   },
   "file_extension": ".py",
   "mimetype": "text/x-python",
   "name": "python",
   "nbconvert_exporter": "python",
   "pygments_lexer": "ipython3",
   "version": "3.6.8"
  }
 },
 "nbformat": 4,
 "nbformat_minor": 0
}
